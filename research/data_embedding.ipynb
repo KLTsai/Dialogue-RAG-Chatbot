{
 "cells": [
  {
   "cell_type": "code",
   "execution_count": null,
   "id": "ae26a980",
   "metadata": {},
   "outputs": [],
   "source": [
    "import os\n",
    "%pwd"
   ]
  },
  {
   "cell_type": "code",
   "execution_count": 2,
   "id": "95550764",
   "metadata": {},
   "outputs": [],
   "source": [
    "os.chdir(\"../\")"
   ]
  },
  {
   "cell_type": "code",
   "execution_count": null,
   "id": "b2981666",
   "metadata": {},
   "outputs": [],
   "source": [
    "%pwd"
   ]
  },
  {
   "cell_type": "code",
   "execution_count": 4,
   "id": "8ae89ec7",
   "metadata": {},
   "outputs": [],
   "source": [
    "from dataclasses import dataclass\n",
    "from pathlib import Path"
   ]
  },
  {
   "cell_type": "code",
   "execution_count": 5,
   "id": "70794d1c",
   "metadata": {},
   "outputs": [],
   "source": [
    "@dataclass(frozen=True)\n",
    "class DataIngestionConfig:\n",
    "    root_dir: Path\n",
    "    source_URL: str\n",
    "    local_data_file: Path\n",
    "    unzip_dir: Path\n",
    "\n",
    "@dataclass(frozen=True)\n",
    "class DataEmbeddingConfig:\n",
    "    root_dir: Path\n",
    "    data_path: Path\n",
    "    model_name: str\n",
    "    text_column: str # 要進行 embedding 的欄位名稱"
   ]
  },
  {
   "cell_type": "code",
   "execution_count": null,
   "id": "5a7f9ffb",
   "metadata": {},
   "outputs": [],
   "source": [
    "from dialogue_rag_chatbot.constants import *\n",
    "from dialogue_rag_chatbot.utils.common import read_yaml, create_directories"
   ]
  },
  {
   "cell_type": "code",
   "execution_count": 7,
   "id": "630d4fd5",
   "metadata": {},
   "outputs": [],
   "source": [
    "class ConfigurationManager:\n",
    "    def __init__(\n",
    "        self,\n",
    "        config_filepath = CONFIG_FILE_PATH,\n",
    "        params_filepath = PARAMS_FILE_PATH):\n",
    "\n",
    "        self.config = read_yaml(config_filepath)\n",
    "        self.params = read_yaml(params_filepath)\n",
    "\n",
    "        create_directories([self.config.artifacts_root])\n",
    "    \n",
    "    def get_data_ingestion_config(self) -> DataIngestionConfig:\n",
    "        config = self.config.data_ingestion\n",
    "\n",
    "        create_directories([config.root_dir])\n",
    "\n",
    "        data_ingestion_config = DataIngestionConfig(\n",
    "            root_dir=config.root_dir,\n",
    "            source_URL=config.source_URL,\n",
    "            local_data_file=config.local_data_file,\n",
    "            unzip_dir=config.unzip_dir \n",
    "        )\n",
    "\n",
    "        return data_ingestion_config\n",
    "\n",
    "    # def get_data_loading_config(self) -> DataLoadingConfig:\n",
    "    #     config = self.config.data_loading\n",
    "        \n",
    "    #     create_directories([config.root_dir])\n",
    "\n",
    "    #     data_validation_config = DataLoadingConfig(\n",
    "    #         root_dir=config.root_dir,\n",
    "    #         ALL_REQUIRED_FILES=config.ALL_REQUIRED_FILES\n",
    "    #     )\n",
    "\n",
    "    #     return data_validation_config\n",
    "    \n",
    "    def get_data_embedding_config(self) -> DataEmbeddingConfig:\n",
    "        config = self.config.data_embedding\n",
    "\n",
    "        create_directories([config.root_dir])\n",
    "        data_embedding_config = DataEmbeddingConfig(\n",
    "            root_dir = config.root_dir,\n",
    "            data_path = config.data_path,\n",
    "            model_name = config.model_name,\n",
    "            text_column= config.text_column\n",
    "        )\n",
    "\n",
    "        return data_embedding_config"
   ]
  },
  {
   "cell_type": "code",
   "execution_count": null,
   "id": "f34a8531",
   "metadata": {},
   "outputs": [
    {
     "name": "stderr",
     "output_type": "stream",
     "text": [
      "c:\\Users\\Kun\\miniconda3\\envs\\legalrag\\lib\\site-packages\\tqdm\\auto.py:21: TqdmWarning: IProgress not found. Please update jupyter and ipywidgets. See https://ipywidgets.readthedocs.io/en/stable/user_install.html\n",
      "  from .autonotebook import tqdm as notebook_tqdm\n"
     ]
    },
    {
     "name": "stdout",
     "output_type": "stream",
     "text": [
      "[2025-09-26 13:05:14,057: INFO: utils: NumExpr defaulting to 16 threads.]\n"
     ]
    }
   ],
   "source": [
    "import os\n",
    "from dialogue_rag_chatbot.logging import logger\n",
    "from sentence_transformers import SentenceTransformer\n",
    "from datasets import load_dataset\n",
    "from typing import List, Dict, Any, Tuple"
   ]
  },
  {
   "cell_type": "code",
   "execution_count": 9,
   "id": "7800543d",
   "metadata": {},
   "outputs": [],
   "source": [
    "# class DataLoading:\n",
    "#     def __init__(self, config: DataLoadingConfig):\n",
    "#         self.config = config # path\n",
    "    \n",
    "#     def _convert_dataset(self, dataset_json, file_type: str):\n",
    "#         \"\"\"\n",
    "#         Convert HuggingFace dataset to list of dicts with content and metadata\n",
    "        \n",
    "#         Args:\n",
    "#             dataset_json: HuggingFace dataset object (DatasetDict)\n",
    "#             file_type: str, e.g. \"train\", \"test\", \"validation\"\n",
    "\n",
    "#         Returns:\n",
    "#             List[dict]\n",
    "#         \"\"\"\n",
    "#         documents = []\n",
    "#         split_name = list(dataset_json.keys())[0]\n",
    "#         dataset = dataset_json[split_name]\n",
    "\n",
    "#         # for row in dataset:\n",
    "#         #     documents.append({\n",
    "#         #         \"content\": row[\"dialogue\"],\n",
    "#         #         \"metadata\": {\n",
    "#         #             \"source\": row[\"id\"],\n",
    "#         #             \"file_type\": file_type,\n",
    "#         #             \"summary\": row[\"summary\"]\n",
    "#         #         }\n",
    "#         #     })\n",
    "\n",
    "#         return documents\n",
    "\n",
    "\n",
    "#     def load_docs(self):\n",
    "#         \"\"\"\n",
    "#         Load documents from file paths\n",
    "            \n",
    "#         Returns:\n",
    "#             List of document dictionaries with content and metadata\n",
    "#         \"\"\"\n",
    "#         documents = []\n",
    "#         # Obtain all file under directory of artifacts/data_ingestion \n",
    "#         all_files = os.listdir(os.path.join(\"artifacts\", \"data_ingestion\"))\n",
    "#         print(f'all files: {all_files}')\n",
    "\n",
    "#         for required_file in self.config.ALL_REQUIRED_FILES:\n",
    "#             try:\n",
    "#                 if required_file in all_files:\n",
    "#                     path = os.path.join(\"artifacts\", \"data_ingestion\", required_file)\n",
    "#                     dataset_json = load_dataset(\"json\", data_files=path)\n",
    "#                     file_type = os.path.splitext(required_file)[0]\n",
    "\n",
    "#                     converted = self._convert_dataset(dataset_json, file_type)\n",
    "#                     documents.extend(converted)\n",
    "#             except Exception as e:\n",
    "#                 logger.error(f\"Error loading {path}: {str(e)}\")\n",
    "                \n",
    "#         logger.info(f\"Total documents loaded: {len(documents)}\")\n",
    "#         return documents\n",
    "###########################################################################################################\n",
    "\n",
    "class EmbeddingModel:\n",
    "    \"\"\"Granite embedding model using SentenceTransformers\"\"\"\n",
    "    \n",
    "    def __init__(self, config: DataEmbeddingConfig):\n",
    "        self.model_name = config.model_name\n",
    "        try:\n",
    "            self.model = SentenceTransformer(self.model_name)\n",
    "            logger.info(f\"Granite embedding model '{self.model_name}' loaded successfully\")\n",
    "        except Exception as e:\n",
    "            logger.error(f\"Failed to load model {self.model_name}: {str(e)}\")\n",
    "            raise\n",
    "    \n",
    "    def encode(self, texts):\n",
    "        \"\"\"Encode texts into embeddings\"\"\"\n",
    "        try:\n",
    "            # Granite embedding models return 768-dimensional vectors\n",
    "            embeddings = self.model.encode(texts, convert_to_numpy=True)\n",
    "            logger.info(f\"Encoded {len(texts)} texts into embeddings of shape {embeddings.shape}\")\n",
    "            return embeddings\n",
    "        except Exception as e:\n",
    "            logger.error(f\"Error encoding texts: {str(e)}\")\n",
    "            raise\n",
    "\n",
    "\n",
    "class DataEmbeddingTransformation:\n",
    "    \"\"\"\n",
    "    Transforms text data into embeddings using a specified model.\n",
    "    \"\"\"\n",
    "    def __init__(self, config: DataEmbeddingConfig):\n",
    "        self.config = config\n",
    "        self.embedding_model = EmbeddingModel(config=config)\n",
    "\n",
    "    def _generate_embeddings(self, batch: Dict[str, List]):\n",
    "        \"\"\"\n",
    "        Takes a batch of examples and generates embeddings for the specified text column.\n",
    "        This method is designed to be used with dataset.map().\n",
    "        \"\"\"\n",
    "        texts = batch[self.config.text_column]\n",
    "        embeddings = self.embedding_model.encode(texts)\n",
    "        # 返回一個字典，key 是新的欄位名，value 是 embedding 列表\n",
    "        return {\"embedding\": embeddings.tolist()}\n",
    "\n",
    "    def convert(self, save_path: str = \"samsum_dataset\"):\n",
    "        \"\"\"\n",
    "        Loads the dataset, generates embeddings for the text column,\n",
    "        and saves the processed dataset to disk.\n",
    "        \"\"\"\n",
    "        logger.info(f\"Loading dataset from '{self.config.data_path}'...\")\n",
    "        # 載入資料集，這裡只取訓練集的前100筆作為範例\n",
    "        dataset = load_dataset(self.config.data_path, split=\"train\") \n",
    "        # dataset = load_dataset(self.config.data_path) \n",
    "        logger.info(f\"Generating embeddings for column '{self.config.text_column}'...\")\n",
    "        # 使用 .map() 將 embedding 函數應用於整個資料集\n",
    "        # batched=True 和適當的 batch_size 可以大幅提升處理速度\n",
    "        dataset_with_embeddings = dataset.map(\n",
    "            self._generate_embeddings, \n",
    "            batched=True, \n",
    "            batch_size=32  # 可根據您的硬體調整\n",
    "        )\n",
    "        \n",
    "        # 儲存處理完畢的資料集\n",
    "        output_path = os.path.join(self.config.root_dir, save_path)\n",
    "        logger.info(f\"Saving dataset with embeddings to '{output_path}'...\")\n",
    "        dataset_with_embeddings.save_to_disk(output_path)\n",
    "        \n",
    "        logger.info(\"Data embedding transformation complete.\")\n",
    "        return dataset_with_embeddings\n",
    "\n"
   ]
  },
  {
   "cell_type": "code",
   "execution_count": null,
   "id": "dd0d3a09",
   "metadata": {},
   "outputs": [
    {
     "name": "stdout",
     "output_type": "stream",
     "text": [
      "[2025-09-25 22:06:55,455: INFO: common: yaml file: config\\config.yaml loaded successfully]\n",
      "[2025-09-25 22:06:55,470: INFO: common: yaml file: params.yaml loaded successfully]\n",
      "[2025-09-25 22:06:55,473: INFO: common: created directory at: artifacts]\n",
      "[2025-09-25 22:06:55,475: INFO: common: created directory at: artifacts/data_loading]\n",
      "all files: ['data.7z', 'licence.txt', 'README.txt', 'test.json', 'train.json', 'val.json']\n",
      "[2025-09-25 22:06:56,768: INFO: 3729515940: Total documents loaded: 819]\n"
     ]
    }
   ],
   "source": [
    "# try:\n",
    "#     config = ConfigurationManager()\n",
    "#     data_loading_config = config.get_data_loading_config()\n",
    "#     data_loading = DataLoading(config=data_loading_config)\n",
    "#     data_contents = data_loading.load_docs()\n",
    "    \n",
    "# except Exception as e:\n",
    "#     raise e"
   ]
  },
  {
   "cell_type": "code",
   "execution_count": 10,
   "id": "b8b30c9b",
   "metadata": {},
   "outputs": [
    {
     "name": "stdout",
     "output_type": "stream",
     "text": [
      "[2025-09-26 13:05:28,416: INFO: common: yaml file: config\\config.yaml loaded successfully]\n",
      "[2025-09-26 13:05:28,429: INFO: common: yaml file: params.yaml loaded successfully]\n",
      "[2025-09-26 13:05:28,432: INFO: common: created directory at: artifacts]\n",
      "[2025-09-26 13:05:28,434: INFO: common: created directory at: artifacts/data_embedding]\n",
      "[2025-09-26 13:05:28,440: INFO: SentenceTransformer: Use pytorch device_name: cpu]\n",
      "[2025-09-26 13:05:28,441: INFO: SentenceTransformer: Load pretrained SentenceTransformer: ibm-granite/granite-embedding-278m-multilingual]\n",
      "[2025-09-26 13:05:36,326: INFO: 2931596709: Granite embedding model 'ibm-granite/granite-embedding-278m-multilingual' loaded successfully]\n",
      "[2025-09-26 13:05:36,328: INFO: 2931596709: Loading dataset from 'artifacts/data_ingestion'...]\n",
      "[2025-09-26 13:05:36,490: INFO: 2931596709: Generating embeddings for column 'dialogue'...]\n"
     ]
    },
    {
     "name": "stderr",
     "output_type": "stream",
     "text": [
      "Batches: 100%|██████████| 1/1 [00:14<00:00, 14.25s/it]"
     ]
    },
    {
     "name": "stdout",
     "output_type": "stream",
     "text": [
      "[2025-09-26 13:06:11,439: INFO: 2931596709: Encoded 32 texts into embeddings of shape (32, 768)]\n"
     ]
    },
    {
     "name": "stderr",
     "output_type": "stream",
     "text": [
      "\n",
      "Batches: 100%|██████████| 1/1 [00:11<00:00, 11.19s/it]xamples/s]"
     ]
    },
    {
     "name": "stdout",
     "output_type": "stream",
     "text": [
      "[2025-09-26 13:06:22,691: INFO: 2931596709: Encoded 32 texts into embeddings of shape (32, 768)]\n"
     ]
    },
    {
     "name": "stderr",
     "output_type": "stream",
     "text": [
      "\n",
      "Batches: 100%|██████████| 1/1 [00:14<00:00, 14.45s/it]xamples/s]"
     ]
    },
    {
     "name": "stdout",
     "output_type": "stream",
     "text": [
      "[2025-09-26 13:06:37,162: INFO: 2931596709: Encoded 32 texts into embeddings of shape (32, 768)]\n"
     ]
    },
    {
     "name": "stderr",
     "output_type": "stream",
     "text": [
      "\n",
      "Batches: 100%|██████████| 1/1 [00:11<00:00, 11.50s/it]xamples/s]"
     ]
    },
    {
     "name": "stdout",
     "output_type": "stream",
     "text": [
      "[2025-09-26 13:06:48,695: INFO: 2931596709: Encoded 32 texts into embeddings of shape (32, 768)]\n"
     ]
    },
    {
     "name": "stderr",
     "output_type": "stream",
     "text": [
      "\n",
      "Batches: 100%|██████████| 1/1 [00:07<00:00,  7.64s/it]examples/s]"
     ]
    },
    {
     "name": "stdout",
     "output_type": "stream",
     "text": [
      "[2025-09-26 13:06:56,356: INFO: 2931596709: Encoded 32 texts into embeddings of shape (32, 768)]\n"
     ]
    },
    {
     "name": "stderr",
     "output_type": "stream",
     "text": [
      "\n",
      "Batches: 100%|██████████| 1/1 [00:09<00:00,  9.26s/it]examples/s]"
     ]
    },
    {
     "name": "stdout",
     "output_type": "stream",
     "text": [
      "[2025-09-26 13:07:05,647: INFO: 2931596709: Encoded 32 texts into embeddings of shape (32, 768)]\n"
     ]
    },
    {
     "name": "stderr",
     "output_type": "stream",
     "text": [
      "\n",
      "Batches: 100%|██████████| 1/1 [00:07<00:00,  7.30s/it]examples/s]"
     ]
    },
    {
     "name": "stdout",
     "output_type": "stream",
     "text": [
      "[2025-09-26 13:07:12,972: INFO: 2931596709: Encoded 32 texts into embeddings of shape (32, 768)]\n"
     ]
    },
    {
     "name": "stderr",
     "output_type": "stream",
     "text": [
      "\n",
      "Batches: 100%|██████████| 1/1 [00:11<00:00, 11.91s/it]examples/s]"
     ]
    },
    {
     "name": "stdout",
     "output_type": "stream",
     "text": [
      "[2025-09-26 13:07:24,898: INFO: 2931596709: Encoded 32 texts into embeddings of shape (32, 768)]\n"
     ]
    },
    {
     "name": "stderr",
     "output_type": "stream",
     "text": [
      "\n",
      "Batches: 100%|██████████| 1/1 [00:07<00:00,  7.50s/it]examples/s]"
     ]
    },
    {
     "name": "stdout",
     "output_type": "stream",
     "text": [
      "[2025-09-26 13:07:32,423: INFO: 2931596709: Encoded 32 texts into embeddings of shape (32, 768)]\n"
     ]
    },
    {
     "name": "stderr",
     "output_type": "stream",
     "text": [
      "\n",
      "Batches: 100%|██████████| 1/1 [00:12<00:00, 12.54s/it]examples/s]"
     ]
    },
    {
     "name": "stdout",
     "output_type": "stream",
     "text": [
      "[2025-09-26 13:07:44,993: INFO: 2931596709: Encoded 32 texts into embeddings of shape (32, 768)]\n"
     ]
    },
    {
     "name": "stderr",
     "output_type": "stream",
     "text": [
      "\n",
      "Batches: 100%|██████████| 1/1 [00:14<00:00, 14.06s/it]examples/s]"
     ]
    },
    {
     "name": "stdout",
     "output_type": "stream",
     "text": [
      "[2025-09-26 13:07:59,073: INFO: 2931596709: Encoded 32 texts into embeddings of shape (32, 768)]\n"
     ]
    },
    {
     "name": "stderr",
     "output_type": "stream",
     "text": [
      "\n",
      "Batches: 100%|██████████| 1/1 [00:10<00:00, 10.19s/it]examples/s]"
     ]
    },
    {
     "name": "stdout",
     "output_type": "stream",
     "text": [
      "[2025-09-26 13:08:09,287: INFO: 2931596709: Encoded 32 texts into embeddings of shape (32, 768)]\n"
     ]
    },
    {
     "name": "stderr",
     "output_type": "stream",
     "text": [
      "\n",
      "Batches: 100%|██████████| 1/1 [00:14<00:00, 14.50s/it]examples/s]"
     ]
    },
    {
     "name": "stdout",
     "output_type": "stream",
     "text": [
      "[2025-09-26 13:08:23,813: INFO: 2931596709: Encoded 32 texts into embeddings of shape (32, 768)]\n"
     ]
    },
    {
     "name": "stderr",
     "output_type": "stream",
     "text": [
      "\n",
      "Batches: 100%|██████████| 1/1 [00:07<00:00,  7.52s/it]examples/s]"
     ]
    },
    {
     "name": "stdout",
     "output_type": "stream",
     "text": [
      "[2025-09-26 13:08:31,359: INFO: 2931596709: Encoded 32 texts into embeddings of shape (32, 768)]\n"
     ]
    },
    {
     "name": "stderr",
     "output_type": "stream",
     "text": [
      "\n",
      "Batches: 100%|██████████| 1/1 [00:13<00:00, 13.92s/it]examples/s]"
     ]
    },
    {
     "name": "stdout",
     "output_type": "stream",
     "text": [
      "[2025-09-26 13:08:45,301: INFO: 2931596709: Encoded 32 texts into embeddings of shape (32, 768)]\n"
     ]
    },
    {
     "name": "stderr",
     "output_type": "stream",
     "text": [
      "\n",
      "Batches: 100%|██████████| 1/1 [00:12<00:00, 12.66s/it]examples/s]"
     ]
    },
    {
     "name": "stdout",
     "output_type": "stream",
     "text": [
      "[2025-09-26 13:08:57,976: INFO: 2931596709: Encoded 32 texts into embeddings of shape (32, 768)]\n"
     ]
    },
    {
     "name": "stderr",
     "output_type": "stream",
     "text": [
      "\n",
      "Batches: 100%|██████████| 1/1 [00:09<00:00,  9.74s/it]examples/s]"
     ]
    },
    {
     "name": "stdout",
     "output_type": "stream",
     "text": [
      "[2025-09-26 13:09:07,738: INFO: 2931596709: Encoded 32 texts into embeddings of shape (32, 768)]\n"
     ]
    },
    {
     "name": "stderr",
     "output_type": "stream",
     "text": [
      "\n",
      "Batches: 100%|██████████| 1/1 [00:08<00:00,  8.68s/it]examples/s]"
     ]
    },
    {
     "name": "stdout",
     "output_type": "stream",
     "text": [
      "[2025-09-26 13:09:16,436: INFO: 2931596709: Encoded 32 texts into embeddings of shape (32, 768)]\n"
     ]
    },
    {
     "name": "stderr",
     "output_type": "stream",
     "text": [
      "\n",
      "Batches: 100%|██████████| 1/1 [00:11<00:00, 11.67s/it]examples/s]"
     ]
    },
    {
     "name": "stdout",
     "output_type": "stream",
     "text": [
      "[2025-09-26 13:09:28,137: INFO: 2931596709: Encoded 32 texts into embeddings of shape (32, 768)]\n"
     ]
    },
    {
     "name": "stderr",
     "output_type": "stream",
     "text": [
      "\n",
      "Batches: 100%|██████████| 1/1 [00:13<00:00, 13.51s/it]examples/s]"
     ]
    },
    {
     "name": "stdout",
     "output_type": "stream",
     "text": [
      "[2025-09-26 13:09:41,662: INFO: 2931596709: Encoded 32 texts into embeddings of shape (32, 768)]\n"
     ]
    },
    {
     "name": "stderr",
     "output_type": "stream",
     "text": [
      "\n",
      "Batches: 100%|██████████| 1/1 [00:11<00:00, 11.97s/it]examples/s]"
     ]
    },
    {
     "name": "stdout",
     "output_type": "stream",
     "text": [
      "[2025-09-26 13:09:53,656: INFO: 2931596709: Encoded 32 texts into embeddings of shape (32, 768)]\n"
     ]
    },
    {
     "name": "stderr",
     "output_type": "stream",
     "text": [
      "\n",
      "Batches: 100%|██████████| 1/1 [00:10<00:00, 10.22s/it]examples/s]"
     ]
    },
    {
     "name": "stdout",
     "output_type": "stream",
     "text": [
      "[2025-09-26 13:10:03,892: INFO: 2931596709: Encoded 32 texts into embeddings of shape (32, 768)]\n"
     ]
    },
    {
     "name": "stderr",
     "output_type": "stream",
     "text": [
      "\n",
      "Batches: 100%|██████████| 1/1 [00:13<00:00, 13.16s/it]examples/s]"
     ]
    },
    {
     "name": "stdout",
     "output_type": "stream",
     "text": [
      "[2025-09-26 13:10:17,071: INFO: 2931596709: Encoded 32 texts into embeddings of shape (32, 768)]\n"
     ]
    },
    {
     "name": "stderr",
     "output_type": "stream",
     "text": [
      "\n",
      "Batches: 100%|██████████| 1/1 [00:11<00:00, 11.27s/it]examples/s]"
     ]
    },
    {
     "name": "stdout",
     "output_type": "stream",
     "text": [
      "[2025-09-26 13:10:28,362: INFO: 2931596709: Encoded 32 texts into embeddings of shape (32, 768)]\n"
     ]
    },
    {
     "name": "stderr",
     "output_type": "stream",
     "text": [
      "\n",
      "Batches: 100%|██████████| 1/1 [00:14<00:00, 14.03s/it]examples/s]"
     ]
    },
    {
     "name": "stdout",
     "output_type": "stream",
     "text": [
      "[2025-09-26 13:10:42,415: INFO: 2931596709: Encoded 32 texts into embeddings of shape (32, 768)]\n"
     ]
    },
    {
     "name": "stderr",
     "output_type": "stream",
     "text": [
      "\n",
      "Batches: 100%|██████████| 1/1 [00:09<00:00,  9.82s/it]examples/s]"
     ]
    },
    {
     "name": "stdout",
     "output_type": "stream",
     "text": [
      "[2025-09-26 13:10:52,252: INFO: 2931596709: Encoded 32 texts into embeddings of shape (32, 768)]\n"
     ]
    },
    {
     "name": "stderr",
     "output_type": "stream",
     "text": [
      "\n",
      "Batches: 100%|██████████| 1/1 [00:09<00:00,  9.84s/it]examples/s]"
     ]
    },
    {
     "name": "stdout",
     "output_type": "stream",
     "text": [
      "[2025-09-26 13:11:02,117: INFO: 2931596709: Encoded 32 texts into embeddings of shape (32, 768)]\n"
     ]
    },
    {
     "name": "stderr",
     "output_type": "stream",
     "text": [
      "\n",
      "Batches: 100%|██████████| 1/1 [00:13<00:00, 13.98s/it]examples/s]"
     ]
    },
    {
     "name": "stdout",
     "output_type": "stream",
     "text": [
      "[2025-09-26 13:11:16,118: INFO: 2931596709: Encoded 32 texts into embeddings of shape (32, 768)]\n"
     ]
    },
    {
     "name": "stderr",
     "output_type": "stream",
     "text": [
      "\n",
      "Batches: 100%|██████████| 1/1 [00:12<00:00, 12.30s/it]examples/s]"
     ]
    },
    {
     "name": "stdout",
     "output_type": "stream",
     "text": [
      "[2025-09-26 13:11:28,442: INFO: 2931596709: Encoded 32 texts into embeddings of shape (32, 768)]\n"
     ]
    },
    {
     "name": "stderr",
     "output_type": "stream",
     "text": [
      "\n",
      "Batches: 100%|██████████| 1/1 [00:10<00:00, 10.03s/it]examples/s]"
     ]
    },
    {
     "name": "stdout",
     "output_type": "stream",
     "text": [
      "[2025-09-26 13:11:38,491: INFO: 2931596709: Encoded 32 texts into embeddings of shape (32, 768)]\n"
     ]
    },
    {
     "name": "stderr",
     "output_type": "stream",
     "text": [
      "\n",
      "Batches: 100%|██████████| 1/1 [00:12<00:00, 12.37s/it]examples/s]"
     ]
    },
    {
     "name": "stdout",
     "output_type": "stream",
     "text": [
      "[2025-09-26 13:11:50,881: INFO: 2931596709: Encoded 32 texts into embeddings of shape (32, 768)]\n"
     ]
    },
    {
     "name": "stderr",
     "output_type": "stream",
     "text": [
      "\n",
      "Batches: 100%|██████████| 1/1 [00:13<00:00, 14.00s/it]examples/s]"
     ]
    },
    {
     "name": "stdout",
     "output_type": "stream",
     "text": [
      "[2025-09-26 13:12:04,911: INFO: 2931596709: Encoded 32 texts into embeddings of shape (32, 768)]\n"
     ]
    },
    {
     "name": "stderr",
     "output_type": "stream",
     "text": [
      "\n",
      "Batches: 100%|██████████| 1/1 [00:14<00:00, 14.03s/it] examples/s]"
     ]
    },
    {
     "name": "stdout",
     "output_type": "stream",
     "text": [
      "[2025-09-26 13:12:18,968: INFO: 2931596709: Encoded 32 texts into embeddings of shape (32, 768)]\n"
     ]
    },
    {
     "name": "stderr",
     "output_type": "stream",
     "text": [
      "\n",
      "Batches: 100%|██████████| 1/1 [00:12<00:00, 12.98s/it] examples/s]"
     ]
    },
    {
     "name": "stdout",
     "output_type": "stream",
     "text": [
      "[2025-09-26 13:12:31,976: INFO: 2931596709: Encoded 32 texts into embeddings of shape (32, 768)]\n"
     ]
    },
    {
     "name": "stderr",
     "output_type": "stream",
     "text": [
      "\n",
      "Batches: 100%|██████████| 1/1 [00:10<00:00, 10.33s/it] examples/s]"
     ]
    },
    {
     "name": "stdout",
     "output_type": "stream",
     "text": [
      "[2025-09-26 13:12:42,329: INFO: 2931596709: Encoded 32 texts into embeddings of shape (32, 768)]\n"
     ]
    },
    {
     "name": "stderr",
     "output_type": "stream",
     "text": [
      "\n",
      "Batches: 100%|██████████| 1/1 [00:14<00:00, 14.61s/it] examples/s]"
     ]
    },
    {
     "name": "stdout",
     "output_type": "stream",
     "text": [
      "[2025-09-26 13:12:56,954: INFO: 2931596709: Encoded 32 texts into embeddings of shape (32, 768)]\n"
     ]
    },
    {
     "name": "stderr",
     "output_type": "stream",
     "text": [
      "\n",
      "Batches: 100%|██████████| 1/1 [00:11<00:00, 11.96s/it] examples/s]"
     ]
    },
    {
     "name": "stdout",
     "output_type": "stream",
     "text": [
      "[2025-09-26 13:13:08,946: INFO: 2931596709: Encoded 32 texts into embeddings of shape (32, 768)]\n"
     ]
    },
    {
     "name": "stderr",
     "output_type": "stream",
     "text": [
      "\n",
      "Batches: 100%|██████████| 1/1 [00:14<00:00, 14.05s/it] examples/s]"
     ]
    },
    {
     "name": "stdout",
     "output_type": "stream",
     "text": [
      "[2025-09-26 13:13:23,030: INFO: 2931596709: Encoded 32 texts into embeddings of shape (32, 768)]\n"
     ]
    },
    {
     "name": "stderr",
     "output_type": "stream",
     "text": [
      "\n",
      "Batches: 100%|██████████| 1/1 [00:12<00:00, 12.76s/it] examples/s]"
     ]
    },
    {
     "name": "stdout",
     "output_type": "stream",
     "text": [
      "[2025-09-26 13:13:35,819: INFO: 2931596709: Encoded 32 texts into embeddings of shape (32, 768)]\n"
     ]
    },
    {
     "name": "stderr",
     "output_type": "stream",
     "text": [
      "\n",
      "Batches: 100%|██████████| 1/1 [00:12<00:00, 12.93s/it] examples/s]"
     ]
    },
    {
     "name": "stdout",
     "output_type": "stream",
     "text": [
      "[2025-09-26 13:13:48,785: INFO: 2931596709: Encoded 32 texts into embeddings of shape (32, 768)]\n"
     ]
    },
    {
     "name": "stderr",
     "output_type": "stream",
     "text": [
      "\n",
      "Batches: 100%|██████████| 1/1 [00:10<00:00, 10.53s/it] examples/s]"
     ]
    },
    {
     "name": "stdout",
     "output_type": "stream",
     "text": [
      "[2025-09-26 13:13:59,330: INFO: 2931596709: Encoded 32 texts into embeddings of shape (32, 768)]\n"
     ]
    },
    {
     "name": "stderr",
     "output_type": "stream",
     "text": [
      "\n",
      "Batches: 100%|██████████| 1/1 [00:12<00:00, 12.62s/it] examples/s]"
     ]
    },
    {
     "name": "stdout",
     "output_type": "stream",
     "text": [
      "[2025-09-26 13:14:11,964: INFO: 2931596709: Encoded 32 texts into embeddings of shape (32, 768)]\n"
     ]
    },
    {
     "name": "stderr",
     "output_type": "stream",
     "text": [
      "\n",
      "Batches: 100%|██████████| 1/1 [00:11<00:00, 11.63s/it] examples/s]"
     ]
    },
    {
     "name": "stdout",
     "output_type": "stream",
     "text": [
      "[2025-09-26 13:14:23,614: INFO: 2931596709: Encoded 32 texts into embeddings of shape (32, 768)]\n"
     ]
    },
    {
     "name": "stderr",
     "output_type": "stream",
     "text": [
      "\n",
      "Batches: 100%|██████████| 1/1 [00:17<00:00, 17.04s/it] examples/s]"
     ]
    },
    {
     "name": "stdout",
     "output_type": "stream",
     "text": [
      "[2025-09-26 13:14:40,670: INFO: 2931596709: Encoded 32 texts into embeddings of shape (32, 768)]\n"
     ]
    },
    {
     "name": "stderr",
     "output_type": "stream",
     "text": [
      "\n",
      "Batches: 100%|██████████| 1/1 [00:16<00:00, 16.54s/it] examples/s]"
     ]
    },
    {
     "name": "stdout",
     "output_type": "stream",
     "text": [
      "[2025-09-26 13:14:57,232: INFO: 2931596709: Encoded 32 texts into embeddings of shape (32, 768)]\n"
     ]
    },
    {
     "name": "stderr",
     "output_type": "stream",
     "text": [
      "\n",
      "Batches: 100%|██████████| 1/1 [00:10<00:00, 10.91s/it] examples/s]"
     ]
    },
    {
     "name": "stdout",
     "output_type": "stream",
     "text": [
      "[2025-09-26 13:15:08,170: INFO: 2931596709: Encoded 32 texts into embeddings of shape (32, 768)]\n"
     ]
    },
    {
     "name": "stderr",
     "output_type": "stream",
     "text": [
      "\n",
      "Batches: 100%|██████████| 1/1 [00:09<00:00,  9.57s/it] examples/s]"
     ]
    },
    {
     "name": "stdout",
     "output_type": "stream",
     "text": [
      "[2025-09-26 13:15:17,761: INFO: 2931596709: Encoded 32 texts into embeddings of shape (32, 768)]\n"
     ]
    },
    {
     "name": "stderr",
     "output_type": "stream",
     "text": [
      "\n",
      "Batches: 100%|██████████| 1/1 [00:13<00:00, 13.88s/it] examples/s]"
     ]
    },
    {
     "name": "stdout",
     "output_type": "stream",
     "text": [
      "[2025-09-26 13:15:31,662: INFO: 2931596709: Encoded 32 texts into embeddings of shape (32, 768)]\n"
     ]
    },
    {
     "name": "stderr",
     "output_type": "stream",
     "text": [
      "\n",
      "Batches: 100%|██████████| 1/1 [00:15<00:00, 15.18s/it] examples/s]"
     ]
    },
    {
     "name": "stdout",
     "output_type": "stream",
     "text": [
      "[2025-09-26 13:15:46,890: INFO: 2931596709: Encoded 32 texts into embeddings of shape (32, 768)]\n"
     ]
    },
    {
     "name": "stderr",
     "output_type": "stream",
     "text": [
      "\n",
      "Batches: 100%|██████████| 1/1 [00:20<00:00, 20.25s/it] examples/s]"
     ]
    },
    {
     "name": "stdout",
     "output_type": "stream",
     "text": [
      "[2025-09-26 13:16:07,178: INFO: 2931596709: Encoded 32 texts into embeddings of shape (32, 768)]\n"
     ]
    },
    {
     "name": "stderr",
     "output_type": "stream",
     "text": [
      "\n",
      "Batches: 100%|██████████| 1/1 [00:13<00:00, 13.45s/it] examples/s]"
     ]
    },
    {
     "name": "stdout",
     "output_type": "stream",
     "text": [
      "[2025-09-26 13:16:20,653: INFO: 2931596709: Encoded 32 texts into embeddings of shape (32, 768)]\n"
     ]
    },
    {
     "name": "stderr",
     "output_type": "stream",
     "text": [
      "\n",
      "Batches: 100%|██████████| 1/1 [00:19<00:00, 19.29s/it] examples/s]"
     ]
    },
    {
     "name": "stdout",
     "output_type": "stream",
     "text": [
      "[2025-09-26 13:16:39,972: INFO: 2931596709: Encoded 32 texts into embeddings of shape (32, 768)]\n"
     ]
    },
    {
     "name": "stderr",
     "output_type": "stream",
     "text": [
      "\n",
      "Batches: 100%|██████████| 1/1 [00:15<00:00, 15.29s/it] examples/s]"
     ]
    },
    {
     "name": "stdout",
     "output_type": "stream",
     "text": [
      "[2025-09-26 13:16:55,281: INFO: 2931596709: Encoded 32 texts into embeddings of shape (32, 768)]\n"
     ]
    },
    {
     "name": "stderr",
     "output_type": "stream",
     "text": [
      "\n",
      "Batches: 100%|██████████| 1/1 [00:20<00:00, 20.70s/it] examples/s]"
     ]
    },
    {
     "name": "stdout",
     "output_type": "stream",
     "text": [
      "[2025-09-26 13:17:16,015: INFO: 2931596709: Encoded 32 texts into embeddings of shape (32, 768)]\n"
     ]
    },
    {
     "name": "stderr",
     "output_type": "stream",
     "text": [
      "\n",
      "Batches: 100%|██████████| 1/1 [00:19<00:00, 19.70s/it] examples/s]"
     ]
    },
    {
     "name": "stdout",
     "output_type": "stream",
     "text": [
      "[2025-09-26 13:17:35,735: INFO: 2931596709: Encoded 32 texts into embeddings of shape (32, 768)]\n"
     ]
    },
    {
     "name": "stderr",
     "output_type": "stream",
     "text": [
      "\n",
      "Batches: 100%|██████████| 1/1 [00:16<00:00, 16.36s/it] examples/s]"
     ]
    },
    {
     "name": "stdout",
     "output_type": "stream",
     "text": [
      "[2025-09-26 13:17:52,121: INFO: 2931596709: Encoded 32 texts into embeddings of shape (32, 768)]\n"
     ]
    },
    {
     "name": "stderr",
     "output_type": "stream",
     "text": [
      "\n",
      "Batches: 100%|██████████| 1/1 [00:13<00:00, 13.48s/it] examples/s]"
     ]
    },
    {
     "name": "stdout",
     "output_type": "stream",
     "text": [
      "[2025-09-26 13:18:05,623: INFO: 2931596709: Encoded 32 texts into embeddings of shape (32, 768)]\n"
     ]
    },
    {
     "name": "stderr",
     "output_type": "stream",
     "text": [
      "\n",
      "Batches: 100%|██████████| 1/1 [00:14<00:00, 14.56s/it] examples/s]"
     ]
    },
    {
     "name": "stdout",
     "output_type": "stream",
     "text": [
      "[2025-09-26 13:18:20,219: INFO: 2931596709: Encoded 32 texts into embeddings of shape (32, 768)]\n"
     ]
    },
    {
     "name": "stderr",
     "output_type": "stream",
     "text": [
      "\n",
      "Batches: 100%|██████████| 1/1 [00:15<00:00, 15.06s/it] examples/s]"
     ]
    },
    {
     "name": "stdout",
     "output_type": "stream",
     "text": [
      "[2025-09-26 13:18:35,311: INFO: 2931596709: Encoded 32 texts into embeddings of shape (32, 768)]\n"
     ]
    },
    {
     "name": "stderr",
     "output_type": "stream",
     "text": [
      "\n",
      "Batches: 100%|██████████| 1/1 [00:19<00:00, 19.50s/it] examples/s]"
     ]
    },
    {
     "name": "stdout",
     "output_type": "stream",
     "text": [
      "[2025-09-26 13:18:54,832: INFO: 2931596709: Encoded 32 texts into embeddings of shape (32, 768)]\n"
     ]
    },
    {
     "name": "stderr",
     "output_type": "stream",
     "text": [
      "\n",
      "Batches: 100%|██████████| 1/1 [00:19<00:00, 19.76s/it] examples/s]"
     ]
    },
    {
     "name": "stdout",
     "output_type": "stream",
     "text": [
      "[2025-09-26 13:19:14,625: INFO: 2931596709: Encoded 32 texts into embeddings of shape (32, 768)]\n"
     ]
    },
    {
     "name": "stderr",
     "output_type": "stream",
     "text": [
      "\n",
      "Batches: 100%|██████████| 1/1 [00:18<00:00, 18.39s/it] examples/s]"
     ]
    },
    {
     "name": "stdout",
     "output_type": "stream",
     "text": [
      "[2025-09-26 13:19:33,045: INFO: 2931596709: Encoded 32 texts into embeddings of shape (32, 768)]\n"
     ]
    },
    {
     "name": "stderr",
     "output_type": "stream",
     "text": [
      "\n",
      "Batches: 100%|██████████| 1/1 [00:12<00:00, 12.97s/it] examples/s]"
     ]
    },
    {
     "name": "stdout",
     "output_type": "stream",
     "text": [
      "[2025-09-26 13:19:46,044: INFO: 2931596709: Encoded 32 texts into embeddings of shape (32, 768)]\n"
     ]
    },
    {
     "name": "stderr",
     "output_type": "stream",
     "text": [
      "\n",
      "Batches: 100%|██████████| 1/1 [00:14<00:00, 14.84s/it] examples/s]"
     ]
    },
    {
     "name": "stdout",
     "output_type": "stream",
     "text": [
      "[2025-09-26 13:20:00,906: INFO: 2931596709: Encoded 32 texts into embeddings of shape (32, 768)]\n"
     ]
    },
    {
     "name": "stderr",
     "output_type": "stream",
     "text": [
      "\n",
      "Batches: 100%|██████████| 1/1 [00:21<00:00, 21.72s/it] examples/s]"
     ]
    },
    {
     "name": "stdout",
     "output_type": "stream",
     "text": [
      "[2025-09-26 13:20:22,655: INFO: 2931596709: Encoded 32 texts into embeddings of shape (32, 768)]\n"
     ]
    },
    {
     "name": "stderr",
     "output_type": "stream",
     "text": [
      "\n",
      "Batches: 100%|██████████| 1/1 [00:17<00:00, 17.67s/it] examples/s]"
     ]
    },
    {
     "name": "stdout",
     "output_type": "stream",
     "text": [
      "[2025-09-26 13:20:40,391: INFO: 2931596709: Encoded 32 texts into embeddings of shape (32, 768)]\n"
     ]
    },
    {
     "name": "stderr",
     "output_type": "stream",
     "text": [
      "\n",
      "Batches: 100%|██████████| 1/1 [00:10<00:00, 10.99s/it] examples/s]"
     ]
    },
    {
     "name": "stdout",
     "output_type": "stream",
     "text": [
      "[2025-09-26 13:20:51,406: INFO: 2931596709: Encoded 32 texts into embeddings of shape (32, 768)]\n"
     ]
    },
    {
     "name": "stderr",
     "output_type": "stream",
     "text": [
      "\n",
      "Batches: 100%|██████████| 1/1 [00:20<00:00, 20.62s/it] examples/s]"
     ]
    },
    {
     "name": "stdout",
     "output_type": "stream",
     "text": [
      "[2025-09-26 13:21:12,054: INFO: 2931596709: Encoded 32 texts into embeddings of shape (32, 768)]\n"
     ]
    },
    {
     "name": "stderr",
     "output_type": "stream",
     "text": [
      "\n",
      "Batches: 100%|██████████| 1/1 [00:20<00:00, 20.85s/it] examples/s]"
     ]
    },
    {
     "name": "stdout",
     "output_type": "stream",
     "text": [
      "[2025-09-26 13:21:32,926: INFO: 2931596709: Encoded 32 texts into embeddings of shape (32, 768)]\n"
     ]
    },
    {
     "name": "stderr",
     "output_type": "stream",
     "text": [
      "\n",
      "Batches: 100%|██████████| 1/1 [00:19<00:00, 19.12s/it] examples/s]"
     ]
    },
    {
     "name": "stdout",
     "output_type": "stream",
     "text": [
      "[2025-09-26 13:21:52,072: INFO: 2931596709: Encoded 32 texts into embeddings of shape (32, 768)]\n"
     ]
    },
    {
     "name": "stderr",
     "output_type": "stream",
     "text": [
      "\n",
      "Batches: 100%|██████████| 1/1 [00:15<00:00, 15.24s/it] examples/s]"
     ]
    },
    {
     "name": "stdout",
     "output_type": "stream",
     "text": [
      "[2025-09-26 13:22:07,347: INFO: 2931596709: Encoded 32 texts into embeddings of shape (32, 768)]\n"
     ]
    },
    {
     "name": "stderr",
     "output_type": "stream",
     "text": [
      "\n",
      "Batches: 100%|██████████| 1/1 [00:19<00:00, 20.00s/it] examples/s]"
     ]
    },
    {
     "name": "stdout",
     "output_type": "stream",
     "text": [
      "[2025-09-26 13:22:27,371: INFO: 2931596709: Encoded 32 texts into embeddings of shape (32, 768)]\n"
     ]
    },
    {
     "name": "stderr",
     "output_type": "stream",
     "text": [
      "\n",
      "Batches: 100%|██████████| 1/1 [00:17<00:00, 17.02s/it] examples/s]"
     ]
    },
    {
     "name": "stdout",
     "output_type": "stream",
     "text": [
      "[2025-09-26 13:22:44,419: INFO: 2931596709: Encoded 32 texts into embeddings of shape (32, 768)]\n"
     ]
    },
    {
     "name": "stderr",
     "output_type": "stream",
     "text": [
      "\n",
      "Batches: 100%|██████████| 1/1 [00:19<00:00, 19.15s/it] examples/s]"
     ]
    },
    {
     "name": "stdout",
     "output_type": "stream",
     "text": [
      "[2025-09-26 13:23:03,595: INFO: 2931596709: Encoded 32 texts into embeddings of shape (32, 768)]\n"
     ]
    },
    {
     "name": "stderr",
     "output_type": "stream",
     "text": [
      "\n",
      "Batches: 100%|██████████| 1/1 [00:19<00:00, 19.02s/it] examples/s]"
     ]
    },
    {
     "name": "stdout",
     "output_type": "stream",
     "text": [
      "[2025-09-26 13:23:22,648: INFO: 2931596709: Encoded 32 texts into embeddings of shape (32, 768)]\n"
     ]
    },
    {
     "name": "stderr",
     "output_type": "stream",
     "text": [
      "\n",
      "Batches: 100%|██████████| 1/1 [00:13<00:00, 13.37s/it] examples/s]"
     ]
    },
    {
     "name": "stdout",
     "output_type": "stream",
     "text": [
      "[2025-09-26 13:23:36,067: INFO: 2931596709: Encoded 32 texts into embeddings of shape (32, 768)]\n"
     ]
    },
    {
     "name": "stderr",
     "output_type": "stream",
     "text": [
      "\n",
      "Batches: 100%|██████████| 1/1 [00:21<00:00, 21.72s/it] examples/s]"
     ]
    },
    {
     "name": "stdout",
     "output_type": "stream",
     "text": [
      "[2025-09-26 13:23:57,815: INFO: 2931596709: Encoded 32 texts into embeddings of shape (32, 768)]\n"
     ]
    },
    {
     "name": "stderr",
     "output_type": "stream",
     "text": [
      "\n",
      "Batches: 100%|██████████| 1/1 [00:08<00:00,  8.10s/it] examples/s]"
     ]
    },
    {
     "name": "stdout",
     "output_type": "stream",
     "text": [
      "[2025-09-26 13:24:05,947: INFO: 2931596709: Encoded 32 texts into embeddings of shape (32, 768)]\n"
     ]
    },
    {
     "name": "stderr",
     "output_type": "stream",
     "text": [
      "\n",
      "Batches: 100%|██████████| 1/1 [00:18<00:00, 18.50s/it] examples/s]"
     ]
    },
    {
     "name": "stdout",
     "output_type": "stream",
     "text": [
      "[2025-09-26 13:24:24,465: INFO: 2931596709: Encoded 32 texts into embeddings of shape (32, 768)]\n"
     ]
    },
    {
     "name": "stderr",
     "output_type": "stream",
     "text": [
      "\n",
      "Batches: 100%|██████████| 1/1 [00:14<00:00, 14.22s/it] examples/s]"
     ]
    },
    {
     "name": "stdout",
     "output_type": "stream",
     "text": [
      "[2025-09-26 13:24:38,715: INFO: 2931596709: Encoded 32 texts into embeddings of shape (32, 768)]\n"
     ]
    },
    {
     "name": "stderr",
     "output_type": "stream",
     "text": [
      "\n",
      "Batches: 100%|██████████| 1/1 [00:14<00:00, 14.18s/it] examples/s]"
     ]
    },
    {
     "name": "stdout",
     "output_type": "stream",
     "text": [
      "[2025-09-26 13:24:52,922: INFO: 2931596709: Encoded 32 texts into embeddings of shape (32, 768)]\n"
     ]
    },
    {
     "name": "stderr",
     "output_type": "stream",
     "text": [
      "\n",
      "Batches: 100%|██████████| 1/1 [00:14<00:00, 14.92s/it] examples/s]"
     ]
    },
    {
     "name": "stdout",
     "output_type": "stream",
     "text": [
      "[2025-09-26 13:25:07,865: INFO: 2931596709: Encoded 32 texts into embeddings of shape (32, 768)]\n"
     ]
    },
    {
     "name": "stderr",
     "output_type": "stream",
     "text": [
      "\n",
      "Batches: 100%|██████████| 1/1 [00:10<00:00, 10.11s/it] examples/s]"
     ]
    },
    {
     "name": "stdout",
     "output_type": "stream",
     "text": [
      "[2025-09-26 13:25:18,001: INFO: 2931596709: Encoded 32 texts into embeddings of shape (32, 768)]\n"
     ]
    },
    {
     "name": "stderr",
     "output_type": "stream",
     "text": [
      "\n",
      "Batches: 100%|██████████| 1/1 [00:11<00:00, 11.59s/it] examples/s]"
     ]
    },
    {
     "name": "stdout",
     "output_type": "stream",
     "text": [
      "[2025-09-26 13:25:29,623: INFO: 2931596709: Encoded 32 texts into embeddings of shape (32, 768)]\n"
     ]
    },
    {
     "name": "stderr",
     "output_type": "stream",
     "text": [
      "\n",
      "Batches: 100%|██████████| 1/1 [00:11<00:00, 11.86s/it] examples/s]"
     ]
    },
    {
     "name": "stdout",
     "output_type": "stream",
     "text": [
      "[2025-09-26 13:25:41,500: INFO: 2931596709: Encoded 32 texts into embeddings of shape (32, 768)]\n"
     ]
    },
    {
     "name": "stderr",
     "output_type": "stream",
     "text": [
      "\n",
      "Batches: 100%|██████████| 1/1 [00:10<00:00, 10.82s/it] examples/s]"
     ]
    },
    {
     "name": "stdout",
     "output_type": "stream",
     "text": [
      "[2025-09-26 13:25:52,339: INFO: 2931596709: Encoded 32 texts into embeddings of shape (32, 768)]\n"
     ]
    },
    {
     "name": "stderr",
     "output_type": "stream",
     "text": [
      "\n",
      "Batches: 100%|██████████| 1/1 [00:13<00:00, 13.46s/it] examples/s]"
     ]
    },
    {
     "name": "stdout",
     "output_type": "stream",
     "text": [
      "[2025-09-26 13:26:05,822: INFO: 2931596709: Encoded 32 texts into embeddings of shape (32, 768)]\n"
     ]
    },
    {
     "name": "stderr",
     "output_type": "stream",
     "text": [
      "\n",
      "Batches: 100%|██████████| 1/1 [00:14<00:00, 14.16s/it] examples/s]"
     ]
    },
    {
     "name": "stdout",
     "output_type": "stream",
     "text": [
      "[2025-09-26 13:26:20,008: INFO: 2931596709: Encoded 32 texts into embeddings of shape (32, 768)]\n"
     ]
    },
    {
     "name": "stderr",
     "output_type": "stream",
     "text": [
      "\n",
      "Batches: 100%|██████████| 1/1 [00:13<00:00, 13.02s/it] examples/s]"
     ]
    },
    {
     "name": "stdout",
     "output_type": "stream",
     "text": [
      "[2025-09-26 13:26:33,051: INFO: 2931596709: Encoded 32 texts into embeddings of shape (32, 768)]\n"
     ]
    },
    {
     "name": "stderr",
     "output_type": "stream",
     "text": [
      "\n",
      "Batches: 100%|██████████| 1/1 [00:14<00:00, 14.34s/it] examples/s]"
     ]
    },
    {
     "name": "stdout",
     "output_type": "stream",
     "text": [
      "[2025-09-26 13:26:47,421: INFO: 2931596709: Encoded 32 texts into embeddings of shape (32, 768)]\n"
     ]
    },
    {
     "name": "stderr",
     "output_type": "stream",
     "text": [
      "\n",
      "Batches: 100%|██████████| 1/1 [00:10<00:00, 10.46s/it] examples/s]"
     ]
    },
    {
     "name": "stdout",
     "output_type": "stream",
     "text": [
      "[2025-09-26 13:26:57,903: INFO: 2931596709: Encoded 32 texts into embeddings of shape (32, 768)]\n"
     ]
    },
    {
     "name": "stderr",
     "output_type": "stream",
     "text": [
      "\n",
      "Batches: 100%|██████████| 1/1 [00:13<00:00, 13.32s/it] examples/s]"
     ]
    },
    {
     "name": "stdout",
     "output_type": "stream",
     "text": [
      "[2025-09-26 13:27:11,240: INFO: 2931596709: Encoded 32 texts into embeddings of shape (32, 768)]\n"
     ]
    },
    {
     "name": "stderr",
     "output_type": "stream",
     "text": [
      "\n",
      "Batches: 100%|██████████| 1/1 [00:14<00:00, 14.26s/it] examples/s]"
     ]
    },
    {
     "name": "stdout",
     "output_type": "stream",
     "text": [
      "[2025-09-26 13:27:25,529: INFO: 2931596709: Encoded 32 texts into embeddings of shape (32, 768)]\n"
     ]
    },
    {
     "name": "stderr",
     "output_type": "stream",
     "text": [
      "\n",
      "Batches: 100%|██████████| 1/1 [00:14<00:00, 14.19s/it] examples/s]"
     ]
    },
    {
     "name": "stdout",
     "output_type": "stream",
     "text": [
      "[2025-09-26 13:27:39,756: INFO: 2931596709: Encoded 32 texts into embeddings of shape (32, 768)]\n"
     ]
    },
    {
     "name": "stderr",
     "output_type": "stream",
     "text": [
      "\n",
      "Batches: 100%|██████████| 1/1 [00:14<00:00, 14.09s/it] examples/s]"
     ]
    },
    {
     "name": "stdout",
     "output_type": "stream",
     "text": [
      "[2025-09-26 13:27:53,877: INFO: 2931596709: Encoded 32 texts into embeddings of shape (32, 768)]\n"
     ]
    },
    {
     "name": "stderr",
     "output_type": "stream",
     "text": [
      "\n",
      "Batches: 100%|██████████| 1/1 [00:14<00:00, 14.06s/it] examples/s]"
     ]
    },
    {
     "name": "stdout",
     "output_type": "stream",
     "text": [
      "[2025-09-26 13:28:07,964: INFO: 2931596709: Encoded 32 texts into embeddings of shape (32, 768)]\n"
     ]
    },
    {
     "name": "stderr",
     "output_type": "stream",
     "text": [
      "\n",
      "Batches: 100%|██████████| 1/1 [00:14<00:00, 14.44s/it] examples/s]"
     ]
    },
    {
     "name": "stdout",
     "output_type": "stream",
     "text": [
      "[2025-09-26 13:28:22,423: INFO: 2931596709: Encoded 32 texts into embeddings of shape (32, 768)]\n"
     ]
    },
    {
     "name": "stderr",
     "output_type": "stream",
     "text": [
      "\n",
      "Batches: 100%|██████████| 1/1 [00:10<00:00, 10.96s/it] examples/s]"
     ]
    },
    {
     "name": "stdout",
     "output_type": "stream",
     "text": [
      "[2025-09-26 13:28:33,409: INFO: 2931596709: Encoded 32 texts into embeddings of shape (32, 768)]\n"
     ]
    },
    {
     "name": "stderr",
     "output_type": "stream",
     "text": [
      "\n",
      "Batches: 100%|██████████| 1/1 [00:11<00:00, 11.86s/it] examples/s]"
     ]
    },
    {
     "name": "stdout",
     "output_type": "stream",
     "text": [
      "[2025-09-26 13:28:45,289: INFO: 2931596709: Encoded 32 texts into embeddings of shape (32, 768)]\n"
     ]
    },
    {
     "name": "stderr",
     "output_type": "stream",
     "text": [
      "\n",
      "Batches: 100%|██████████| 1/1 [00:12<00:00, 12.80s/it] examples/s]"
     ]
    },
    {
     "name": "stdout",
     "output_type": "stream",
     "text": [
      "[2025-09-26 13:28:58,116: INFO: 2931596709: Encoded 32 texts into embeddings of shape (32, 768)]\n"
     ]
    },
    {
     "name": "stderr",
     "output_type": "stream",
     "text": [
      "\n",
      "Batches: 100%|██████████| 1/1 [00:08<00:00,  8.74s/it] examples/s]"
     ]
    },
    {
     "name": "stdout",
     "output_type": "stream",
     "text": [
      "[2025-09-26 13:29:06,881: INFO: 2931596709: Encoded 32 texts into embeddings of shape (32, 768)]\n"
     ]
    },
    {
     "name": "stderr",
     "output_type": "stream",
     "text": [
      "\n",
      "Batches: 100%|██████████| 1/1 [00:08<00:00,  8.03s/it] examples/s]"
     ]
    },
    {
     "name": "stdout",
     "output_type": "stream",
     "text": [
      "[2025-09-26 13:29:14,938: INFO: 2931596709: Encoded 32 texts into embeddings of shape (32, 768)]\n"
     ]
    },
    {
     "name": "stderr",
     "output_type": "stream",
     "text": [
      "\n",
      "Batches: 100%|██████████| 1/1 [00:14<00:00, 14.21s/it] examples/s]"
     ]
    },
    {
     "name": "stdout",
     "output_type": "stream",
     "text": [
      "[2025-09-26 13:29:29,169: INFO: 2931596709: Encoded 32 texts into embeddings of shape (32, 768)]\n"
     ]
    },
    {
     "name": "stderr",
     "output_type": "stream",
     "text": [
      "\n",
      "Batches: 100%|██████████| 1/1 [00:12<00:00, 12.37s/it] examples/s]"
     ]
    },
    {
     "name": "stdout",
     "output_type": "stream",
     "text": [
      "[2025-09-26 13:29:41,568: INFO: 2931596709: Encoded 32 texts into embeddings of shape (32, 768)]\n"
     ]
    },
    {
     "name": "stderr",
     "output_type": "stream",
     "text": [
      "\n",
      "Batches: 100%|██████████| 1/1 [00:14<00:00, 14.10s/it] examples/s]"
     ]
    },
    {
     "name": "stdout",
     "output_type": "stream",
     "text": [
      "[2025-09-26 13:29:55,683: INFO: 2931596709: Encoded 32 texts into embeddings of shape (32, 768)]\n"
     ]
    },
    {
     "name": "stderr",
     "output_type": "stream",
     "text": [
      "\n",
      "Batches: 100%|██████████| 1/1 [00:14<00:00, 14.52s/it] examples/s]"
     ]
    },
    {
     "name": "stdout",
     "output_type": "stream",
     "text": [
      "[2025-09-26 13:30:10,218: INFO: 2931596709: Encoded 32 texts into embeddings of shape (32, 768)]\n"
     ]
    },
    {
     "name": "stderr",
     "output_type": "stream",
     "text": [
      "\n",
      "Batches: 100%|██████████| 1/1 [00:14<00:00, 14.22s/it] examples/s]"
     ]
    },
    {
     "name": "stdout",
     "output_type": "stream",
     "text": [
      "[2025-09-26 13:30:24,456: INFO: 2931596709: Encoded 32 texts into embeddings of shape (32, 768)]\n"
     ]
    },
    {
     "name": "stderr",
     "output_type": "stream",
     "text": [
      "\n",
      "Batches: 100%|██████████| 1/1 [00:14<00:00, 14.19s/it] examples/s]"
     ]
    },
    {
     "name": "stdout",
     "output_type": "stream",
     "text": [
      "[2025-09-26 13:30:38,666: INFO: 2931596709: Encoded 32 texts into embeddings of shape (32, 768)]\n"
     ]
    },
    {
     "name": "stderr",
     "output_type": "stream",
     "text": [
      "\n",
      "Batches: 100%|██████████| 1/1 [00:14<00:00, 14.09s/it] examples/s]"
     ]
    },
    {
     "name": "stdout",
     "output_type": "stream",
     "text": [
      "[2025-09-26 13:30:52,774: INFO: 2931596709: Encoded 32 texts into embeddings of shape (32, 768)]\n"
     ]
    },
    {
     "name": "stderr",
     "output_type": "stream",
     "text": [
      "\n",
      "Batches: 100%|██████████| 1/1 [00:12<00:00, 12.97s/it] examples/s]"
     ]
    },
    {
     "name": "stdout",
     "output_type": "stream",
     "text": [
      "[2025-09-26 13:31:05,767: INFO: 2931596709: Encoded 32 texts into embeddings of shape (32, 768)]\n"
     ]
    },
    {
     "name": "stderr",
     "output_type": "stream",
     "text": [
      "\n",
      "Batches: 100%|██████████| 1/1 [00:14<00:00, 14.56s/it] examples/s]"
     ]
    },
    {
     "name": "stdout",
     "output_type": "stream",
     "text": [
      "[2025-09-26 13:31:20,348: INFO: 2931596709: Encoded 32 texts into embeddings of shape (32, 768)]\n"
     ]
    },
    {
     "name": "stderr",
     "output_type": "stream",
     "text": [
      "\n",
      "Batches: 100%|██████████| 1/1 [00:08<00:00,  8.70s/it] examples/s]"
     ]
    },
    {
     "name": "stdout",
     "output_type": "stream",
     "text": [
      "[2025-09-26 13:31:29,086: INFO: 2931596709: Encoded 32 texts into embeddings of shape (32, 768)]\n"
     ]
    },
    {
     "name": "stderr",
     "output_type": "stream",
     "text": [
      "\n",
      "Batches: 100%|██████████| 1/1 [00:11<00:00, 11.68s/it] examples/s]"
     ]
    },
    {
     "name": "stdout",
     "output_type": "stream",
     "text": [
      "[2025-09-26 13:31:40,788: INFO: 2931596709: Encoded 32 texts into embeddings of shape (32, 768)]\n"
     ]
    },
    {
     "name": "stderr",
     "output_type": "stream",
     "text": [
      "\n",
      "Batches: 100%|██████████| 1/1 [00:07<00:00,  7.94s/it] examples/s]"
     ]
    },
    {
     "name": "stdout",
     "output_type": "stream",
     "text": [
      "[2025-09-26 13:31:48,758: INFO: 2931596709: Encoded 32 texts into embeddings of shape (32, 768)]\n"
     ]
    },
    {
     "name": "stderr",
     "output_type": "stream",
     "text": [
      "\n",
      "Batches: 100%|██████████| 1/1 [00:14<00:00, 14.18s/it] examples/s]"
     ]
    },
    {
     "name": "stdout",
     "output_type": "stream",
     "text": [
      "[2025-09-26 13:32:02,959: INFO: 2931596709: Encoded 32 texts into embeddings of shape (32, 768)]\n"
     ]
    },
    {
     "name": "stderr",
     "output_type": "stream",
     "text": [
      "\n",
      "Batches: 100%|██████████| 1/1 [00:14<00:00, 14.15s/it] examples/s]"
     ]
    },
    {
     "name": "stdout",
     "output_type": "stream",
     "text": [
      "[2025-09-26 13:32:17,142: INFO: 2931596709: Encoded 32 texts into embeddings of shape (32, 768)]\n"
     ]
    },
    {
     "name": "stderr",
     "output_type": "stream",
     "text": [
      "\n",
      "Batches: 100%|██████████| 1/1 [00:14<00:00, 14.27s/it] examples/s]"
     ]
    },
    {
     "name": "stdout",
     "output_type": "stream",
     "text": [
      "[2025-09-26 13:32:31,430: INFO: 2931596709: Encoded 32 texts into embeddings of shape (32, 768)]\n"
     ]
    },
    {
     "name": "stderr",
     "output_type": "stream",
     "text": [
      "\n",
      "Batches: 100%|██████████| 1/1 [00:10<00:00, 10.65s/it] examples/s]"
     ]
    },
    {
     "name": "stdout",
     "output_type": "stream",
     "text": [
      "[2025-09-26 13:32:42,101: INFO: 2931596709: Encoded 32 texts into embeddings of shape (32, 768)]\n"
     ]
    },
    {
     "name": "stderr",
     "output_type": "stream",
     "text": [
      "\n",
      "Batches: 100%|██████████| 1/1 [00:13<00:00, 13.52s/it] examples/s]"
     ]
    },
    {
     "name": "stdout",
     "output_type": "stream",
     "text": [
      "[2025-09-26 13:32:55,636: INFO: 2931596709: Encoded 32 texts into embeddings of shape (32, 768)]\n"
     ]
    },
    {
     "name": "stderr",
     "output_type": "stream",
     "text": [
      "\n",
      "Batches: 100%|██████████| 1/1 [00:11<00:00, 11.37s/it] examples/s]"
     ]
    },
    {
     "name": "stdout",
     "output_type": "stream",
     "text": [
      "[2025-09-26 13:33:07,022: INFO: 2931596709: Encoded 32 texts into embeddings of shape (32, 768)]\n"
     ]
    },
    {
     "name": "stderr",
     "output_type": "stream",
     "text": [
      "\n",
      "Batches: 100%|██████████| 1/1 [00:10<00:00, 10.15s/it] examples/s]"
     ]
    },
    {
     "name": "stdout",
     "output_type": "stream",
     "text": [
      "[2025-09-26 13:33:17,190: INFO: 2931596709: Encoded 32 texts into embeddings of shape (32, 768)]\n"
     ]
    },
    {
     "name": "stderr",
     "output_type": "stream",
     "text": [
      "\n",
      "Batches: 100%|██████████| 1/1 [00:13<00:00, 13.91s/it] examples/s]"
     ]
    },
    {
     "name": "stdout",
     "output_type": "stream",
     "text": [
      "[2025-09-26 13:33:31,125: INFO: 2931596709: Encoded 32 texts into embeddings of shape (32, 768)]\n"
     ]
    },
    {
     "name": "stderr",
     "output_type": "stream",
     "text": [
      "\n",
      "Batches: 100%|██████████| 1/1 [00:11<00:00, 11.38s/it] examples/s]"
     ]
    },
    {
     "name": "stdout",
     "output_type": "stream",
     "text": [
      "[2025-09-26 13:33:42,532: INFO: 2931596709: Encoded 32 texts into embeddings of shape (32, 768)]\n"
     ]
    },
    {
     "name": "stderr",
     "output_type": "stream",
     "text": [
      "\n",
      "Batches: 100%|██████████| 1/1 [00:12<00:00, 12.57s/it] examples/s]"
     ]
    },
    {
     "name": "stdout",
     "output_type": "stream",
     "text": [
      "[2025-09-26 13:33:55,124: INFO: 2931596709: Encoded 32 texts into embeddings of shape (32, 768)]\n"
     ]
    },
    {
     "name": "stderr",
     "output_type": "stream",
     "text": [
      "\n",
      "Batches: 100%|██████████| 1/1 [00:11<00:00, 11.83s/it] examples/s]"
     ]
    },
    {
     "name": "stdout",
     "output_type": "stream",
     "text": [
      "[2025-09-26 13:34:06,974: INFO: 2931596709: Encoded 32 texts into embeddings of shape (32, 768)]\n"
     ]
    },
    {
     "name": "stderr",
     "output_type": "stream",
     "text": [
      "\n",
      "Batches: 100%|██████████| 1/1 [00:15<00:00, 15.93s/it] examples/s]"
     ]
    },
    {
     "name": "stdout",
     "output_type": "stream",
     "text": [
      "[2025-09-26 13:34:22,930: INFO: 2931596709: Encoded 32 texts into embeddings of shape (32, 768)]\n"
     ]
    },
    {
     "name": "stderr",
     "output_type": "stream",
     "text": [
      "\n",
      "Batches: 100%|██████████| 1/1 [00:15<00:00, 15.99s/it] examples/s]"
     ]
    },
    {
     "name": "stdout",
     "output_type": "stream",
     "text": [
      "[2025-09-26 13:34:38,953: INFO: 2931596709: Encoded 32 texts into embeddings of shape (32, 768)]\n"
     ]
    },
    {
     "name": "stderr",
     "output_type": "stream",
     "text": [
      "\n",
      "Batches: 100%|██████████| 1/1 [00:12<00:00, 12.20s/it] examples/s]"
     ]
    },
    {
     "name": "stdout",
     "output_type": "stream",
     "text": [
      "[2025-09-26 13:34:51,177: INFO: 2931596709: Encoded 32 texts into embeddings of shape (32, 768)]\n"
     ]
    },
    {
     "name": "stderr",
     "output_type": "stream",
     "text": [
      "\n",
      "Batches: 100%|██████████| 1/1 [00:09<00:00,  9.49s/it] examples/s]"
     ]
    },
    {
     "name": "stdout",
     "output_type": "stream",
     "text": [
      "[2025-09-26 13:35:00,712: INFO: 2931596709: Encoded 32 texts into embeddings of shape (32, 768)]\n"
     ]
    },
    {
     "name": "stderr",
     "output_type": "stream",
     "text": [
      "\n",
      "Batches: 100%|██████████| 1/1 [00:14<00:00, 14.61s/it] examples/s]"
     ]
    },
    {
     "name": "stdout",
     "output_type": "stream",
     "text": [
      "[2025-09-26 13:35:15,354: INFO: 2931596709: Encoded 32 texts into embeddings of shape (32, 768)]\n"
     ]
    },
    {
     "name": "stderr",
     "output_type": "stream",
     "text": [
      "\n",
      "Batches: 100%|██████████| 1/1 [00:11<00:00, 11.44s/it] examples/s]"
     ]
    },
    {
     "name": "stdout",
     "output_type": "stream",
     "text": [
      "[2025-09-26 13:35:26,815: INFO: 2931596709: Encoded 32 texts into embeddings of shape (32, 768)]\n"
     ]
    },
    {
     "name": "stderr",
     "output_type": "stream",
     "text": [
      "\n",
      "Batches: 100%|██████████| 1/1 [00:08<00:00,  8.24s/it] examples/s]"
     ]
    },
    {
     "name": "stdout",
     "output_type": "stream",
     "text": [
      "[2025-09-26 13:35:35,077: INFO: 2931596709: Encoded 32 texts into embeddings of shape (32, 768)]\n"
     ]
    },
    {
     "name": "stderr",
     "output_type": "stream",
     "text": [
      "\n",
      "Batches: 100%|██████████| 1/1 [00:13<00:00, 13.31s/it] examples/s]"
     ]
    },
    {
     "name": "stdout",
     "output_type": "stream",
     "text": [
      "[2025-09-26 13:35:48,412: INFO: 2931596709: Encoded 32 texts into embeddings of shape (32, 768)]\n"
     ]
    },
    {
     "name": "stderr",
     "output_type": "stream",
     "text": [
      "\n",
      "Batches: 100%|██████████| 1/1 [00:15<00:00, 15.43s/it] examples/s]"
     ]
    },
    {
     "name": "stdout",
     "output_type": "stream",
     "text": [
      "[2025-09-26 13:36:03,865: INFO: 2931596709: Encoded 32 texts into embeddings of shape (32, 768)]\n"
     ]
    },
    {
     "name": "stderr",
     "output_type": "stream",
     "text": [
      "\n",
      "Batches: 100%|██████████| 1/1 [00:09<00:00,  9.39s/it] examples/s]"
     ]
    },
    {
     "name": "stdout",
     "output_type": "stream",
     "text": [
      "[2025-09-26 13:36:13,280: INFO: 2931596709: Encoded 32 texts into embeddings of shape (32, 768)]\n"
     ]
    },
    {
     "name": "stderr",
     "output_type": "stream",
     "text": [
      "\n",
      "Batches: 100%|██████████| 1/1 [00:13<00:00, 13.43s/it] examples/s]"
     ]
    },
    {
     "name": "stdout",
     "output_type": "stream",
     "text": [
      "[2025-09-26 13:36:26,730: INFO: 2931596709: Encoded 32 texts into embeddings of shape (32, 768)]\n"
     ]
    },
    {
     "name": "stderr",
     "output_type": "stream",
     "text": [
      "\n",
      "Batches: 100%|██████████| 1/1 [00:13<00:00, 13.30s/it] examples/s]"
     ]
    },
    {
     "name": "stdout",
     "output_type": "stream",
     "text": [
      "[2025-09-26 13:36:40,049: INFO: 2931596709: Encoded 32 texts into embeddings of shape (32, 768)]\n"
     ]
    },
    {
     "name": "stderr",
     "output_type": "stream",
     "text": [
      "\n",
      "Batches: 100%|██████████| 1/1 [00:11<00:00, 11.63s/it] examples/s]"
     ]
    },
    {
     "name": "stdout",
     "output_type": "stream",
     "text": [
      "[2025-09-26 13:36:51,706: INFO: 2931596709: Encoded 32 texts into embeddings of shape (32, 768)]\n"
     ]
    },
    {
     "name": "stderr",
     "output_type": "stream",
     "text": [
      "\n",
      "Batches: 100%|██████████| 1/1 [00:11<00:00, 11.07s/it] examples/s]"
     ]
    },
    {
     "name": "stdout",
     "output_type": "stream",
     "text": [
      "[2025-09-26 13:37:02,798: INFO: 2931596709: Encoded 32 texts into embeddings of shape (32, 768)]\n"
     ]
    },
    {
     "name": "stderr",
     "output_type": "stream",
     "text": [
      "\n",
      "Batches: 100%|██████████| 1/1 [00:12<00:00, 12.85s/it] examples/s]"
     ]
    },
    {
     "name": "stdout",
     "output_type": "stream",
     "text": [
      "[2025-09-26 13:37:15,667: INFO: 2931596709: Encoded 32 texts into embeddings of shape (32, 768)]\n"
     ]
    },
    {
     "name": "stderr",
     "output_type": "stream",
     "text": [
      "\n",
      "Batches: 100%|██████████| 1/1 [00:13<00:00, 13.34s/it] examples/s]"
     ]
    },
    {
     "name": "stdout",
     "output_type": "stream",
     "text": [
      "[2025-09-26 13:37:29,028: INFO: 2931596709: Encoded 32 texts into embeddings of shape (32, 768)]\n"
     ]
    },
    {
     "name": "stderr",
     "output_type": "stream",
     "text": [
      "\n",
      "Batches: 100%|██████████| 1/1 [00:10<00:00, 10.82s/it] examples/s]"
     ]
    },
    {
     "name": "stdout",
     "output_type": "stream",
     "text": [
      "[2025-09-26 13:37:39,865: INFO: 2931596709: Encoded 32 texts into embeddings of shape (32, 768)]\n"
     ]
    },
    {
     "name": "stderr",
     "output_type": "stream",
     "text": [
      "\n",
      "Batches: 100%|██████████| 1/1 [00:11<00:00, 11.78s/it] examples/s]"
     ]
    },
    {
     "name": "stdout",
     "output_type": "stream",
     "text": [
      "[2025-09-26 13:37:51,660: INFO: 2931596709: Encoded 32 texts into embeddings of shape (32, 768)]\n"
     ]
    },
    {
     "name": "stderr",
     "output_type": "stream",
     "text": [
      "\n",
      "Batches: 100%|██████████| 1/1 [00:11<00:00, 11.31s/it] examples/s]"
     ]
    },
    {
     "name": "stdout",
     "output_type": "stream",
     "text": [
      "[2025-09-26 13:38:02,991: INFO: 2931596709: Encoded 32 texts into embeddings of shape (32, 768)]\n"
     ]
    },
    {
     "name": "stderr",
     "output_type": "stream",
     "text": [
      "\n",
      "Batches: 100%|██████████| 1/1 [00:08<00:00,  8.52s/it] examples/s]"
     ]
    },
    {
     "name": "stdout",
     "output_type": "stream",
     "text": [
      "[2025-09-26 13:38:11,530: INFO: 2931596709: Encoded 32 texts into embeddings of shape (32, 768)]\n"
     ]
    },
    {
     "name": "stderr",
     "output_type": "stream",
     "text": [
      "\n",
      "Batches: 100%|██████████| 1/1 [00:12<00:00, 12.18s/it]xamples/s]  "
     ]
    },
    {
     "name": "stdout",
     "output_type": "stream",
     "text": [
      "[2025-09-26 13:38:23,730: INFO: 2931596709: Encoded 32 texts into embeddings of shape (32, 768)]\n"
     ]
    },
    {
     "name": "stderr",
     "output_type": "stream",
     "text": [
      "\n",
      "Batches: 100%|██████████| 1/1 [00:13<00:00, 13.26s/it]xamples/s]"
     ]
    },
    {
     "name": "stdout",
     "output_type": "stream",
     "text": [
      "[2025-09-26 13:38:37,014: INFO: 2931596709: Encoded 32 texts into embeddings of shape (32, 768)]\n"
     ]
    },
    {
     "name": "stderr",
     "output_type": "stream",
     "text": [
      "\n",
      "Batches: 100%|██████████| 1/1 [00:08<00:00,  8.80s/it] examples/s]"
     ]
    },
    {
     "name": "stdout",
     "output_type": "stream",
     "text": [
      "[2025-09-26 13:38:45,837: INFO: 2931596709: Encoded 32 texts into embeddings of shape (32, 768)]\n"
     ]
    },
    {
     "name": "stderr",
     "output_type": "stream",
     "text": [
      "\n",
      "Batches: 100%|██████████| 1/1 [00:13<00:00, 13.45s/it]xamples/s]  "
     ]
    },
    {
     "name": "stdout",
     "output_type": "stream",
     "text": [
      "[2025-09-26 13:38:59,308: INFO: 2931596709: Encoded 32 texts into embeddings of shape (32, 768)]\n"
     ]
    },
    {
     "name": "stderr",
     "output_type": "stream",
     "text": [
      "\n",
      "Batches: 100%|██████████| 1/1 [00:08<00:00,  8.06s/it] examples/s]"
     ]
    },
    {
     "name": "stdout",
     "output_type": "stream",
     "text": [
      "[2025-09-26 13:39:07,383: INFO: 2931596709: Encoded 32 texts into embeddings of shape (32, 768)]\n"
     ]
    },
    {
     "name": "stderr",
     "output_type": "stream",
     "text": [
      "\n",
      "Batches: 100%|██████████| 1/1 [00:08<00:00,  8.75s/it]xamples/s]  "
     ]
    },
    {
     "name": "stdout",
     "output_type": "stream",
     "text": [
      "[2025-09-26 13:39:16,155: INFO: 2931596709: Encoded 32 texts into embeddings of shape (32, 768)]\n"
     ]
    },
    {
     "name": "stderr",
     "output_type": "stream",
     "text": [
      "\n",
      "Batches: 100%|██████████| 1/1 [00:13<00:00, 13.72s/it]xamples/s]"
     ]
    },
    {
     "name": "stdout",
     "output_type": "stream",
     "text": [
      "[2025-09-26 13:39:29,904: INFO: 2931596709: Encoded 32 texts into embeddings of shape (32, 768)]\n"
     ]
    },
    {
     "name": "stderr",
     "output_type": "stream",
     "text": [
      "\n",
      "Batches: 100%|██████████| 1/1 [00:07<00:00,  7.48s/it]xamples/s]"
     ]
    },
    {
     "name": "stdout",
     "output_type": "stream",
     "text": [
      "[2025-09-26 13:39:37,411: INFO: 2931596709: Encoded 32 texts into embeddings of shape (32, 768)]\n"
     ]
    },
    {
     "name": "stderr",
     "output_type": "stream",
     "text": [
      "\n",
      "Batches: 100%|██████████| 1/1 [00:10<00:00, 10.26s/it]xamples/s]"
     ]
    },
    {
     "name": "stdout",
     "output_type": "stream",
     "text": [
      "[2025-09-26 13:39:47,687: INFO: 2931596709: Encoded 32 texts into embeddings of shape (32, 768)]\n"
     ]
    },
    {
     "name": "stderr",
     "output_type": "stream",
     "text": [
      "\n",
      "Batches: 100%|██████████| 1/1 [00:08<00:00,  8.43s/it]xamples/s]"
     ]
    },
    {
     "name": "stdout",
     "output_type": "stream",
     "text": [
      "[2025-09-26 13:39:56,150: INFO: 2931596709: Encoded 32 texts into embeddings of shape (32, 768)]\n"
     ]
    },
    {
     "name": "stderr",
     "output_type": "stream",
     "text": [
      "\n",
      "Batches: 100%|██████████| 1/1 [00:07<00:00,  7.56s/it]xamples/s]"
     ]
    },
    {
     "name": "stdout",
     "output_type": "stream",
     "text": [
      "[2025-09-26 13:40:03,733: INFO: 2931596709: Encoded 32 texts into embeddings of shape (32, 768)]\n"
     ]
    },
    {
     "name": "stderr",
     "output_type": "stream",
     "text": [
      "\n",
      "Batches: 100%|██████████| 1/1 [00:11<00:00, 11.38s/it]xamples/s]"
     ]
    },
    {
     "name": "stdout",
     "output_type": "stream",
     "text": [
      "[2025-09-26 13:40:15,139: INFO: 2931596709: Encoded 32 texts into embeddings of shape (32, 768)]\n"
     ]
    },
    {
     "name": "stderr",
     "output_type": "stream",
     "text": [
      "\n",
      "Batches: 100%|██████████| 1/1 [00:12<00:00, 12.43s/it]xamples/s]"
     ]
    },
    {
     "name": "stdout",
     "output_type": "stream",
     "text": [
      "[2025-09-26 13:40:27,593: INFO: 2931596709: Encoded 32 texts into embeddings of shape (32, 768)]\n"
     ]
    },
    {
     "name": "stderr",
     "output_type": "stream",
     "text": [
      "\n",
      "Batches: 100%|██████████| 1/1 [00:13<00:00, 13.33s/it]xamples/s]"
     ]
    },
    {
     "name": "stdout",
     "output_type": "stream",
     "text": [
      "[2025-09-26 13:40:40,946: INFO: 2931596709: Encoded 32 texts into embeddings of shape (32, 768)]\n"
     ]
    },
    {
     "name": "stderr",
     "output_type": "stream",
     "text": [
      "\n",
      "Batches: 100%|██████████| 1/1 [00:10<00:00, 10.08s/it]xamples/s]"
     ]
    },
    {
     "name": "stdout",
     "output_type": "stream",
     "text": [
      "[2025-09-26 13:40:51,056: INFO: 2931596709: Encoded 32 texts into embeddings of shape (32, 768)]\n"
     ]
    },
    {
     "name": "stderr",
     "output_type": "stream",
     "text": [
      "\n",
      "Batches: 100%|██████████| 1/1 [00:11<00:00, 11.38s/it]xamples/s]"
     ]
    },
    {
     "name": "stdout",
     "output_type": "stream",
     "text": [
      "[2025-09-26 13:41:02,450: INFO: 2931596709: Encoded 32 texts into embeddings of shape (32, 768)]\n"
     ]
    },
    {
     "name": "stderr",
     "output_type": "stream",
     "text": [
      "\n",
      "Batches: 100%|██████████| 1/1 [00:06<00:00,  6.97s/it]xamples/s]"
     ]
    },
    {
     "name": "stdout",
     "output_type": "stream",
     "text": [
      "[2025-09-26 13:41:09,434: INFO: 2931596709: Encoded 32 texts into embeddings of shape (32, 768)]\n"
     ]
    },
    {
     "name": "stderr",
     "output_type": "stream",
     "text": [
      "\n",
      "Batches: 100%|██████████| 1/1 [00:07<00:00,  7.56s/it]xamples/s]"
     ]
    },
    {
     "name": "stdout",
     "output_type": "stream",
     "text": [
      "[2025-09-26 13:41:17,012: INFO: 2931596709: Encoded 32 texts into embeddings of shape (32, 768)]\n"
     ]
    },
    {
     "name": "stderr",
     "output_type": "stream",
     "text": [
      "\n",
      "Batches: 100%|██████████| 1/1 [00:12<00:00, 12.48s/it]xamples/s]"
     ]
    },
    {
     "name": "stdout",
     "output_type": "stream",
     "text": [
      "[2025-09-26 13:41:29,523: INFO: 2931596709: Encoded 32 texts into embeddings of shape (32, 768)]\n"
     ]
    },
    {
     "name": "stderr",
     "output_type": "stream",
     "text": [
      "\n",
      "Batches: 100%|██████████| 1/1 [00:10<00:00, 10.29s/it]xamples/s]"
     ]
    },
    {
     "name": "stdout",
     "output_type": "stream",
     "text": [
      "[2025-09-26 13:41:39,832: INFO: 2931596709: Encoded 32 texts into embeddings of shape (32, 768)]\n"
     ]
    },
    {
     "name": "stderr",
     "output_type": "stream",
     "text": [
      "\n",
      "Batches: 100%|██████████| 1/1 [00:09<00:00,  9.76s/it]xamples/s]"
     ]
    },
    {
     "name": "stdout",
     "output_type": "stream",
     "text": [
      "[2025-09-26 13:41:49,609: INFO: 2931596709: Encoded 32 texts into embeddings of shape (32, 768)]\n"
     ]
    },
    {
     "name": "stderr",
     "output_type": "stream",
     "text": [
      "\n",
      "Batches: 100%|██████████| 1/1 [00:12<00:00, 12.82s/it]xamples/s]"
     ]
    },
    {
     "name": "stdout",
     "output_type": "stream",
     "text": [
      "[2025-09-26 13:42:02,443: INFO: 2931596709: Encoded 32 texts into embeddings of shape (32, 768)]\n"
     ]
    },
    {
     "name": "stderr",
     "output_type": "stream",
     "text": [
      "\n",
      "Batches: 100%|██████████| 1/1 [00:08<00:00,  8.56s/it]xamples/s]"
     ]
    },
    {
     "name": "stdout",
     "output_type": "stream",
     "text": [
      "[2025-09-26 13:42:11,021: INFO: 2931596709: Encoded 32 texts into embeddings of shape (32, 768)]\n"
     ]
    },
    {
     "name": "stderr",
     "output_type": "stream",
     "text": [
      "\n",
      "Batches: 100%|██████████| 1/1 [00:08<00:00,  8.11s/it]xamples/s]"
     ]
    },
    {
     "name": "stdout",
     "output_type": "stream",
     "text": [
      "[2025-09-26 13:42:19,147: INFO: 2931596709: Encoded 32 texts into embeddings of shape (32, 768)]\n"
     ]
    },
    {
     "name": "stderr",
     "output_type": "stream",
     "text": [
      "\n",
      "Batches: 100%|██████████| 1/1 [00:08<00:00,  8.12s/it]xamples/s]"
     ]
    },
    {
     "name": "stdout",
     "output_type": "stream",
     "text": [
      "[2025-09-26 13:42:27,280: INFO: 2931596709: Encoded 32 texts into embeddings of shape (32, 768)]\n"
     ]
    },
    {
     "name": "stderr",
     "output_type": "stream",
     "text": [
      "\n",
      "Batches: 100%|██████████| 1/1 [00:06<00:00,  6.73s/it]xamples/s]"
     ]
    },
    {
     "name": "stdout",
     "output_type": "stream",
     "text": [
      "[2025-09-26 13:42:34,041: INFO: 2931596709: Encoded 32 texts into embeddings of shape (32, 768)]\n"
     ]
    },
    {
     "name": "stderr",
     "output_type": "stream",
     "text": [
      "\n",
      "Batches: 100%|██████████| 1/1 [00:12<00:00, 12.34s/it]xamples/s]"
     ]
    },
    {
     "name": "stdout",
     "output_type": "stream",
     "text": [
      "[2025-09-26 13:42:46,401: INFO: 2931596709: Encoded 32 texts into embeddings of shape (32, 768)]\n"
     ]
    },
    {
     "name": "stderr",
     "output_type": "stream",
     "text": [
      "\n",
      "Batches: 100%|██████████| 1/1 [00:09<00:00,  9.19s/it]xamples/s]"
     ]
    },
    {
     "name": "stdout",
     "output_type": "stream",
     "text": [
      "[2025-09-26 13:42:55,613: INFO: 2931596709: Encoded 32 texts into embeddings of shape (32, 768)]\n"
     ]
    },
    {
     "name": "stderr",
     "output_type": "stream",
     "text": [
      "\n",
      "Batches: 100%|██████████| 1/1 [00:12<00:00, 12.32s/it]xamples/s]"
     ]
    },
    {
     "name": "stdout",
     "output_type": "stream",
     "text": [
      "[2025-09-26 13:43:07,953: INFO: 2931596709: Encoded 32 texts into embeddings of shape (32, 768)]\n"
     ]
    },
    {
     "name": "stderr",
     "output_type": "stream",
     "text": [
      "\n",
      "Batches: 100%|██████████| 1/1 [00:12<00:00, 12.61s/it]xamples/s]"
     ]
    },
    {
     "name": "stdout",
     "output_type": "stream",
     "text": [
      "[2025-09-26 13:43:20,580: INFO: 2931596709: Encoded 32 texts into embeddings of shape (32, 768)]\n"
     ]
    },
    {
     "name": "stderr",
     "output_type": "stream",
     "text": [
      "\n",
      "Batches: 100%|██████████| 1/1 [00:09<00:00,  9.09s/it]xamples/s]"
     ]
    },
    {
     "name": "stdout",
     "output_type": "stream",
     "text": [
      "[2025-09-26 13:43:29,689: INFO: 2931596709: Encoded 32 texts into embeddings of shape (32, 768)]\n"
     ]
    },
    {
     "name": "stderr",
     "output_type": "stream",
     "text": [
      "\n",
      "Batches: 100%|██████████| 1/1 [00:11<00:00, 11.32s/it]xamples/s]"
     ]
    },
    {
     "name": "stdout",
     "output_type": "stream",
     "text": [
      "[2025-09-26 13:43:41,023: INFO: 2931596709: Encoded 32 texts into embeddings of shape (32, 768)]\n"
     ]
    },
    {
     "name": "stderr",
     "output_type": "stream",
     "text": [
      "\n",
      "Batches: 100%|██████████| 1/1 [00:12<00:00, 12.33s/it]xamples/s]"
     ]
    },
    {
     "name": "stdout",
     "output_type": "stream",
     "text": [
      "[2025-09-26 13:43:53,373: INFO: 2931596709: Encoded 32 texts into embeddings of shape (32, 768)]\n"
     ]
    },
    {
     "name": "stderr",
     "output_type": "stream",
     "text": [
      "\n",
      "Batches: 100%|██████████| 1/1 [00:08<00:00,  8.06s/it]xamples/s]"
     ]
    },
    {
     "name": "stdout",
     "output_type": "stream",
     "text": [
      "[2025-09-26 13:44:01,451: INFO: 2931596709: Encoded 32 texts into embeddings of shape (32, 768)]\n"
     ]
    },
    {
     "name": "stderr",
     "output_type": "stream",
     "text": [
      "\n",
      "Batches: 100%|██████████| 1/1 [00:10<00:00, 10.27s/it]xamples/s]"
     ]
    },
    {
     "name": "stdout",
     "output_type": "stream",
     "text": [
      "[2025-09-26 13:44:11,739: INFO: 2931596709: Encoded 32 texts into embeddings of shape (32, 768)]\n"
     ]
    },
    {
     "name": "stderr",
     "output_type": "stream",
     "text": [
      "\n",
      "Batches: 100%|██████████| 1/1 [00:10<00:00, 10.31s/it]xamples/s]"
     ]
    },
    {
     "name": "stdout",
     "output_type": "stream",
     "text": [
      "[2025-09-26 13:44:22,071: INFO: 2931596709: Encoded 32 texts into embeddings of shape (32, 768)]\n"
     ]
    },
    {
     "name": "stderr",
     "output_type": "stream",
     "text": [
      "\n",
      "Batches: 100%|██████████| 1/1 [00:09<00:00,  9.48s/it]xamples/s]"
     ]
    },
    {
     "name": "stdout",
     "output_type": "stream",
     "text": [
      "[2025-09-26 13:44:31,571: INFO: 2931596709: Encoded 32 texts into embeddings of shape (32, 768)]\n"
     ]
    },
    {
     "name": "stderr",
     "output_type": "stream",
     "text": [
      "\n",
      "Batches: 100%|██████████| 1/1 [00:08<00:00,  8.46s/it]xamples/s]"
     ]
    },
    {
     "name": "stdout",
     "output_type": "stream",
     "text": [
      "[2025-09-26 13:44:40,055: INFO: 2931596709: Encoded 32 texts into embeddings of shape (32, 768)]\n"
     ]
    },
    {
     "name": "stderr",
     "output_type": "stream",
     "text": [
      "\n",
      "Batches: 100%|██████████| 1/1 [00:12<00:00, 12.33s/it]xamples/s]"
     ]
    },
    {
     "name": "stdout",
     "output_type": "stream",
     "text": [
      "[2025-09-26 13:44:52,405: INFO: 2931596709: Encoded 32 texts into embeddings of shape (32, 768)]\n"
     ]
    },
    {
     "name": "stderr",
     "output_type": "stream",
     "text": [
      "\n",
      "Batches: 100%|██████████| 1/1 [00:07<00:00,  7.87s/it]xamples/s]"
     ]
    },
    {
     "name": "stdout",
     "output_type": "stream",
     "text": [
      "[2025-09-26 13:45:00,297: INFO: 2931596709: Encoded 32 texts into embeddings of shape (32, 768)]\n"
     ]
    },
    {
     "name": "stderr",
     "output_type": "stream",
     "text": [
      "\n",
      "Batches: 100%|██████████| 1/1 [00:12<00:00, 12.88s/it]xamples/s]"
     ]
    },
    {
     "name": "stdout",
     "output_type": "stream",
     "text": [
      "[2025-09-26 13:45:13,198: INFO: 2931596709: Encoded 32 texts into embeddings of shape (32, 768)]\n"
     ]
    },
    {
     "name": "stderr",
     "output_type": "stream",
     "text": [
      "\n",
      "Batches: 100%|██████████| 1/1 [00:10<00:00, 10.97s/it]xamples/s]"
     ]
    },
    {
     "name": "stdout",
     "output_type": "stream",
     "text": [
      "[2025-09-26 13:45:24,185: INFO: 2931596709: Encoded 32 texts into embeddings of shape (32, 768)]\n"
     ]
    },
    {
     "name": "stderr",
     "output_type": "stream",
     "text": [
      "\n",
      "Batches: 100%|██████████| 1/1 [00:09<00:00,  9.18s/it]xamples/s]"
     ]
    },
    {
     "name": "stdout",
     "output_type": "stream",
     "text": [
      "[2025-09-26 13:45:33,399: INFO: 2931596709: Encoded 32 texts into embeddings of shape (32, 768)]\n"
     ]
    },
    {
     "name": "stderr",
     "output_type": "stream",
     "text": [
      "\n",
      "Batches: 100%|██████████| 1/1 [00:10<00:00, 10.46s/it]xamples/s]"
     ]
    },
    {
     "name": "stdout",
     "output_type": "stream",
     "text": [
      "[2025-09-26 13:45:43,874: INFO: 2931596709: Encoded 32 texts into embeddings of shape (32, 768)]\n"
     ]
    },
    {
     "name": "stderr",
     "output_type": "stream",
     "text": [
      "\n",
      "Batches: 100%|██████████| 1/1 [00:10<00:00, 10.72s/it]xamples/s]"
     ]
    },
    {
     "name": "stdout",
     "output_type": "stream",
     "text": [
      "[2025-09-26 13:45:54,614: INFO: 2931596709: Encoded 32 texts into embeddings of shape (32, 768)]\n"
     ]
    },
    {
     "name": "stderr",
     "output_type": "stream",
     "text": [
      "\n",
      "Batches: 100%|██████████| 1/1 [00:12<00:00, 12.33s/it]xamples/s]"
     ]
    },
    {
     "name": "stdout",
     "output_type": "stream",
     "text": [
      "[2025-09-26 13:46:06,958: INFO: 2931596709: Encoded 32 texts into embeddings of shape (32, 768)]\n"
     ]
    },
    {
     "name": "stderr",
     "output_type": "stream",
     "text": [
      "\n",
      "Batches: 100%|██████████| 1/1 [00:09<00:00,  9.09s/it]xamples/s]"
     ]
    },
    {
     "name": "stdout",
     "output_type": "stream",
     "text": [
      "[2025-09-26 13:46:16,064: INFO: 2931596709: Encoded 32 texts into embeddings of shape (32, 768)]\n"
     ]
    },
    {
     "name": "stderr",
     "output_type": "stream",
     "text": [
      "\n",
      "Batches: 100%|██████████| 1/1 [00:08<00:00,  8.19s/it]xamples/s]"
     ]
    },
    {
     "name": "stdout",
     "output_type": "stream",
     "text": [
      "[2025-09-26 13:46:24,269: INFO: 2931596709: Encoded 32 texts into embeddings of shape (32, 768)]\n"
     ]
    },
    {
     "name": "stderr",
     "output_type": "stream",
     "text": [
      "\n",
      "Batches: 100%|██████████| 1/1 [00:12<00:00, 12.66s/it]xamples/s]"
     ]
    },
    {
     "name": "stdout",
     "output_type": "stream",
     "text": [
      "[2025-09-26 13:46:36,951: INFO: 2931596709: Encoded 32 texts into embeddings of shape (32, 768)]\n"
     ]
    },
    {
     "name": "stderr",
     "output_type": "stream",
     "text": [
      "\n",
      "Batches: 100%|██████████| 1/1 [00:06<00:00,  6.89s/it]xamples/s]"
     ]
    },
    {
     "name": "stdout",
     "output_type": "stream",
     "text": [
      "[2025-09-26 13:46:43,857: INFO: 2931596709: Encoded 32 texts into embeddings of shape (32, 768)]\n"
     ]
    },
    {
     "name": "stderr",
     "output_type": "stream",
     "text": [
      "\n",
      "Batches: 100%|██████████| 1/1 [00:13<00:00, 13.10s/it]xamples/s]"
     ]
    },
    {
     "name": "stdout",
     "output_type": "stream",
     "text": [
      "[2025-09-26 13:46:56,975: INFO: 2931596709: Encoded 32 texts into embeddings of shape (32, 768)]\n"
     ]
    },
    {
     "name": "stderr",
     "output_type": "stream",
     "text": [
      "\n",
      "Batches: 100%|██████████| 1/1 [00:07<00:00,  7.69s/it]xamples/s]"
     ]
    },
    {
     "name": "stdout",
     "output_type": "stream",
     "text": [
      "[2025-09-26 13:47:04,696: INFO: 2931596709: Encoded 32 texts into embeddings of shape (32, 768)]\n"
     ]
    },
    {
     "name": "stderr",
     "output_type": "stream",
     "text": [
      "\n",
      "Batches: 100%|██████████| 1/1 [00:06<00:00,  6.54s/it]xamples/s]"
     ]
    },
    {
     "name": "stdout",
     "output_type": "stream",
     "text": [
      "[2025-09-26 13:47:11,258: INFO: 2931596709: Encoded 32 texts into embeddings of shape (32, 768)]\n"
     ]
    },
    {
     "name": "stderr",
     "output_type": "stream",
     "text": [
      "\n",
      "Batches: 100%|██████████| 1/1 [00:09<00:00,  9.06s/it]xamples/s]"
     ]
    },
    {
     "name": "stdout",
     "output_type": "stream",
     "text": [
      "[2025-09-26 13:47:20,333: INFO: 2931596709: Encoded 32 texts into embeddings of shape (32, 768)]\n"
     ]
    },
    {
     "name": "stderr",
     "output_type": "stream",
     "text": [
      "\n",
      "Batches: 100%|██████████| 1/1 [00:08<00:00,  8.00s/it]xamples/s]"
     ]
    },
    {
     "name": "stdout",
     "output_type": "stream",
     "text": [
      "[2025-09-26 13:47:28,351: INFO: 2931596709: Encoded 32 texts into embeddings of shape (32, 768)]\n"
     ]
    },
    {
     "name": "stderr",
     "output_type": "stream",
     "text": [
      "\n",
      "Batches: 100%|██████████| 1/1 [00:12<00:00, 12.07s/it]xamples/s]"
     ]
    },
    {
     "name": "stdout",
     "output_type": "stream",
     "text": [
      "[2025-09-26 13:47:40,445: INFO: 2931596709: Encoded 32 texts into embeddings of shape (32, 768)]\n"
     ]
    },
    {
     "name": "stderr",
     "output_type": "stream",
     "text": [
      "\n",
      "Batches: 100%|██████████| 1/1 [00:09<00:00,  9.82s/it]xamples/s]"
     ]
    },
    {
     "name": "stdout",
     "output_type": "stream",
     "text": [
      "[2025-09-26 13:47:50,279: INFO: 2931596709: Encoded 32 texts into embeddings of shape (32, 768)]\n"
     ]
    },
    {
     "name": "stderr",
     "output_type": "stream",
     "text": [
      "\n",
      "Batches: 100%|██████████| 1/1 [00:08<00:00,  8.68s/it]xamples/s]"
     ]
    },
    {
     "name": "stdout",
     "output_type": "stream",
     "text": [
      "[2025-09-26 13:47:58,986: INFO: 2931596709: Encoded 32 texts into embeddings of shape (32, 768)]\n"
     ]
    },
    {
     "name": "stderr",
     "output_type": "stream",
     "text": [
      "\n",
      "Batches: 100%|██████████| 1/1 [00:08<00:00,  8.65s/it]xamples/s]"
     ]
    },
    {
     "name": "stdout",
     "output_type": "stream",
     "text": [
      "[2025-09-26 13:48:07,653: INFO: 2931596709: Encoded 32 texts into embeddings of shape (32, 768)]\n"
     ]
    },
    {
     "name": "stderr",
     "output_type": "stream",
     "text": [
      "\n",
      "Batches: 100%|██████████| 1/1 [00:09<00:00,  9.84s/it]xamples/s]"
     ]
    },
    {
     "name": "stdout",
     "output_type": "stream",
     "text": [
      "[2025-09-26 13:48:17,518: INFO: 2931596709: Encoded 32 texts into embeddings of shape (32, 768)]\n"
     ]
    },
    {
     "name": "stderr",
     "output_type": "stream",
     "text": [
      "\n",
      "Batches: 100%|██████████| 1/1 [00:10<00:00, 10.25s/it]xamples/s]"
     ]
    },
    {
     "name": "stdout",
     "output_type": "stream",
     "text": [
      "[2025-09-26 13:48:27,790: INFO: 2931596709: Encoded 32 texts into embeddings of shape (32, 768)]\n"
     ]
    },
    {
     "name": "stderr",
     "output_type": "stream",
     "text": [
      "\n",
      "Batches: 100%|██████████| 1/1 [00:10<00:00, 10.49s/it]xamples/s]"
     ]
    },
    {
     "name": "stdout",
     "output_type": "stream",
     "text": [
      "[2025-09-26 13:48:38,314: INFO: 2931596709: Encoded 32 texts into embeddings of shape (32, 768)]\n"
     ]
    },
    {
     "name": "stderr",
     "output_type": "stream",
     "text": [
      "\n",
      "Batches: 100%|██████████| 1/1 [00:09<00:00,  9.69s/it]xamples/s]"
     ]
    },
    {
     "name": "stdout",
     "output_type": "stream",
     "text": [
      "[2025-09-26 13:48:48,018: INFO: 2931596709: Encoded 32 texts into embeddings of shape (32, 768)]\n"
     ]
    },
    {
     "name": "stderr",
     "output_type": "stream",
     "text": [
      "\n",
      "Batches: 100%|██████████| 1/1 [00:12<00:00, 12.40s/it]xamples/s]"
     ]
    },
    {
     "name": "stdout",
     "output_type": "stream",
     "text": [
      "[2025-09-26 13:49:00,446: INFO: 2931596709: Encoded 32 texts into embeddings of shape (32, 768)]\n"
     ]
    },
    {
     "name": "stderr",
     "output_type": "stream",
     "text": [
      "\n",
      "Batches: 100%|██████████| 1/1 [00:06<00:00,  6.29s/it]xamples/s]"
     ]
    },
    {
     "name": "stdout",
     "output_type": "stream",
     "text": [
      "[2025-09-26 13:49:06,757: INFO: 2931596709: Encoded 32 texts into embeddings of shape (32, 768)]\n"
     ]
    },
    {
     "name": "stderr",
     "output_type": "stream",
     "text": [
      "\n",
      "Batches: 100%|██████████| 1/1 [00:11<00:00, 11.68s/it]xamples/s]"
     ]
    },
    {
     "name": "stdout",
     "output_type": "stream",
     "text": [
      "[2025-09-26 13:49:18,452: INFO: 2931596709: Encoded 32 texts into embeddings of shape (32, 768)]\n"
     ]
    },
    {
     "name": "stderr",
     "output_type": "stream",
     "text": [
      "\n",
      "Batches: 100%|██████████| 1/1 [00:12<00:00, 12.38s/it]xamples/s]"
     ]
    },
    {
     "name": "stdout",
     "output_type": "stream",
     "text": [
      "[2025-09-26 13:49:30,853: INFO: 2931596709: Encoded 32 texts into embeddings of shape (32, 768)]\n"
     ]
    },
    {
     "name": "stderr",
     "output_type": "stream",
     "text": [
      "\n",
      "Batches: 100%|██████████| 1/1 [00:12<00:00, 12.13s/it]xamples/s]"
     ]
    },
    {
     "name": "stdout",
     "output_type": "stream",
     "text": [
      "[2025-09-26 13:49:42,996: INFO: 2931596709: Encoded 32 texts into embeddings of shape (32, 768)]\n"
     ]
    },
    {
     "name": "stderr",
     "output_type": "stream",
     "text": [
      "\n",
      "Batches: 100%|██████████| 1/1 [00:09<00:00,  9.83s/it]xamples/s]"
     ]
    },
    {
     "name": "stdout",
     "output_type": "stream",
     "text": [
      "[2025-09-26 13:49:52,849: INFO: 2931596709: Encoded 32 texts into embeddings of shape (32, 768)]\n"
     ]
    },
    {
     "name": "stderr",
     "output_type": "stream",
     "text": [
      "\n",
      "Batches: 100%|██████████| 1/1 [00:11<00:00, 11.77s/it]xamples/s]"
     ]
    },
    {
     "name": "stdout",
     "output_type": "stream",
     "text": [
      "[2025-09-26 13:50:04,649: INFO: 2931596709: Encoded 32 texts into embeddings of shape (32, 768)]\n"
     ]
    },
    {
     "name": "stderr",
     "output_type": "stream",
     "text": [
      "\n",
      "Batches: 100%|██████████| 1/1 [00:09<00:00,  9.01s/it]xamples/s]"
     ]
    },
    {
     "name": "stdout",
     "output_type": "stream",
     "text": [
      "[2025-09-26 13:50:13,675: INFO: 2931596709: Encoded 32 texts into embeddings of shape (32, 768)]\n"
     ]
    },
    {
     "name": "stderr",
     "output_type": "stream",
     "text": [
      "\n",
      "Batches: 100%|██████████| 1/1 [00:07<00:00,  7.65s/it]xamples/s]"
     ]
    },
    {
     "name": "stdout",
     "output_type": "stream",
     "text": [
      "[2025-09-26 13:50:21,347: INFO: 2931596709: Encoded 32 texts into embeddings of shape (32, 768)]\n"
     ]
    },
    {
     "name": "stderr",
     "output_type": "stream",
     "text": [
      "\n",
      "Batches: 100%|██████████| 1/1 [00:12<00:00, 12.27s/it]xamples/s]"
     ]
    },
    {
     "name": "stdout",
     "output_type": "stream",
     "text": [
      "[2025-09-26 13:50:33,634: INFO: 2931596709: Encoded 32 texts into embeddings of shape (32, 768)]\n"
     ]
    },
    {
     "name": "stderr",
     "output_type": "stream",
     "text": [
      "\n",
      "Batches: 100%|██████████| 1/1 [00:11<00:00, 11.25s/it]xamples/s]"
     ]
    },
    {
     "name": "stdout",
     "output_type": "stream",
     "text": [
      "[2025-09-26 13:50:44,915: INFO: 2931596709: Encoded 32 texts into embeddings of shape (32, 768)]\n"
     ]
    },
    {
     "name": "stderr",
     "output_type": "stream",
     "text": [
      "\n",
      "Batches: 100%|██████████| 1/1 [00:09<00:00,  9.30s/it]xamples/s]"
     ]
    },
    {
     "name": "stdout",
     "output_type": "stream",
     "text": [
      "[2025-09-26 13:50:54,232: INFO: 2931596709: Encoded 32 texts into embeddings of shape (32, 768)]\n"
     ]
    },
    {
     "name": "stderr",
     "output_type": "stream",
     "text": [
      "\n",
      "Batches: 100%|██████████| 1/1 [00:11<00:00, 11.45s/it]xamples/s]"
     ]
    },
    {
     "name": "stdout",
     "output_type": "stream",
     "text": [
      "[2025-09-26 13:51:05,707: INFO: 2931596709: Encoded 32 texts into embeddings of shape (32, 768)]\n"
     ]
    },
    {
     "name": "stderr",
     "output_type": "stream",
     "text": [
      "\n",
      "Batches: 100%|██████████| 1/1 [00:11<00:00, 11.98s/it]xamples/s]"
     ]
    },
    {
     "name": "stdout",
     "output_type": "stream",
     "text": [
      "[2025-09-26 13:51:17,704: INFO: 2931596709: Encoded 32 texts into embeddings of shape (32, 768)]\n"
     ]
    },
    {
     "name": "stderr",
     "output_type": "stream",
     "text": [
      "\n",
      "Batches: 100%|██████████| 1/1 [00:12<00:00, 12.50s/it]xamples/s]"
     ]
    },
    {
     "name": "stdout",
     "output_type": "stream",
     "text": [
      "[2025-09-26 13:51:30,226: INFO: 2931596709: Encoded 32 texts into embeddings of shape (32, 768)]\n"
     ]
    },
    {
     "name": "stderr",
     "output_type": "stream",
     "text": [
      "\n",
      "Batches: 100%|██████████| 1/1 [00:09<00:00,  9.78s/it]xamples/s]"
     ]
    },
    {
     "name": "stdout",
     "output_type": "stream",
     "text": [
      "[2025-09-26 13:51:40,025: INFO: 2931596709: Encoded 32 texts into embeddings of shape (32, 768)]\n"
     ]
    },
    {
     "name": "stderr",
     "output_type": "stream",
     "text": [
      "\n",
      "Batches: 100%|██████████| 1/1 [00:08<00:00,  8.99s/it]xamples/s]"
     ]
    },
    {
     "name": "stdout",
     "output_type": "stream",
     "text": [
      "[2025-09-26 13:51:49,032: INFO: 2931596709: Encoded 32 texts into embeddings of shape (32, 768)]\n"
     ]
    },
    {
     "name": "stderr",
     "output_type": "stream",
     "text": [
      "\n",
      "Batches: 100%|██████████| 1/1 [00:08<00:00,  8.45s/it]xamples/s]"
     ]
    },
    {
     "name": "stdout",
     "output_type": "stream",
     "text": [
      "[2025-09-26 13:51:57,535: INFO: 2931596709: Encoded 32 texts into embeddings of shape (32, 768)]\n"
     ]
    },
    {
     "name": "stderr",
     "output_type": "stream",
     "text": [
      "\n",
      "Batches: 100%|██████████| 1/1 [00:12<00:00, 12.48s/it]xamples/s]"
     ]
    },
    {
     "name": "stdout",
     "output_type": "stream",
     "text": [
      "[2025-09-26 13:52:10,040: INFO: 2931596709: Encoded 32 texts into embeddings of shape (32, 768)]\n"
     ]
    },
    {
     "name": "stderr",
     "output_type": "stream",
     "text": [
      "\n",
      "Batches: 100%|██████████| 1/1 [00:08<00:00,  8.49s/it]xamples/s]"
     ]
    },
    {
     "name": "stdout",
     "output_type": "stream",
     "text": [
      "[2025-09-26 13:52:18,546: INFO: 2931596709: Encoded 32 texts into embeddings of shape (32, 768)]\n"
     ]
    },
    {
     "name": "stderr",
     "output_type": "stream",
     "text": [
      "\n",
      "Batches: 100%|██████████| 1/1 [00:09<00:00,  9.75s/it]xamples/s]"
     ]
    },
    {
     "name": "stdout",
     "output_type": "stream",
     "text": [
      "[2025-09-26 13:52:28,322: INFO: 2931596709: Encoded 32 texts into embeddings of shape (32, 768)]\n"
     ]
    },
    {
     "name": "stderr",
     "output_type": "stream",
     "text": [
      "\n",
      "Batches: 100%|██████████| 1/1 [00:07<00:00,  7.01s/it]xamples/s]"
     ]
    },
    {
     "name": "stdout",
     "output_type": "stream",
     "text": [
      "[2025-09-26 13:52:35,344: INFO: 2931596709: Encoded 32 texts into embeddings of shape (32, 768)]\n"
     ]
    },
    {
     "name": "stderr",
     "output_type": "stream",
     "text": [
      "\n",
      "Batches: 100%|██████████| 1/1 [00:09<00:00,  9.66s/it]xamples/s]"
     ]
    },
    {
     "name": "stdout",
     "output_type": "stream",
     "text": [
      "[2025-09-26 13:52:45,023: INFO: 2931596709: Encoded 32 texts into embeddings of shape (32, 768)]\n"
     ]
    },
    {
     "name": "stderr",
     "output_type": "stream",
     "text": [
      "\n",
      "Batches: 100%|██████████| 1/1 [00:11<00:00, 11.36s/it]xamples/s]"
     ]
    },
    {
     "name": "stdout",
     "output_type": "stream",
     "text": [
      "[2025-09-26 13:52:56,402: INFO: 2931596709: Encoded 32 texts into embeddings of shape (32, 768)]\n"
     ]
    },
    {
     "name": "stderr",
     "output_type": "stream",
     "text": [
      "\n",
      "Batches: 100%|██████████| 1/1 [00:08<00:00,  8.87s/it]xamples/s]"
     ]
    },
    {
     "name": "stdout",
     "output_type": "stream",
     "text": [
      "[2025-09-26 13:53:05,302: INFO: 2931596709: Encoded 32 texts into embeddings of shape (32, 768)]\n"
     ]
    },
    {
     "name": "stderr",
     "output_type": "stream",
     "text": [
      "\n",
      "Batches: 100%|██████████| 1/1 [00:12<00:00, 12.42s/it]xamples/s]"
     ]
    },
    {
     "name": "stdout",
     "output_type": "stream",
     "text": [
      "[2025-09-26 13:53:17,742: INFO: 2931596709: Encoded 32 texts into embeddings of shape (32, 768)]\n"
     ]
    },
    {
     "name": "stderr",
     "output_type": "stream",
     "text": [
      "\n",
      "Batches: 100%|██████████| 1/1 [00:11<00:00, 11.60s/it]xamples/s]"
     ]
    },
    {
     "name": "stdout",
     "output_type": "stream",
     "text": [
      "[2025-09-26 13:53:29,364: INFO: 2931596709: Encoded 32 texts into embeddings of shape (32, 768)]\n"
     ]
    },
    {
     "name": "stderr",
     "output_type": "stream",
     "text": [
      "\n",
      "Batches: 100%|██████████| 1/1 [00:06<00:00,  6.86s/it]xamples/s]"
     ]
    },
    {
     "name": "stdout",
     "output_type": "stream",
     "text": [
      "[2025-09-26 13:53:36,244: INFO: 2931596709: Encoded 32 texts into embeddings of shape (32, 768)]\n"
     ]
    },
    {
     "name": "stderr",
     "output_type": "stream",
     "text": [
      "\n",
      "Batches: 100%|██████████| 1/1 [00:11<00:00, 11.19s/it]xamples/s]"
     ]
    },
    {
     "name": "stdout",
     "output_type": "stream",
     "text": [
      "[2025-09-26 13:53:47,452: INFO: 2931596709: Encoded 32 texts into embeddings of shape (32, 768)]\n"
     ]
    },
    {
     "name": "stderr",
     "output_type": "stream",
     "text": [
      "\n",
      "Batches: 100%|██████████| 1/1 [00:12<00:00, 12.42s/it]xamples/s]"
     ]
    },
    {
     "name": "stdout",
     "output_type": "stream",
     "text": [
      "[2025-09-26 13:53:59,889: INFO: 2931596709: Encoded 32 texts into embeddings of shape (32, 768)]\n"
     ]
    },
    {
     "name": "stderr",
     "output_type": "stream",
     "text": [
      "\n",
      "Batches: 100%|██████████| 1/1 [00:11<00:00, 11.23s/it]xamples/s]"
     ]
    },
    {
     "name": "stdout",
     "output_type": "stream",
     "text": [
      "[2025-09-26 13:54:11,139: INFO: 2931596709: Encoded 32 texts into embeddings of shape (32, 768)]\n"
     ]
    },
    {
     "name": "stderr",
     "output_type": "stream",
     "text": [
      "\n",
      "Batches: 100%|██████████| 1/1 [00:07<00:00,  7.47s/it]xamples/s]"
     ]
    },
    {
     "name": "stdout",
     "output_type": "stream",
     "text": [
      "[2025-09-26 13:54:18,636: INFO: 2931596709: Encoded 32 texts into embeddings of shape (32, 768)]\n"
     ]
    },
    {
     "name": "stderr",
     "output_type": "stream",
     "text": [
      "\n",
      "Batches: 100%|██████████| 1/1 [00:08<00:00,  8.55s/it]xamples/s]"
     ]
    },
    {
     "name": "stdout",
     "output_type": "stream",
     "text": [
      "[2025-09-26 13:54:27,202: INFO: 2931596709: Encoded 32 texts into embeddings of shape (32, 768)]\n"
     ]
    },
    {
     "name": "stderr",
     "output_type": "stream",
     "text": [
      "\n",
      "Batches: 100%|██████████| 1/1 [00:07<00:00,  7.13s/it]xamples/s]"
     ]
    },
    {
     "name": "stdout",
     "output_type": "stream",
     "text": [
      "[2025-09-26 13:54:34,347: INFO: 2931596709: Encoded 32 texts into embeddings of shape (32, 768)]\n"
     ]
    },
    {
     "name": "stderr",
     "output_type": "stream",
     "text": [
      "\n",
      "Batches: 100%|██████████| 1/1 [00:07<00:00,  7.16s/it]xamples/s]"
     ]
    },
    {
     "name": "stdout",
     "output_type": "stream",
     "text": [
      "[2025-09-26 13:54:41,528: INFO: 2931596709: Encoded 32 texts into embeddings of shape (32, 768)]\n"
     ]
    },
    {
     "name": "stderr",
     "output_type": "stream",
     "text": [
      "\n",
      "Batches: 100%|██████████| 1/1 [00:09<00:00,  9.57s/it]xamples/s]"
     ]
    },
    {
     "name": "stdout",
     "output_type": "stream",
     "text": [
      "[2025-09-26 13:54:51,119: INFO: 2931596709: Encoded 32 texts into embeddings of shape (32, 768)]\n"
     ]
    },
    {
     "name": "stderr",
     "output_type": "stream",
     "text": [
      "\n",
      "Batches: 100%|██████████| 1/1 [00:12<00:00, 12.68s/it]xamples/s]"
     ]
    },
    {
     "name": "stdout",
     "output_type": "stream",
     "text": [
      "[2025-09-26 13:55:03,817: INFO: 2931596709: Encoded 32 texts into embeddings of shape (32, 768)]\n"
     ]
    },
    {
     "name": "stderr",
     "output_type": "stream",
     "text": [
      "\n",
      "Batches: 100%|██████████| 1/1 [00:09<00:00,  9.54s/it]xamples/s]"
     ]
    },
    {
     "name": "stdout",
     "output_type": "stream",
     "text": [
      "[2025-09-26 13:55:13,383: INFO: 2931596709: Encoded 32 texts into embeddings of shape (32, 768)]\n"
     ]
    },
    {
     "name": "stderr",
     "output_type": "stream",
     "text": [
      "\n",
      "Batches: 100%|██████████| 1/1 [00:09<00:00,  9.09s/it]xamples/s]"
     ]
    },
    {
     "name": "stdout",
     "output_type": "stream",
     "text": [
      "[2025-09-26 13:55:22,493: INFO: 2931596709: Encoded 32 texts into embeddings of shape (32, 768)]\n"
     ]
    },
    {
     "name": "stderr",
     "output_type": "stream",
     "text": [
      "\n",
      "Batches: 100%|██████████| 1/1 [00:06<00:00,  6.26s/it]xamples/s]"
     ]
    },
    {
     "name": "stdout",
     "output_type": "stream",
     "text": [
      "[2025-09-26 13:55:28,774: INFO: 2931596709: Encoded 32 texts into embeddings of shape (32, 768)]\n"
     ]
    },
    {
     "name": "stderr",
     "output_type": "stream",
     "text": [
      "\n",
      "Batches: 100%|██████████| 1/1 [00:09<00:00,  9.07s/it]xamples/s]"
     ]
    },
    {
     "name": "stdout",
     "output_type": "stream",
     "text": [
      "[2025-09-26 13:55:37,870: INFO: 2931596709: Encoded 32 texts into embeddings of shape (32, 768)]\n"
     ]
    },
    {
     "name": "stderr",
     "output_type": "stream",
     "text": [
      "\n",
      "Batches: 100%|██████████| 1/1 [00:07<00:00,  7.50s/it]xamples/s]"
     ]
    },
    {
     "name": "stdout",
     "output_type": "stream",
     "text": [
      "[2025-09-26 13:55:45,394: INFO: 2931596709: Encoded 32 texts into embeddings of shape (32, 768)]\n"
     ]
    },
    {
     "name": "stderr",
     "output_type": "stream",
     "text": [
      "\n",
      "Batches: 100%|██████████| 1/1 [00:12<00:00, 12.39s/it]xamples/s]"
     ]
    },
    {
     "name": "stdout",
     "output_type": "stream",
     "text": [
      "[2025-09-26 13:55:57,805: INFO: 2931596709: Encoded 32 texts into embeddings of shape (32, 768)]\n"
     ]
    },
    {
     "name": "stderr",
     "output_type": "stream",
     "text": [
      "\n",
      "Batches: 100%|██████████| 1/1 [00:08<00:00,  8.89s/it]xamples/s]"
     ]
    },
    {
     "name": "stdout",
     "output_type": "stream",
     "text": [
      "[2025-09-26 13:56:06,717: INFO: 2931596709: Encoded 32 texts into embeddings of shape (32, 768)]\n"
     ]
    },
    {
     "name": "stderr",
     "output_type": "stream",
     "text": [
      "\n",
      "Batches: 100%|██████████| 1/1 [00:12<00:00, 12.50s/it]xamples/s]"
     ]
    },
    {
     "name": "stdout",
     "output_type": "stream",
     "text": [
      "[2025-09-26 13:56:19,240: INFO: 2931596709: Encoded 32 texts into embeddings of shape (32, 768)]\n"
     ]
    },
    {
     "name": "stderr",
     "output_type": "stream",
     "text": [
      "\n",
      "Batches: 100%|██████████| 1/1 [00:10<00:00, 10.59s/it]xamples/s]"
     ]
    },
    {
     "name": "stdout",
     "output_type": "stream",
     "text": [
      "[2025-09-26 13:56:29,848: INFO: 2931596709: Encoded 32 texts into embeddings of shape (32, 768)]\n"
     ]
    },
    {
     "name": "stderr",
     "output_type": "stream",
     "text": [
      "\n",
      "Batches: 100%|██████████| 1/1 [00:09<00:00,  9.79s/it]xamples/s]"
     ]
    },
    {
     "name": "stdout",
     "output_type": "stream",
     "text": [
      "[2025-09-26 13:56:39,662: INFO: 2931596709: Encoded 32 texts into embeddings of shape (32, 768)]\n"
     ]
    },
    {
     "name": "stderr",
     "output_type": "stream",
     "text": [
      "\n",
      "Batches: 100%|██████████| 1/1 [00:10<00:00, 10.66s/it]xamples/s]"
     ]
    },
    {
     "name": "stdout",
     "output_type": "stream",
     "text": [
      "[2025-09-26 13:56:50,336: INFO: 2931596709: Encoded 32 texts into embeddings of shape (32, 768)]\n"
     ]
    },
    {
     "name": "stderr",
     "output_type": "stream",
     "text": [
      "\n",
      "Batches: 100%|██████████| 1/1 [00:12<00:00, 12.42s/it]xamples/s]"
     ]
    },
    {
     "name": "stdout",
     "output_type": "stream",
     "text": [
      "[2025-09-26 13:57:02,775: INFO: 2931596709: Encoded 32 texts into embeddings of shape (32, 768)]\n"
     ]
    },
    {
     "name": "stderr",
     "output_type": "stream",
     "text": [
      "\n",
      "Batches: 100%|██████████| 1/1 [00:07<00:00,  7.29s/it]xamples/s]"
     ]
    },
    {
     "name": "stdout",
     "output_type": "stream",
     "text": [
      "[2025-09-26 13:57:10,096: INFO: 2931596709: Encoded 32 texts into embeddings of shape (32, 768)]\n"
     ]
    },
    {
     "name": "stderr",
     "output_type": "stream",
     "text": [
      "\n",
      "Batches: 100%|██████████| 1/1 [00:06<00:00,  6.06s/it]xamples/s]"
     ]
    },
    {
     "name": "stdout",
     "output_type": "stream",
     "text": [
      "[2025-09-26 13:57:16,178: INFO: 2931596709: Encoded 32 texts into embeddings of shape (32, 768)]\n"
     ]
    },
    {
     "name": "stderr",
     "output_type": "stream",
     "text": [
      "\n",
      "Batches: 100%|██████████| 1/1 [00:12<00:00, 12.28s/it]xamples/s]"
     ]
    },
    {
     "name": "stdout",
     "output_type": "stream",
     "text": [
      "[2025-09-26 13:57:28,473: INFO: 2931596709: Encoded 32 texts into embeddings of shape (32, 768)]\n"
     ]
    },
    {
     "name": "stderr",
     "output_type": "stream",
     "text": [
      "\n",
      "Batches: 100%|██████████| 1/1 [00:12<00:00, 12.35s/it]xamples/s]"
     ]
    },
    {
     "name": "stdout",
     "output_type": "stream",
     "text": [
      "[2025-09-26 13:57:40,843: INFO: 2931596709: Encoded 32 texts into embeddings of shape (32, 768)]\n"
     ]
    },
    {
     "name": "stderr",
     "output_type": "stream",
     "text": [
      "\n",
      "Batches: 100%|██████████| 1/1 [00:10<00:00, 10.28s/it]xamples/s]"
     ]
    },
    {
     "name": "stdout",
     "output_type": "stream",
     "text": [
      "[2025-09-26 13:57:51,143: INFO: 2931596709: Encoded 32 texts into embeddings of shape (32, 768)]\n"
     ]
    },
    {
     "name": "stderr",
     "output_type": "stream",
     "text": [
      "\n",
      "Batches: 100%|██████████| 1/1 [00:09<00:00,  9.86s/it]xamples/s]"
     ]
    },
    {
     "name": "stdout",
     "output_type": "stream",
     "text": [
      "[2025-09-26 13:58:01,027: INFO: 2931596709: Encoded 32 texts into embeddings of shape (32, 768)]\n"
     ]
    },
    {
     "name": "stderr",
     "output_type": "stream",
     "text": [
      "\n",
      "Batches: 100%|██████████| 1/1 [00:09<00:00,  9.01s/it]xamples/s]"
     ]
    },
    {
     "name": "stdout",
     "output_type": "stream",
     "text": [
      "[2025-09-26 13:58:10,064: INFO: 2931596709: Encoded 32 texts into embeddings of shape (32, 768)]\n"
     ]
    },
    {
     "name": "stderr",
     "output_type": "stream",
     "text": [
      "\n",
      "Batches: 100%|██████████| 1/1 [00:12<00:00, 12.20s/it]xamples/s]"
     ]
    },
    {
     "name": "stdout",
     "output_type": "stream",
     "text": [
      "[2025-09-26 13:58:22,283: INFO: 2931596709: Encoded 32 texts into embeddings of shape (32, 768)]\n"
     ]
    },
    {
     "name": "stderr",
     "output_type": "stream",
     "text": [
      "\n",
      "Batches: 100%|██████████| 1/1 [00:09<00:00,  9.84s/it]xamples/s]"
     ]
    },
    {
     "name": "stdout",
     "output_type": "stream",
     "text": [
      "[2025-09-26 13:58:32,137: INFO: 2931596709: Encoded 32 texts into embeddings of shape (32, 768)]\n"
     ]
    },
    {
     "name": "stderr",
     "output_type": "stream",
     "text": [
      "\n",
      "Batches: 100%|██████████| 1/1 [00:12<00:00, 12.30s/it]xamples/s]"
     ]
    },
    {
     "name": "stdout",
     "output_type": "stream",
     "text": [
      "[2025-09-26 13:58:44,454: INFO: 2931596709: Encoded 32 texts into embeddings of shape (32, 768)]\n"
     ]
    },
    {
     "name": "stderr",
     "output_type": "stream",
     "text": [
      "\n",
      "Batches: 100%|██████████| 1/1 [00:10<00:00, 10.40s/it]xamples/s]"
     ]
    },
    {
     "name": "stdout",
     "output_type": "stream",
     "text": [
      "[2025-09-26 13:58:54,868: INFO: 2931596709: Encoded 32 texts into embeddings of shape (32, 768)]\n"
     ]
    },
    {
     "name": "stderr",
     "output_type": "stream",
     "text": [
      "\n",
      "Batches: 100%|██████████| 1/1 [00:12<00:00, 12.31s/it]xamples/s]"
     ]
    },
    {
     "name": "stdout",
     "output_type": "stream",
     "text": [
      "[2025-09-26 13:59:07,193: INFO: 2931596709: Encoded 32 texts into embeddings of shape (32, 768)]\n"
     ]
    },
    {
     "name": "stderr",
     "output_type": "stream",
     "text": [
      "\n",
      "Batches: 100%|██████████| 1/1 [00:12<00:00, 12.82s/it]xamples/s]"
     ]
    },
    {
     "name": "stdout",
     "output_type": "stream",
     "text": [
      "[2025-09-26 13:59:20,028: INFO: 2931596709: Encoded 32 texts into embeddings of shape (32, 768)]\n"
     ]
    },
    {
     "name": "stderr",
     "output_type": "stream",
     "text": [
      "\n",
      "Batches: 100%|██████████| 1/1 [00:07<00:00,  7.08s/it]xamples/s]"
     ]
    },
    {
     "name": "stdout",
     "output_type": "stream",
     "text": [
      "[2025-09-26 13:59:27,134: INFO: 2931596709: Encoded 32 texts into embeddings of shape (32, 768)]\n"
     ]
    },
    {
     "name": "stderr",
     "output_type": "stream",
     "text": [
      "\n",
      "Batches: 100%|██████████| 1/1 [00:12<00:00, 12.37s/it]xamples/s]"
     ]
    },
    {
     "name": "stdout",
     "output_type": "stream",
     "text": [
      "[2025-09-26 13:59:39,527: INFO: 2931596709: Encoded 32 texts into embeddings of shape (32, 768)]\n"
     ]
    },
    {
     "name": "stderr",
     "output_type": "stream",
     "text": [
      "\n",
      "Batches: 100%|██████████| 1/1 [00:08<00:00,  8.30s/it]xamples/s]"
     ]
    },
    {
     "name": "stdout",
     "output_type": "stream",
     "text": [
      "[2025-09-26 13:59:47,844: INFO: 2931596709: Encoded 32 texts into embeddings of shape (32, 768)]\n"
     ]
    },
    {
     "name": "stderr",
     "output_type": "stream",
     "text": [
      "\n",
      "Batches: 100%|██████████| 1/1 [00:10<00:00, 10.79s/it]xamples/s]"
     ]
    },
    {
     "name": "stdout",
     "output_type": "stream",
     "text": [
      "[2025-09-26 13:59:58,655: INFO: 2931596709: Encoded 32 texts into embeddings of shape (32, 768)]\n"
     ]
    },
    {
     "name": "stderr",
     "output_type": "stream",
     "text": [
      "\n",
      "Batches: 100%|██████████| 1/1 [00:08<00:00,  8.27s/it]xamples/s]"
     ]
    },
    {
     "name": "stdout",
     "output_type": "stream",
     "text": [
      "[2025-09-26 14:00:06,941: INFO: 2931596709: Encoded 32 texts into embeddings of shape (32, 768)]\n"
     ]
    },
    {
     "name": "stderr",
     "output_type": "stream",
     "text": [
      "\n",
      "Batches: 100%|██████████| 1/1 [00:12<00:00, 12.79s/it]xamples/s]"
     ]
    },
    {
     "name": "stdout",
     "output_type": "stream",
     "text": [
      "[2025-09-26 14:00:19,758: INFO: 2931596709: Encoded 32 texts into embeddings of shape (32, 768)]\n"
     ]
    },
    {
     "name": "stderr",
     "output_type": "stream",
     "text": [
      "\n",
      "Batches: 100%|██████████| 1/1 [00:13<00:00, 13.26s/it]xamples/s]"
     ]
    },
    {
     "name": "stdout",
     "output_type": "stream",
     "text": [
      "[2025-09-26 14:00:33,046: INFO: 2931596709: Encoded 32 texts into embeddings of shape (32, 768)]\n"
     ]
    },
    {
     "name": "stderr",
     "output_type": "stream",
     "text": [
      "\n",
      "Batches: 100%|██████████| 1/1 [00:12<00:00, 12.84s/it]xamples/s]"
     ]
    },
    {
     "name": "stdout",
     "output_type": "stream",
     "text": [
      "[2025-09-26 14:00:45,900: INFO: 2931596709: Encoded 32 texts into embeddings of shape (32, 768)]\n"
     ]
    },
    {
     "name": "stderr",
     "output_type": "stream",
     "text": [
      "\n",
      "Batches: 100%|██████████| 1/1 [00:08<00:00,  8.92s/it]xamples/s]"
     ]
    },
    {
     "name": "stdout",
     "output_type": "stream",
     "text": [
      "[2025-09-26 14:00:54,850: INFO: 2931596709: Encoded 32 texts into embeddings of shape (32, 768)]\n"
     ]
    },
    {
     "name": "stderr",
     "output_type": "stream",
     "text": [
      "\n",
      "Batches: 100%|██████████| 1/1 [00:08<00:00,  8.51s/it]xamples/s]"
     ]
    },
    {
     "name": "stdout",
     "output_type": "stream",
     "text": [
      "[2025-09-26 14:01:03,378: INFO: 2931596709: Encoded 32 texts into embeddings of shape (32, 768)]\n"
     ]
    },
    {
     "name": "stderr",
     "output_type": "stream",
     "text": [
      "\n",
      "Batches: 100%|██████████| 1/1 [00:11<00:00, 11.83s/it]xamples/s]"
     ]
    },
    {
     "name": "stdout",
     "output_type": "stream",
     "text": [
      "[2025-09-26 14:01:15,222: INFO: 2931596709: Encoded 32 texts into embeddings of shape (32, 768)]\n"
     ]
    },
    {
     "name": "stderr",
     "output_type": "stream",
     "text": [
      "\n",
      "Batches: 100%|██████████| 1/1 [00:07<00:00,  7.31s/it]xamples/s]"
     ]
    },
    {
     "name": "stdout",
     "output_type": "stream",
     "text": [
      "[2025-09-26 14:01:22,556: INFO: 2931596709: Encoded 32 texts into embeddings of shape (32, 768)]\n"
     ]
    },
    {
     "name": "stderr",
     "output_type": "stream",
     "text": [
      "\n",
      "Batches: 100%|██████████| 1/1 [00:13<00:00, 13.35s/it]xamples/s]"
     ]
    },
    {
     "name": "stdout",
     "output_type": "stream",
     "text": [
      "[2025-09-26 14:01:35,920: INFO: 2931596709: Encoded 32 texts into embeddings of shape (32, 768)]\n"
     ]
    },
    {
     "name": "stderr",
     "output_type": "stream",
     "text": [
      "\n",
      "Batches: 100%|██████████| 1/1 [00:08<00:00,  8.59s/it]xamples/s]"
     ]
    },
    {
     "name": "stdout",
     "output_type": "stream",
     "text": [
      "[2025-09-26 14:01:44,529: INFO: 2931596709: Encoded 32 texts into embeddings of shape (32, 768)]\n"
     ]
    },
    {
     "name": "stderr",
     "output_type": "stream",
     "text": [
      "\n",
      "Batches: 100%|██████████| 1/1 [00:09<00:00,  9.93s/it]xamples/s]"
     ]
    },
    {
     "name": "stdout",
     "output_type": "stream",
     "text": [
      "[2025-09-26 14:01:54,484: INFO: 2931596709: Encoded 32 texts into embeddings of shape (32, 768)]\n"
     ]
    },
    {
     "name": "stderr",
     "output_type": "stream",
     "text": [
      "\n",
      "Batches: 100%|██████████| 1/1 [00:12<00:00, 12.10s/it]xamples/s]"
     ]
    },
    {
     "name": "stdout",
     "output_type": "stream",
     "text": [
      "[2025-09-26 14:02:06,609: INFO: 2931596709: Encoded 32 texts into embeddings of shape (32, 768)]\n"
     ]
    },
    {
     "name": "stderr",
     "output_type": "stream",
     "text": [
      "\n",
      "Batches: 100%|██████████| 1/1 [00:11<00:00, 11.57s/it]xamples/s]"
     ]
    },
    {
     "name": "stdout",
     "output_type": "stream",
     "text": [
      "[2025-09-26 14:02:18,195: INFO: 2931596709: Encoded 32 texts into embeddings of shape (32, 768)]\n"
     ]
    },
    {
     "name": "stderr",
     "output_type": "stream",
     "text": [
      "\n",
      "Batches: 100%|██████████| 1/1 [00:09<00:00,  9.91s/it]xamples/s]"
     ]
    },
    {
     "name": "stdout",
     "output_type": "stream",
     "text": [
      "[2025-09-26 14:02:28,120: INFO: 2931596709: Encoded 32 texts into embeddings of shape (32, 768)]\n"
     ]
    },
    {
     "name": "stderr",
     "output_type": "stream",
     "text": [
      "\n",
      "Batches: 100%|██████████| 1/1 [00:13<00:00, 13.99s/it]xamples/s]"
     ]
    },
    {
     "name": "stdout",
     "output_type": "stream",
     "text": [
      "[2025-09-26 14:02:42,145: INFO: 2931596709: Encoded 32 texts into embeddings of shape (32, 768)]\n"
     ]
    },
    {
     "name": "stderr",
     "output_type": "stream",
     "text": [
      "\n",
      "Batches: 100%|██████████| 1/1 [00:13<00:00, 13.09s/it]xamples/s]"
     ]
    },
    {
     "name": "stdout",
     "output_type": "stream",
     "text": [
      "[2025-09-26 14:02:55,264: INFO: 2931596709: Encoded 32 texts into embeddings of shape (32, 768)]\n"
     ]
    },
    {
     "name": "stderr",
     "output_type": "stream",
     "text": [
      "\n",
      "Batches: 100%|██████████| 1/1 [00:13<00:00, 13.28s/it]xamples/s]"
     ]
    },
    {
     "name": "stdout",
     "output_type": "stream",
     "text": [
      "[2025-09-26 14:03:08,562: INFO: 2931596709: Encoded 32 texts into embeddings of shape (32, 768)]\n"
     ]
    },
    {
     "name": "stderr",
     "output_type": "stream",
     "text": [
      "\n",
      "Batches: 100%|██████████| 1/1 [00:10<00:00, 10.58s/it]xamples/s]"
     ]
    },
    {
     "name": "stdout",
     "output_type": "stream",
     "text": [
      "[2025-09-26 14:03:19,166: INFO: 2931596709: Encoded 32 texts into embeddings of shape (32, 768)]\n"
     ]
    },
    {
     "name": "stderr",
     "output_type": "stream",
     "text": [
      "\n",
      "Batches: 100%|██████████| 1/1 [00:12<00:00, 12.90s/it]xamples/s]"
     ]
    },
    {
     "name": "stdout",
     "output_type": "stream",
     "text": [
      "[2025-09-26 14:03:32,086: INFO: 2931596709: Encoded 32 texts into embeddings of shape (32, 768)]\n"
     ]
    },
    {
     "name": "stderr",
     "output_type": "stream",
     "text": [
      "\n",
      "Batches: 100%|██████████| 1/1 [00:10<00:00, 10.01s/it]xamples/s]"
     ]
    },
    {
     "name": "stdout",
     "output_type": "stream",
     "text": [
      "[2025-09-26 14:03:42,124: INFO: 2931596709: Encoded 32 texts into embeddings of shape (32, 768)]\n"
     ]
    },
    {
     "name": "stderr",
     "output_type": "stream",
     "text": [
      "\n",
      "Batches: 100%|██████████| 1/1 [00:09<00:00,  9.99s/it]xamples/s]"
     ]
    },
    {
     "name": "stdout",
     "output_type": "stream",
     "text": [
      "[2025-09-26 14:03:52,141: INFO: 2931596709: Encoded 32 texts into embeddings of shape (32, 768)]\n"
     ]
    },
    {
     "name": "stderr",
     "output_type": "stream",
     "text": [
      "\n",
      "Batches: 100%|██████████| 1/1 [00:07<00:00,  7.22s/it]xamples/s]"
     ]
    },
    {
     "name": "stdout",
     "output_type": "stream",
     "text": [
      "[2025-09-26 14:03:59,382: INFO: 2931596709: Encoded 32 texts into embeddings of shape (32, 768)]\n"
     ]
    },
    {
     "name": "stderr",
     "output_type": "stream",
     "text": [
      "\n",
      "Batches: 100%|██████████| 1/1 [00:12<00:00, 12.07s/it]xamples/s]"
     ]
    },
    {
     "name": "stdout",
     "output_type": "stream",
     "text": [
      "[2025-09-26 14:04:11,471: INFO: 2931596709: Encoded 32 texts into embeddings of shape (32, 768)]\n"
     ]
    },
    {
     "name": "stderr",
     "output_type": "stream",
     "text": [
      "\n",
      "Batches: 100%|██████████| 1/1 [00:09<00:00,  9.66s/it]xamples/s]"
     ]
    },
    {
     "name": "stdout",
     "output_type": "stream",
     "text": [
      "[2025-09-26 14:04:21,148: INFO: 2931596709: Encoded 32 texts into embeddings of shape (32, 768)]\n"
     ]
    },
    {
     "name": "stderr",
     "output_type": "stream",
     "text": [
      "\n",
      "Batches: 100%|██████████| 1/1 [00:11<00:00, 11.54s/it]xamples/s]"
     ]
    },
    {
     "name": "stdout",
     "output_type": "stream",
     "text": [
      "[2025-09-26 14:04:32,710: INFO: 2931596709: Encoded 32 texts into embeddings of shape (32, 768)]\n"
     ]
    },
    {
     "name": "stderr",
     "output_type": "stream",
     "text": [
      "\n",
      "Batches: 100%|██████████| 1/1 [00:12<00:00, 12.09s/it]xamples/s]"
     ]
    },
    {
     "name": "stdout",
     "output_type": "stream",
     "text": [
      "[2025-09-26 14:04:44,818: INFO: 2931596709: Encoded 32 texts into embeddings of shape (32, 768)]\n"
     ]
    },
    {
     "name": "stderr",
     "output_type": "stream",
     "text": [
      "\n",
      "Batches: 100%|██████████| 1/1 [00:12<00:00, 12.05s/it]xamples/s]"
     ]
    },
    {
     "name": "stdout",
     "output_type": "stream",
     "text": [
      "[2025-09-26 14:04:56,888: INFO: 2931596709: Encoded 32 texts into embeddings of shape (32, 768)]\n"
     ]
    },
    {
     "name": "stderr",
     "output_type": "stream",
     "text": [
      "\n",
      "Batches: 100%|██████████| 1/1 [00:12<00:00, 12.54s/it]xamples/s]"
     ]
    },
    {
     "name": "stdout",
     "output_type": "stream",
     "text": [
      "[2025-09-26 14:05:09,450: INFO: 2931596709: Encoded 32 texts into embeddings of shape (32, 768)]\n"
     ]
    },
    {
     "name": "stderr",
     "output_type": "stream",
     "text": [
      "\n",
      "Batches: 100%|██████████| 1/1 [00:12<00:00, 12.21s/it]xamples/s]"
     ]
    },
    {
     "name": "stdout",
     "output_type": "stream",
     "text": [
      "[2025-09-26 14:05:21,678: INFO: 2931596709: Encoded 32 texts into embeddings of shape (32, 768)]\n"
     ]
    },
    {
     "name": "stderr",
     "output_type": "stream",
     "text": [
      "\n",
      "Batches: 100%|██████████| 1/1 [00:12<00:00, 12.49s/it]xamples/s]"
     ]
    },
    {
     "name": "stdout",
     "output_type": "stream",
     "text": [
      "[2025-09-26 14:05:34,185: INFO: 2931596709: Encoded 32 texts into embeddings of shape (32, 768)]\n"
     ]
    },
    {
     "name": "stderr",
     "output_type": "stream",
     "text": [
      "\n",
      "Batches: 100%|██████████| 1/1 [00:10<00:00, 10.24s/it]xamples/s]"
     ]
    },
    {
     "name": "stdout",
     "output_type": "stream",
     "text": [
      "[2025-09-26 14:05:44,456: INFO: 2931596709: Encoded 32 texts into embeddings of shape (32, 768)]\n"
     ]
    },
    {
     "name": "stderr",
     "output_type": "stream",
     "text": [
      "\n",
      "Batches: 100%|██████████| 1/1 [00:09<00:00,  9.79s/it]xamples/s]"
     ]
    },
    {
     "name": "stdout",
     "output_type": "stream",
     "text": [
      "[2025-09-26 14:05:54,276: INFO: 2931596709: Encoded 32 texts into embeddings of shape (32, 768)]\n"
     ]
    },
    {
     "name": "stderr",
     "output_type": "stream",
     "text": [
      "\n",
      "Batches: 100%|██████████| 1/1 [00:11<00:00, 11.32s/it]xamples/s]"
     ]
    },
    {
     "name": "stdout",
     "output_type": "stream",
     "text": [
      "[2025-09-26 14:06:05,611: INFO: 2931596709: Encoded 32 texts into embeddings of shape (32, 768)]\n"
     ]
    },
    {
     "name": "stderr",
     "output_type": "stream",
     "text": [
      "\n",
      "Batches: 100%|██████████| 1/1 [00:12<00:00, 12.04s/it] examples/s]"
     ]
    },
    {
     "name": "stdout",
     "output_type": "stream",
     "text": [
      "[2025-09-26 14:06:17,682: INFO: 2931596709: Encoded 32 texts into embeddings of shape (32, 768)]\n"
     ]
    },
    {
     "name": "stderr",
     "output_type": "stream",
     "text": [
      "\n",
      "Batches: 100%|██████████| 1/1 [00:10<00:00, 11.00s/it] examples/s]"
     ]
    },
    {
     "name": "stdout",
     "output_type": "stream",
     "text": [
      "[2025-09-26 14:06:28,694: INFO: 2931596709: Encoded 32 texts into embeddings of shape (32, 768)]\n"
     ]
    },
    {
     "name": "stderr",
     "output_type": "stream",
     "text": [
      "\n",
      "Batches: 100%|██████████| 1/1 [00:10<00:00, 10.99s/it] examples/s]"
     ]
    },
    {
     "name": "stdout",
     "output_type": "stream",
     "text": [
      "[2025-09-26 14:06:39,715: INFO: 2931596709: Encoded 32 texts into embeddings of shape (32, 768)]\n"
     ]
    },
    {
     "name": "stderr",
     "output_type": "stream",
     "text": [
      "\n",
      "Batches: 100%|██████████| 1/1 [00:12<00:00, 12.09s/it] examples/s]"
     ]
    },
    {
     "name": "stdout",
     "output_type": "stream",
     "text": [
      "[2025-09-26 14:06:51,827: INFO: 2931596709: Encoded 32 texts into embeddings of shape (32, 768)]\n"
     ]
    },
    {
     "name": "stderr",
     "output_type": "stream",
     "text": [
      "\n",
      "Batches: 100%|██████████| 1/1 [00:09<00:00,  9.95s/it] examples/s]"
     ]
    },
    {
     "name": "stdout",
     "output_type": "stream",
     "text": [
      "[2025-09-26 14:07:01,812: INFO: 2931596709: Encoded 32 texts into embeddings of shape (32, 768)]\n"
     ]
    },
    {
     "name": "stderr",
     "output_type": "stream",
     "text": [
      "\n",
      "Batches: 100%|██████████| 1/1 [00:07<00:00,  7.78s/it] examples/s]"
     ]
    },
    {
     "name": "stdout",
     "output_type": "stream",
     "text": [
      "[2025-09-26 14:07:09,623: INFO: 2931596709: Encoded 32 texts into embeddings of shape (32, 768)]\n"
     ]
    },
    {
     "name": "stderr",
     "output_type": "stream",
     "text": [
      "\n",
      "Batches: 100%|██████████| 1/1 [00:11<00:00, 11.55s/it]8 examples/s]"
     ]
    },
    {
     "name": "stdout",
     "output_type": "stream",
     "text": [
      "[2025-09-26 14:07:21,190: INFO: 2931596709: Encoded 32 texts into embeddings of shape (32, 768)]\n"
     ]
    },
    {
     "name": "stderr",
     "output_type": "stream",
     "text": [
      "\n",
      "Batches: 100%|██████████| 1/1 [00:12<00:00, 12.07s/it]4 examples/s]"
     ]
    },
    {
     "name": "stdout",
     "output_type": "stream",
     "text": [
      "[2025-09-26 14:07:33,289: INFO: 2931596709: Encoded 32 texts into embeddings of shape (32, 768)]\n"
     ]
    },
    {
     "name": "stderr",
     "output_type": "stream",
     "text": [
      "\n",
      "Batches: 100%|██████████| 1/1 [00:12<00:00, 12.37s/it]1 examples/s]"
     ]
    },
    {
     "name": "stdout",
     "output_type": "stream",
     "text": [
      "[2025-09-26 14:07:45,684: INFO: 2931596709: Encoded 32 texts into embeddings of shape (32, 768)]\n"
     ]
    },
    {
     "name": "stderr",
     "output_type": "stream",
     "text": [
      "\n",
      "Batches: 100%|██████████| 1/1 [00:08<00:00,  9.00s/it]0 examples/s]"
     ]
    },
    {
     "name": "stdout",
     "output_type": "stream",
     "text": [
      "[2025-09-26 14:07:54,749: INFO: 2931596709: Encoded 32 texts into embeddings of shape (32, 768)]\n"
     ]
    },
    {
     "name": "stderr",
     "output_type": "stream",
     "text": [
      "\n",
      "Batches: 100%|██████████| 1/1 [00:11<00:00, 11.29s/it]9 examples/s]"
     ]
    },
    {
     "name": "stdout",
     "output_type": "stream",
     "text": [
      "[2025-09-26 14:08:06,057: INFO: 2931596709: Encoded 32 texts into embeddings of shape (32, 768)]\n"
     ]
    },
    {
     "name": "stderr",
     "output_type": "stream",
     "text": [
      "\n",
      "Batches: 100%|██████████| 1/1 [00:11<00:00, 11.72s/it]4 examples/s]"
     ]
    },
    {
     "name": "stdout",
     "output_type": "stream",
     "text": [
      "[2025-09-26 14:08:17,799: INFO: 2931596709: Encoded 32 texts into embeddings of shape (32, 768)]\n"
     ]
    },
    {
     "name": "stderr",
     "output_type": "stream",
     "text": [
      "\n",
      "Batches: 100%|██████████| 1/1 [00:12<00:00, 12.71s/it]7 examples/s]"
     ]
    },
    {
     "name": "stdout",
     "output_type": "stream",
     "text": [
      "[2025-09-26 14:08:30,543: INFO: 2931596709: Encoded 32 texts into embeddings of shape (32, 768)]\n"
     ]
    },
    {
     "name": "stderr",
     "output_type": "stream",
     "text": [
      "\n",
      "Batches: 100%|██████████| 1/1 [00:08<00:00,  8.53s/it]5 examples/s]"
     ]
    },
    {
     "name": "stdout",
     "output_type": "stream",
     "text": [
      "[2025-09-26 14:08:39,097: INFO: 2931596709: Encoded 32 texts into embeddings of shape (32, 768)]\n"
     ]
    },
    {
     "name": "stderr",
     "output_type": "stream",
     "text": [
      "\n",
      "Batches: 100%|██████████| 1/1 [00:09<00:00,  9.13s/it]9 examples/s]"
     ]
    },
    {
     "name": "stdout",
     "output_type": "stream",
     "text": [
      "[2025-09-26 14:08:48,255: INFO: 2931596709: Encoded 32 texts into embeddings of shape (32, 768)]\n"
     ]
    },
    {
     "name": "stderr",
     "output_type": "stream",
     "text": [
      "\n",
      "Batches: 100%|██████████| 1/1 [00:09<00:00,  9.50s/it]3 examples/s]"
     ]
    },
    {
     "name": "stdout",
     "output_type": "stream",
     "text": [
      "[2025-09-26 14:08:57,771: INFO: 2931596709: Encoded 32 texts into embeddings of shape (32, 768)]\n"
     ]
    },
    {
     "name": "stderr",
     "output_type": "stream",
     "text": [
      "\n",
      "Batches: 100%|██████████| 1/1 [00:10<00:00, 10.72s/it]9 examples/s]"
     ]
    },
    {
     "name": "stdout",
     "output_type": "stream",
     "text": [
      "[2025-09-26 14:09:08,516: INFO: 2931596709: Encoded 32 texts into embeddings of shape (32, 768)]\n"
     ]
    },
    {
     "name": "stderr",
     "output_type": "stream",
     "text": [
      "\n",
      "Batches: 100%|██████████| 1/1 [00:09<00:00,  9.84s/it]3 examples/s]"
     ]
    },
    {
     "name": "stdout",
     "output_type": "stream",
     "text": [
      "[2025-09-26 14:09:18,374: INFO: 2931596709: Encoded 32 texts into embeddings of shape (32, 768)]\n"
     ]
    },
    {
     "name": "stderr",
     "output_type": "stream",
     "text": [
      "\n",
      "Batches: 100%|██████████| 1/1 [00:08<00:00,  8.49s/it]6 examples/s]"
     ]
    },
    {
     "name": "stdout",
     "output_type": "stream",
     "text": [
      "[2025-09-26 14:09:26,897: INFO: 2931596709: Encoded 32 texts into embeddings of shape (32, 768)]\n"
     ]
    },
    {
     "name": "stderr",
     "output_type": "stream",
     "text": [
      "\n",
      "Batches: 100%|██████████| 1/1 [00:09<00:00,  9.60s/it]2 examples/s]"
     ]
    },
    {
     "name": "stdout",
     "output_type": "stream",
     "text": [
      "[2025-09-26 14:09:36,520: INFO: 2931596709: Encoded 32 texts into embeddings of shape (32, 768)]\n"
     ]
    },
    {
     "name": "stderr",
     "output_type": "stream",
     "text": [
      "\n",
      "Batches: 100%|██████████| 1/1 [00:09<00:00,  9.10s/it]2 examples/s]"
     ]
    },
    {
     "name": "stdout",
     "output_type": "stream",
     "text": [
      "[2025-09-26 14:09:45,642: INFO: 2931596709: Encoded 32 texts into embeddings of shape (32, 768)]\n"
     ]
    },
    {
     "name": "stderr",
     "output_type": "stream",
     "text": [
      "\n",
      "Batches: 100%|██████████| 1/1 [00:08<00:00,  8.30s/it]7 examples/s]"
     ]
    },
    {
     "name": "stdout",
     "output_type": "stream",
     "text": [
      "[2025-09-26 14:09:53,964: INFO: 2931596709: Encoded 32 texts into embeddings of shape (32, 768)]\n"
     ]
    },
    {
     "name": "stderr",
     "output_type": "stream",
     "text": [
      "\n",
      "Batches: 100%|██████████| 1/1 [00:08<00:00,  8.27s/it]0 examples/s]"
     ]
    },
    {
     "name": "stdout",
     "output_type": "stream",
     "text": [
      "[2025-09-26 14:10:02,248: INFO: 2931596709: Encoded 32 texts into embeddings of shape (32, 768)]\n"
     ]
    },
    {
     "name": "stderr",
     "output_type": "stream",
     "text": [
      "\n",
      "Batches: 100%|██████████| 1/1 [00:12<00:00, 12.07s/it]0 examples/s]"
     ]
    },
    {
     "name": "stdout",
     "output_type": "stream",
     "text": [
      "[2025-09-26 14:10:14,338: INFO: 2931596709: Encoded 32 texts into embeddings of shape (32, 768)]\n"
     ]
    },
    {
     "name": "stderr",
     "output_type": "stream",
     "text": [
      "\n",
      "Batches: 100%|██████████| 1/1 [00:09<00:00,  9.39s/it]5 examples/s]"
     ]
    },
    {
     "name": "stdout",
     "output_type": "stream",
     "text": [
      "[2025-09-26 14:10:23,744: INFO: 2931596709: Encoded 32 texts into embeddings of shape (32, 768)]\n"
     ]
    },
    {
     "name": "stderr",
     "output_type": "stream",
     "text": [
      "\n",
      "Batches: 100%|██████████| 1/1 [00:06<00:00,  6.86s/it]9 examples/s]"
     ]
    },
    {
     "name": "stdout",
     "output_type": "stream",
     "text": [
      "[2025-09-26 14:10:30,626: INFO: 2931596709: Encoded 32 texts into embeddings of shape (32, 768)]\n"
     ]
    },
    {
     "name": "stderr",
     "output_type": "stream",
     "text": [
      "\n",
      "Batches: 100%|██████████| 1/1 [00:11<00:00, 11.44s/it]1 examples/s]"
     ]
    },
    {
     "name": "stdout",
     "output_type": "stream",
     "text": [
      "[2025-09-26 14:10:42,084: INFO: 2931596709: Encoded 32 texts into embeddings of shape (32, 768)]\n"
     ]
    },
    {
     "name": "stderr",
     "output_type": "stream",
     "text": [
      "\n",
      "Batches: 100%|██████████| 1/1 [00:12<00:00, 12.25s/it]2 examples/s]"
     ]
    },
    {
     "name": "stdout",
     "output_type": "stream",
     "text": [
      "[2025-09-26 14:10:54,362: INFO: 2931596709: Encoded 32 texts into embeddings of shape (32, 768)]\n"
     ]
    },
    {
     "name": "stderr",
     "output_type": "stream",
     "text": [
      "\n",
      "Batches: 100%|██████████| 1/1 [00:09<00:00,  9.70s/it]7 examples/s]"
     ]
    },
    {
     "name": "stdout",
     "output_type": "stream",
     "text": [
      "[2025-09-26 14:11:04,096: INFO: 2931596709: Encoded 32 texts into embeddings of shape (32, 768)]\n"
     ]
    },
    {
     "name": "stderr",
     "output_type": "stream",
     "text": [
      "\n",
      "Batches: 100%|██████████| 1/1 [00:07<00:00,  7.63s/it]3 examples/s]"
     ]
    },
    {
     "name": "stdout",
     "output_type": "stream",
     "text": [
      "[2025-09-26 14:11:11,738: INFO: 2931596709: Encoded 32 texts into embeddings of shape (32, 768)]\n"
     ]
    },
    {
     "name": "stderr",
     "output_type": "stream",
     "text": [
      "\n",
      "Batches: 100%|██████████| 1/1 [00:08<00:00,  8.11s/it]9 examples/s]"
     ]
    },
    {
     "name": "stdout",
     "output_type": "stream",
     "text": [
      "[2025-09-26 14:11:19,874: INFO: 2931596709: Encoded 32 texts into embeddings of shape (32, 768)]\n"
     ]
    },
    {
     "name": "stderr",
     "output_type": "stream",
     "text": [
      "\n",
      "Batches: 100%|██████████| 1/1 [00:11<00:00, 11.25s/it]3 examples/s]"
     ]
    },
    {
     "name": "stdout",
     "output_type": "stream",
     "text": [
      "[2025-09-26 14:11:31,142: INFO: 2931596709: Encoded 32 texts into embeddings of shape (32, 768)]\n"
     ]
    },
    {
     "name": "stderr",
     "output_type": "stream",
     "text": [
      "\n",
      "Batches: 100%|██████████| 1/1 [00:08<00:00,  8.25s/it]9 examples/s]"
     ]
    },
    {
     "name": "stdout",
     "output_type": "stream",
     "text": [
      "[2025-09-26 14:11:39,409: INFO: 2931596709: Encoded 32 texts into embeddings of shape (32, 768)]\n"
     ]
    },
    {
     "name": "stderr",
     "output_type": "stream",
     "text": [
      "\n",
      "Batches: 100%|██████████| 1/1 [00:12<00:00, 12.11s/it]5 examples/s]"
     ]
    },
    {
     "name": "stdout",
     "output_type": "stream",
     "text": [
      "[2025-09-26 14:11:51,542: INFO: 2931596709: Encoded 32 texts into embeddings of shape (32, 768)]\n"
     ]
    },
    {
     "name": "stderr",
     "output_type": "stream",
     "text": [
      "\n",
      "Batches: 100%|██████████| 1/1 [00:07<00:00,  7.06s/it]6 examples/s]"
     ]
    },
    {
     "name": "stdout",
     "output_type": "stream",
     "text": [
      "[2025-09-26 14:11:58,619: INFO: 2931596709: Encoded 32 texts into embeddings of shape (32, 768)]\n"
     ]
    },
    {
     "name": "stderr",
     "output_type": "stream",
     "text": [
      "\n",
      "Batches: 100%|██████████| 1/1 [00:12<00:00, 12.09s/it]7 examples/s]"
     ]
    },
    {
     "name": "stdout",
     "output_type": "stream",
     "text": [
      "[2025-09-26 14:12:10,725: INFO: 2931596709: Encoded 32 texts into embeddings of shape (32, 768)]\n"
     ]
    },
    {
     "name": "stderr",
     "output_type": "stream",
     "text": [
      "\n",
      "Batches: 100%|██████████| 1/1 [00:09<00:00,  9.71s/it]7 examples/s]"
     ]
    },
    {
     "name": "stdout",
     "output_type": "stream",
     "text": [
      "[2025-09-26 14:12:20,465: INFO: 2931596709: Encoded 32 texts into embeddings of shape (32, 768)]\n"
     ]
    },
    {
     "name": "stderr",
     "output_type": "stream",
     "text": [
      "\n",
      "Batches: 100%|██████████| 1/1 [00:08<00:00,  8.66s/it]1 examples/s]"
     ]
    },
    {
     "name": "stdout",
     "output_type": "stream",
     "text": [
      "[2025-09-26 14:12:29,144: INFO: 2931596709: Encoded 32 texts into embeddings of shape (32, 768)]\n"
     ]
    },
    {
     "name": "stderr",
     "output_type": "stream",
     "text": [
      "\n",
      "Batches: 100%|██████████| 1/1 [00:08<00:00,  8.94s/it]4 examples/s]"
     ]
    },
    {
     "name": "stdout",
     "output_type": "stream",
     "text": [
      "[2025-09-26 14:12:38,110: INFO: 2931596709: Encoded 32 texts into embeddings of shape (32, 768)]\n"
     ]
    },
    {
     "name": "stderr",
     "output_type": "stream",
     "text": [
      "\n",
      "Batches: 100%|██████████| 1/1 [00:09<00:00,  9.07s/it]0 examples/s]"
     ]
    },
    {
     "name": "stdout",
     "output_type": "stream",
     "text": [
      "[2025-09-26 14:12:47,201: INFO: 2931596709: Encoded 32 texts into embeddings of shape (32, 768)]\n"
     ]
    },
    {
     "name": "stderr",
     "output_type": "stream",
     "text": [
      "\n",
      "Batches: 100%|██████████| 1/1 [00:07<00:00,  7.89s/it]4 examples/s]"
     ]
    },
    {
     "name": "stdout",
     "output_type": "stream",
     "text": [
      "[2025-09-26 14:12:55,104: INFO: 2931596709: Encoded 32 texts into embeddings of shape (32, 768)]\n"
     ]
    },
    {
     "name": "stderr",
     "output_type": "stream",
     "text": [
      "\n",
      "Batches: 100%|██████████| 1/1 [00:07<00:00,  7.74s/it]0 examples/s]"
     ]
    },
    {
     "name": "stdout",
     "output_type": "stream",
     "text": [
      "[2025-09-26 14:13:02,856: INFO: 2931596709: Encoded 32 texts into embeddings of shape (32, 768)]\n"
     ]
    },
    {
     "name": "stderr",
     "output_type": "stream",
     "text": [
      "\n",
      "Batches: 100%|██████████| 1/1 [00:09<00:00,  9.88s/it]4 examples/s]"
     ]
    },
    {
     "name": "stdout",
     "output_type": "stream",
     "text": [
      "[2025-09-26 14:13:12,763: INFO: 2931596709: Encoded 32 texts into embeddings of shape (32, 768)]\n"
     ]
    },
    {
     "name": "stderr",
     "output_type": "stream",
     "text": [
      "\n",
      "Batches: 100%|██████████| 1/1 [00:12<00:00, 12.46s/it]7 examples/s]"
     ]
    },
    {
     "name": "stdout",
     "output_type": "stream",
     "text": [
      "[2025-09-26 14:13:25,247: INFO: 2931596709: Encoded 32 texts into embeddings of shape (32, 768)]\n"
     ]
    },
    {
     "name": "stderr",
     "output_type": "stream",
     "text": [
      "\n",
      "Batches: 100%|██████████| 1/1 [00:12<00:00, 12.98s/it]0 examples/s]"
     ]
    },
    {
     "name": "stdout",
     "output_type": "stream",
     "text": [
      "[2025-09-26 14:13:38,262: INFO: 2931596709: Encoded 32 texts into embeddings of shape (32, 768)]\n"
     ]
    },
    {
     "name": "stderr",
     "output_type": "stream",
     "text": [
      "\n",
      "Batches: 100%|██████████| 1/1 [00:12<00:00, 12.67s/it]3 examples/s]"
     ]
    },
    {
     "name": "stdout",
     "output_type": "stream",
     "text": [
      "[2025-09-26 14:13:50,955: INFO: 2931596709: Encoded 32 texts into embeddings of shape (32, 768)]\n"
     ]
    },
    {
     "name": "stderr",
     "output_type": "stream",
     "text": [
      "\n",
      "Batches: 100%|██████████| 1/1 [00:12<00:00, 12.80s/it]9 examples/s]"
     ]
    },
    {
     "name": "stdout",
     "output_type": "stream",
     "text": [
      "[2025-09-26 14:14:03,790: INFO: 2931596709: Encoded 32 texts into embeddings of shape (32, 768)]\n"
     ]
    },
    {
     "name": "stderr",
     "output_type": "stream",
     "text": [
      "\n",
      "Batches: 100%|██████████| 1/1 [00:12<00:00, 12.78s/it]0 examples/s]"
     ]
    },
    {
     "name": "stdout",
     "output_type": "stream",
     "text": [
      "[2025-09-26 14:14:16,592: INFO: 2931596709: Encoded 32 texts into embeddings of shape (32, 768)]\n"
     ]
    },
    {
     "name": "stderr",
     "output_type": "stream",
     "text": [
      "\n",
      "Batches: 100%|██████████| 1/1 [00:12<00:00, 12.20s/it]3 examples/s]"
     ]
    },
    {
     "name": "stdout",
     "output_type": "stream",
     "text": [
      "[2025-09-26 14:14:28,807: INFO: 2931596709: Encoded 32 texts into embeddings of shape (32, 768)]\n"
     ]
    },
    {
     "name": "stderr",
     "output_type": "stream",
     "text": [
      "\n",
      "Batches: 100%|██████████| 1/1 [00:12<00:00, 12.73s/it]3 examples/s]"
     ]
    },
    {
     "name": "stdout",
     "output_type": "stream",
     "text": [
      "[2025-09-26 14:14:41,562: INFO: 2931596709: Encoded 32 texts into embeddings of shape (32, 768)]\n"
     ]
    },
    {
     "name": "stderr",
     "output_type": "stream",
     "text": [
      "\n",
      "Batches: 100%|██████████| 1/1 [00:10<00:00, 10.23s/it]9 examples/s]"
     ]
    },
    {
     "name": "stdout",
     "output_type": "stream",
     "text": [
      "[2025-09-26 14:14:51,815: INFO: 2931596709: Encoded 32 texts into embeddings of shape (32, 768)]\n"
     ]
    },
    {
     "name": "stderr",
     "output_type": "stream",
     "text": [
      "\n",
      "Batches: 100%|██████████| 1/1 [00:12<00:00, 12.73s/it]3 examples/s]"
     ]
    },
    {
     "name": "stdout",
     "output_type": "stream",
     "text": [
      "[2025-09-26 14:15:04,569: INFO: 2931596709: Encoded 32 texts into embeddings of shape (32, 768)]\n"
     ]
    },
    {
     "name": "stderr",
     "output_type": "stream",
     "text": [
      "\n",
      "Batches: 100%|██████████| 1/1 [00:09<00:00,  9.75s/it]6 examples/s]"
     ]
    },
    {
     "name": "stdout",
     "output_type": "stream",
     "text": [
      "[2025-09-26 14:15:14,334: INFO: 2931596709: Encoded 32 texts into embeddings of shape (32, 768)]\n"
     ]
    },
    {
     "name": "stderr",
     "output_type": "stream",
     "text": [
      "\n",
      "Batches: 100%|██████████| 1/1 [00:08<00:00,  8.98s/it]2 examples/s]"
     ]
    },
    {
     "name": "stdout",
     "output_type": "stream",
     "text": [
      "[2025-09-26 14:15:23,330: INFO: 2931596709: Encoded 32 texts into embeddings of shape (32, 768)]\n"
     ]
    },
    {
     "name": "stderr",
     "output_type": "stream",
     "text": [
      "\n",
      "Batches: 100%|██████████| 1/1 [00:08<00:00,  8.28s/it]1 examples/s]"
     ]
    },
    {
     "name": "stdout",
     "output_type": "stream",
     "text": [
      "[2025-09-26 14:15:31,633: INFO: 2931596709: Encoded 32 texts into embeddings of shape (32, 768)]\n"
     ]
    },
    {
     "name": "stderr",
     "output_type": "stream",
     "text": [
      "\n",
      "Batches: 100%|██████████| 1/1 [00:12<00:00, 12.80s/it]2 examples/s]"
     ]
    },
    {
     "name": "stdout",
     "output_type": "stream",
     "text": [
      "[2025-09-26 14:15:44,450: INFO: 2931596709: Encoded 32 texts into embeddings of shape (32, 768)]\n"
     ]
    },
    {
     "name": "stderr",
     "output_type": "stream",
     "text": [
      "\n",
      "Batches: 100%|██████████| 1/1 [00:08<00:00,  8.30s/it]6 examples/s]"
     ]
    },
    {
     "name": "stdout",
     "output_type": "stream",
     "text": [
      "[2025-09-26 14:15:52,768: INFO: 2931596709: Encoded 32 texts into embeddings of shape (32, 768)]\n"
     ]
    },
    {
     "name": "stderr",
     "output_type": "stream",
     "text": [
      "\n",
      "Batches: 100%|██████████| 1/1 [00:08<00:00,  8.90s/it]8 examples/s]"
     ]
    },
    {
     "name": "stdout",
     "output_type": "stream",
     "text": [
      "[2025-09-26 14:16:01,687: INFO: 2931596709: Encoded 32 texts into embeddings of shape (32, 768)]\n"
     ]
    },
    {
     "name": "stderr",
     "output_type": "stream",
     "text": [
      "\n",
      "Batches: 100%|██████████| 1/1 [00:12<00:00, 12.25s/it]9 examples/s]"
     ]
    },
    {
     "name": "stdout",
     "output_type": "stream",
     "text": [
      "[2025-09-26 14:16:13,962: INFO: 2931596709: Encoded 32 texts into embeddings of shape (32, 768)]\n"
     ]
    },
    {
     "name": "stderr",
     "output_type": "stream",
     "text": [
      "\n",
      "Batches: 100%|██████████| 1/1 [00:07<00:00,  7.97s/it]5 examples/s]"
     ]
    },
    {
     "name": "stdout",
     "output_type": "stream",
     "text": [
      "[2025-09-26 14:16:21,950: INFO: 2931596709: Encoded 32 texts into embeddings of shape (32, 768)]\n"
     ]
    },
    {
     "name": "stderr",
     "output_type": "stream",
     "text": [
      "\n",
      "Batches: 100%|██████████| 1/1 [00:12<00:00, 13.00s/it]9 examples/s]"
     ]
    },
    {
     "name": "stdout",
     "output_type": "stream",
     "text": [
      "[2025-09-26 14:16:34,967: INFO: 2931596709: Encoded 32 texts into embeddings of shape (32, 768)]\n"
     ]
    },
    {
     "name": "stderr",
     "output_type": "stream",
     "text": [
      "\n",
      "Batches: 100%|██████████| 1/1 [00:07<00:00,  7.51s/it]9 examples/s]"
     ]
    },
    {
     "name": "stdout",
     "output_type": "stream",
     "text": [
      "[2025-09-26 14:16:42,498: INFO: 2931596709: Encoded 32 texts into embeddings of shape (32, 768)]\n"
     ]
    },
    {
     "name": "stderr",
     "output_type": "stream",
     "text": [
      "\n",
      "Batches: 100%|██████████| 1/1 [00:11<00:00, 11.88s/it]8 examples/s]"
     ]
    },
    {
     "name": "stdout",
     "output_type": "stream",
     "text": [
      "[2025-09-26 14:16:54,400: INFO: 2931596709: Encoded 32 texts into embeddings of shape (32, 768)]\n"
     ]
    },
    {
     "name": "stderr",
     "output_type": "stream",
     "text": [
      "\n",
      "Batches: 100%|██████████| 1/1 [00:12<00:00, 12.73s/it]8 examples/s]"
     ]
    },
    {
     "name": "stdout",
     "output_type": "stream",
     "text": [
      "[2025-09-26 14:17:07,158: INFO: 2931596709: Encoded 32 texts into embeddings of shape (32, 768)]\n"
     ]
    },
    {
     "name": "stderr",
     "output_type": "stream",
     "text": [
      "\n",
      "Batches: 100%|██████████| 1/1 [00:12<00:00, 12.86s/it]8 examples/s]"
     ]
    },
    {
     "name": "stdout",
     "output_type": "stream",
     "text": [
      "[2025-09-26 14:17:20,036: INFO: 2931596709: Encoded 32 texts into embeddings of shape (32, 768)]\n"
     ]
    },
    {
     "name": "stderr",
     "output_type": "stream",
     "text": [
      "\n",
      "Batches: 100%|██████████| 1/1 [00:11<00:00, 11.98s/it]5 examples/s]"
     ]
    },
    {
     "name": "stdout",
     "output_type": "stream",
     "text": [
      "[2025-09-26 14:17:32,041: INFO: 2931596709: Encoded 32 texts into embeddings of shape (32, 768)]\n"
     ]
    },
    {
     "name": "stderr",
     "output_type": "stream",
     "text": [
      "\n",
      "Batches: 100%|██████████| 1/1 [00:11<00:00, 11.66s/it]2 examples/s]"
     ]
    },
    {
     "name": "stdout",
     "output_type": "stream",
     "text": [
      "[2025-09-26 14:17:43,715: INFO: 2931596709: Encoded 32 texts into embeddings of shape (32, 768)]\n"
     ]
    },
    {
     "name": "stderr",
     "output_type": "stream",
     "text": [
      "\n",
      "Batches: 100%|██████████| 1/1 [00:12<00:00, 12.68s/it]3 examples/s]"
     ]
    },
    {
     "name": "stdout",
     "output_type": "stream",
     "text": [
      "[2025-09-26 14:17:56,424: INFO: 2931596709: Encoded 32 texts into embeddings of shape (32, 768)]\n"
     ]
    },
    {
     "name": "stderr",
     "output_type": "stream",
     "text": [
      "\n",
      "Batches: 100%|██████████| 1/1 [00:13<00:00, 13.45s/it]6 examples/s]"
     ]
    },
    {
     "name": "stdout",
     "output_type": "stream",
     "text": [
      "[2025-09-26 14:18:09,906: INFO: 2931596709: Encoded 32 texts into embeddings of shape (32, 768)]\n"
     ]
    },
    {
     "name": "stderr",
     "output_type": "stream",
     "text": [
      "\n",
      "Batches: 100%|██████████| 1/1 [00:10<00:00, 10.29s/it]7 examples/s]"
     ]
    },
    {
     "name": "stdout",
     "output_type": "stream",
     "text": [
      "[2025-09-26 14:18:20,224: INFO: 2931596709: Encoded 32 texts into embeddings of shape (32, 768)]\n"
     ]
    },
    {
     "name": "stderr",
     "output_type": "stream",
     "text": [
      "\n",
      "Batches: 100%|██████████| 1/1 [00:10<00:00, 10.02s/it]1 examples/s]"
     ]
    },
    {
     "name": "stdout",
     "output_type": "stream",
     "text": [
      "[2025-09-26 14:18:30,267: INFO: 2931596709: Encoded 32 texts into embeddings of shape (32, 768)]\n"
     ]
    },
    {
     "name": "stderr",
     "output_type": "stream",
     "text": [
      "\n",
      "Batches: 100%|██████████| 1/1 [00:09<00:00,  9.53s/it]3 examples/s]"
     ]
    },
    {
     "name": "stdout",
     "output_type": "stream",
     "text": [
      "[2025-09-26 14:18:39,832: INFO: 2931596709: Encoded 32 texts into embeddings of shape (32, 768)]\n"
     ]
    },
    {
     "name": "stderr",
     "output_type": "stream",
     "text": [
      "\n",
      "Batches: 100%|██████████| 1/1 [00:09<00:00,  9.77s/it]7 examples/s]"
     ]
    },
    {
     "name": "stdout",
     "output_type": "stream",
     "text": [
      "[2025-09-26 14:18:49,629: INFO: 2931596709: Encoded 32 texts into embeddings of shape (32, 768)]\n"
     ]
    },
    {
     "name": "stderr",
     "output_type": "stream",
     "text": [
      "\n",
      "Batches: 100%|██████████| 1/1 [00:11<00:00, 11.27s/it]5 examples/s]"
     ]
    },
    {
     "name": "stdout",
     "output_type": "stream",
     "text": [
      "[2025-09-26 14:19:00,921: INFO: 2931596709: Encoded 32 texts into embeddings of shape (32, 768)]\n"
     ]
    },
    {
     "name": "stderr",
     "output_type": "stream",
     "text": [
      "\n",
      "Batches: 100%|██████████| 1/1 [00:12<00:00, 12.72s/it]8 examples/s]"
     ]
    },
    {
     "name": "stdout",
     "output_type": "stream",
     "text": [
      "[2025-09-26 14:19:13,665: INFO: 2931596709: Encoded 32 texts into embeddings of shape (32, 768)]\n"
     ]
    },
    {
     "name": "stderr",
     "output_type": "stream",
     "text": [
      "\n",
      "Batches: 100%|██████████| 1/1 [00:12<00:00, 12.24s/it]3 examples/s]"
     ]
    },
    {
     "name": "stdout",
     "output_type": "stream",
     "text": [
      "[2025-09-26 14:19:25,936: INFO: 2931596709: Encoded 32 texts into embeddings of shape (32, 768)]\n"
     ]
    },
    {
     "name": "stderr",
     "output_type": "stream",
     "text": [
      "\n",
      "Batches: 100%|██████████| 1/1 [00:09<00:00,  9.26s/it]6 examples/s]"
     ]
    },
    {
     "name": "stdout",
     "output_type": "stream",
     "text": [
      "[2025-09-26 14:19:35,218: INFO: 2931596709: Encoded 32 texts into embeddings of shape (32, 768)]\n"
     ]
    },
    {
     "name": "stderr",
     "output_type": "stream",
     "text": [
      "\n",
      "Batches: 100%|██████████| 1/1 [00:13<00:00, 13.69s/it]3 examples/s]"
     ]
    },
    {
     "name": "stdout",
     "output_type": "stream",
     "text": [
      "[2025-09-26 14:19:48,942: INFO: 2931596709: Encoded 32 texts into embeddings of shape (32, 768)]\n"
     ]
    },
    {
     "name": "stderr",
     "output_type": "stream",
     "text": [
      "\n",
      "Batches: 100%|██████████| 1/1 [00:13<00:00, 13.47s/it]2 examples/s]"
     ]
    },
    {
     "name": "stdout",
     "output_type": "stream",
     "text": [
      "[2025-09-26 14:20:02,435: INFO: 2931596709: Encoded 32 texts into embeddings of shape (32, 768)]\n"
     ]
    },
    {
     "name": "stderr",
     "output_type": "stream",
     "text": [
      "\n",
      "Batches: 100%|██████████| 1/1 [00:08<00:00,  8.38s/it]1 examples/s]"
     ]
    },
    {
     "name": "stdout",
     "output_type": "stream",
     "text": [
      "[2025-09-26 14:20:10,833: INFO: 2931596709: Encoded 32 texts into embeddings of shape (32, 768)]\n"
     ]
    },
    {
     "name": "stderr",
     "output_type": "stream",
     "text": [
      "\n",
      "Batches: 100%|██████████| 1/1 [00:09<00:00,  9.94s/it]8 examples/s]"
     ]
    },
    {
     "name": "stdout",
     "output_type": "stream",
     "text": [
      "[2025-09-26 14:20:20,804: INFO: 2931596709: Encoded 32 texts into embeddings of shape (32, 768)]\n"
     ]
    },
    {
     "name": "stderr",
     "output_type": "stream",
     "text": [
      "\n",
      "Batches: 100%|██████████| 1/1 [00:12<00:00, 12.98s/it]7 examples/s]"
     ]
    },
    {
     "name": "stdout",
     "output_type": "stream",
     "text": [
      "[2025-09-26 14:20:33,808: INFO: 2931596709: Encoded 32 texts into embeddings of shape (32, 768)]\n"
     ]
    },
    {
     "name": "stderr",
     "output_type": "stream",
     "text": [
      "\n",
      "Batches: 100%|██████████| 1/1 [00:10<00:00, 10.59s/it]0 examples/s]"
     ]
    },
    {
     "name": "stdout",
     "output_type": "stream",
     "text": [
      "[2025-09-26 14:20:44,419: INFO: 2931596709: Encoded 32 texts into embeddings of shape (32, 768)]\n"
     ]
    },
    {
     "name": "stderr",
     "output_type": "stream",
     "text": [
      "\n",
      "Batches: 100%|██████████| 1/1 [00:12<00:00, 12.45s/it]6 examples/s]"
     ]
    },
    {
     "name": "stdout",
     "output_type": "stream",
     "text": [
      "[2025-09-26 14:20:56,896: INFO: 2931596709: Encoded 32 texts into embeddings of shape (32, 768)]\n"
     ]
    },
    {
     "name": "stderr",
     "output_type": "stream",
     "text": [
      "\n",
      "Batches: 100%|██████████| 1/1 [00:12<00:00, 12.28s/it]6 examples/s]"
     ]
    },
    {
     "name": "stdout",
     "output_type": "stream",
     "text": [
      "[2025-09-26 14:21:09,193: INFO: 2931596709: Encoded 32 texts into embeddings of shape (32, 768)]\n"
     ]
    },
    {
     "name": "stderr",
     "output_type": "stream",
     "text": [
      "\n",
      "Batches: 100%|██████████| 1/1 [00:06<00:00,  6.78s/it]1 examples/s]"
     ]
    },
    {
     "name": "stdout",
     "output_type": "stream",
     "text": [
      "[2025-09-26 14:21:15,998: INFO: 2931596709: Encoded 32 texts into embeddings of shape (32, 768)]\n"
     ]
    },
    {
     "name": "stderr",
     "output_type": "stream",
     "text": [
      "\n",
      "Batches: 100%|██████████| 1/1 [00:12<00:00, 12.23s/it]1 examples/s]"
     ]
    },
    {
     "name": "stdout",
     "output_type": "stream",
     "text": [
      "[2025-09-26 14:21:28,249: INFO: 2931596709: Encoded 32 texts into embeddings of shape (32, 768)]\n"
     ]
    },
    {
     "name": "stderr",
     "output_type": "stream",
     "text": [
      "\n",
      "Batches: 100%|██████████| 1/1 [00:07<00:00,  7.94s/it]4 examples/s]"
     ]
    },
    {
     "name": "stdout",
     "output_type": "stream",
     "text": [
      "[2025-09-26 14:21:36,204: INFO: 2931596709: Encoded 32 texts into embeddings of shape (32, 768)]\n"
     ]
    },
    {
     "name": "stderr",
     "output_type": "stream",
     "text": [
      "\n",
      "Batches: 100%|██████████| 1/1 [00:12<00:00, 12.11s/it]0 examples/s]"
     ]
    },
    {
     "name": "stdout",
     "output_type": "stream",
     "text": [
      "[2025-09-26 14:21:48,333: INFO: 2931596709: Encoded 32 texts into embeddings of shape (32, 768)]\n"
     ]
    },
    {
     "name": "stderr",
     "output_type": "stream",
     "text": [
      "\n",
      "Batches: 100%|██████████| 1/1 [00:13<00:00, 13.21s/it]1 examples/s]"
     ]
    },
    {
     "name": "stdout",
     "output_type": "stream",
     "text": [
      "[2025-09-26 14:22:01,563: INFO: 2931596709: Encoded 32 texts into embeddings of shape (32, 768)]\n"
     ]
    },
    {
     "name": "stderr",
     "output_type": "stream",
     "text": [
      "\n",
      "Batches: 100%|██████████| 1/1 [00:12<00:00, 12.29s/it]0 examples/s]"
     ]
    },
    {
     "name": "stdout",
     "output_type": "stream",
     "text": [
      "[2025-09-26 14:22:13,878: INFO: 2931596709: Encoded 32 texts into embeddings of shape (32, 768)]\n"
     ]
    },
    {
     "name": "stderr",
     "output_type": "stream",
     "text": [
      "\n",
      "Batches: 100%|██████████| 1/1 [00:12<00:00, 12.68s/it]4 examples/s]"
     ]
    },
    {
     "name": "stdout",
     "output_type": "stream",
     "text": [
      "[2025-09-26 14:22:26,577: INFO: 2931596709: Encoded 32 texts into embeddings of shape (32, 768)]\n"
     ]
    },
    {
     "name": "stderr",
     "output_type": "stream",
     "text": [
      "\n",
      "Batches: 100%|██████████| 1/1 [00:11<00:00, 11.10s/it]7 examples/s]"
     ]
    },
    {
     "name": "stdout",
     "output_type": "stream",
     "text": [
      "[2025-09-26 14:22:37,700: INFO: 2931596709: Encoded 32 texts into embeddings of shape (32, 768)]\n"
     ]
    },
    {
     "name": "stderr",
     "output_type": "stream",
     "text": [
      "\n",
      "Batches: 100%|██████████| 1/1 [00:13<00:00, 13.13s/it]3 examples/s]"
     ]
    },
    {
     "name": "stdout",
     "output_type": "stream",
     "text": [
      "[2025-09-26 14:22:50,843: INFO: 2931596709: Encoded 32 texts into embeddings of shape (32, 768)]\n"
     ]
    },
    {
     "name": "stderr",
     "output_type": "stream",
     "text": [
      "\n",
      "Batches: 100%|██████████| 1/1 [00:10<00:00, 10.17s/it]3 examples/s]"
     ]
    },
    {
     "name": "stdout",
     "output_type": "stream",
     "text": [
      "[2025-09-26 14:23:01,037: INFO: 2931596709: Encoded 32 texts into embeddings of shape (32, 768)]\n"
     ]
    },
    {
     "name": "stderr",
     "output_type": "stream",
     "text": [
      "\n",
      "Batches: 100%|██████████| 1/1 [00:10<00:00, 10.83s/it]7 examples/s]"
     ]
    },
    {
     "name": "stdout",
     "output_type": "stream",
     "text": [
      "[2025-09-26 14:23:11,882: INFO: 2931596709: Encoded 32 texts into embeddings of shape (32, 768)]\n"
     ]
    },
    {
     "name": "stderr",
     "output_type": "stream",
     "text": [
      "\n",
      "Batches: 100%|██████████| 1/1 [00:05<00:00,  5.71s/it]2 examples/s]"
     ]
    },
    {
     "name": "stdout",
     "output_type": "stream",
     "text": [
      "[2025-09-26 14:23:17,608: INFO: 2931596709: Encoded 32 texts into embeddings of shape (32, 768)]\n"
     ]
    },
    {
     "name": "stderr",
     "output_type": "stream",
     "text": [
      "\n",
      "Batches: 100%|██████████| 1/1 [00:07<00:00,  7.43s/it]1 examples/s]"
     ]
    },
    {
     "name": "stdout",
     "output_type": "stream",
     "text": [
      "[2025-09-26 14:23:25,065: INFO: 2931596709: Encoded 32 texts into embeddings of shape (32, 768)]\n"
     ]
    },
    {
     "name": "stderr",
     "output_type": "stream",
     "text": [
      "\n",
      "Batches: 100%|██████████| 1/1 [00:07<00:00,  7.90s/it]6 examples/s]"
     ]
    },
    {
     "name": "stdout",
     "output_type": "stream",
     "text": [
      "[2025-09-26 14:23:32,983: INFO: 2931596709: Encoded 32 texts into embeddings of shape (32, 768)]\n"
     ]
    },
    {
     "name": "stderr",
     "output_type": "stream",
     "text": [
      "\n",
      "Batches: 100%|██████████| 1/1 [00:10<00:00, 10.34s/it]9 examples/s]"
     ]
    },
    {
     "name": "stdout",
     "output_type": "stream",
     "text": [
      "[2025-09-26 14:23:43,348: INFO: 2931596709: Encoded 32 texts into embeddings of shape (32, 768)]\n"
     ]
    },
    {
     "name": "stderr",
     "output_type": "stream",
     "text": [
      "\n",
      "Batches: 100%|██████████| 1/1 [00:08<00:00,  8.66s/it]8 examples/s]"
     ]
    },
    {
     "name": "stdout",
     "output_type": "stream",
     "text": [
      "[2025-09-26 14:23:52,035: INFO: 2931596709: Encoded 32 texts into embeddings of shape (32, 768)]\n"
     ]
    },
    {
     "name": "stderr",
     "output_type": "stream",
     "text": [
      "\n",
      "Batches: 100%|██████████| 1/1 [00:09<00:00,  9.56s/it]4 examples/s]"
     ]
    },
    {
     "name": "stdout",
     "output_type": "stream",
     "text": [
      "[2025-09-26 14:24:01,617: INFO: 2931596709: Encoded 32 texts into embeddings of shape (32, 768)]\n"
     ]
    },
    {
     "name": "stderr",
     "output_type": "stream",
     "text": [
      "\n",
      "Batches: 100%|██████████| 1/1 [00:07<00:00,  7.60s/it]8 examples/s]"
     ]
    },
    {
     "name": "stdout",
     "output_type": "stream",
     "text": [
      "[2025-09-26 14:24:09,250: INFO: 2931596709: Encoded 32 texts into embeddings of shape (32, 768)]\n"
     ]
    },
    {
     "name": "stderr",
     "output_type": "stream",
     "text": [
      "\n",
      "Batches: 100%|██████████| 1/1 [00:06<00:00,  6.67s/it]6 examples/s]"
     ]
    },
    {
     "name": "stdout",
     "output_type": "stream",
     "text": [
      "[2025-09-26 14:24:15,955: INFO: 2931596709: Encoded 32 texts into embeddings of shape (32, 768)]\n"
     ]
    },
    {
     "name": "stderr",
     "output_type": "stream",
     "text": [
      "\n",
      "Batches: 100%|██████████| 1/1 [00:12<00:00, 12.40s/it]4 examples/s]"
     ]
    },
    {
     "name": "stdout",
     "output_type": "stream",
     "text": [
      "[2025-09-26 14:24:28,374: INFO: 2931596709: Encoded 32 texts into embeddings of shape (32, 768)]\n"
     ]
    },
    {
     "name": "stderr",
     "output_type": "stream",
     "text": [
      "\n",
      "Batches: 100%|██████████| 1/1 [00:13<00:00, 13.17s/it]0 examples/s]"
     ]
    },
    {
     "name": "stdout",
     "output_type": "stream",
     "text": [
      "[2025-09-26 14:24:41,560: INFO: 2931596709: Encoded 32 texts into embeddings of shape (32, 768)]\n"
     ]
    },
    {
     "name": "stderr",
     "output_type": "stream",
     "text": [
      "\n",
      "Batches: 100%|██████████| 1/1 [00:12<00:00, 12.67s/it]4 examples/s]"
     ]
    },
    {
     "name": "stdout",
     "output_type": "stream",
     "text": [
      "[2025-09-26 14:24:54,251: INFO: 2931596709: Encoded 32 texts into embeddings of shape (32, 768)]\n"
     ]
    },
    {
     "name": "stderr",
     "output_type": "stream",
     "text": [
      "\n",
      "Batches: 100%|██████████| 1/1 [00:09<00:00,  9.42s/it]6 examples/s]"
     ]
    },
    {
     "name": "stdout",
     "output_type": "stream",
     "text": [
      "[2025-09-26 14:25:03,687: INFO: 2931596709: Encoded 32 texts into embeddings of shape (32, 768)]\n"
     ]
    },
    {
     "name": "stderr",
     "output_type": "stream",
     "text": [
      "\n",
      "Batches: 100%|██████████| 1/1 [00:09<00:00,  9.87s/it]0 examples/s]"
     ]
    },
    {
     "name": "stdout",
     "output_type": "stream",
     "text": [
      "[2025-09-26 14:25:13,576: INFO: 2931596709: Encoded 32 texts into embeddings of shape (32, 768)]\n"
     ]
    },
    {
     "name": "stderr",
     "output_type": "stream",
     "text": [
      "\n",
      "Batches: 100%|██████████| 1/1 [00:12<00:00, 12.29s/it]7 examples/s]"
     ]
    },
    {
     "name": "stdout",
     "output_type": "stream",
     "text": [
      "[2025-09-26 14:25:25,883: INFO: 2931596709: Encoded 32 texts into embeddings of shape (32, 768)]\n"
     ]
    },
    {
     "name": "stderr",
     "output_type": "stream",
     "text": [
      "\n",
      "Batches: 100%|██████████| 1/1 [00:13<00:00, 13.04s/it]1 examples/s]"
     ]
    },
    {
     "name": "stdout",
     "output_type": "stream",
     "text": [
      "[2025-09-26 14:25:38,944: INFO: 2931596709: Encoded 32 texts into embeddings of shape (32, 768)]\n"
     ]
    },
    {
     "name": "stderr",
     "output_type": "stream",
     "text": [
      "\n",
      "Batches: 100%|██████████| 1/1 [00:12<00:00, 12.33s/it]6 examples/s]"
     ]
    },
    {
     "name": "stdout",
     "output_type": "stream",
     "text": [
      "[2025-09-26 14:25:51,294: INFO: 2931596709: Encoded 32 texts into embeddings of shape (32, 768)]\n"
     ]
    },
    {
     "name": "stderr",
     "output_type": "stream",
     "text": [
      "\n",
      "Batches: 100%|██████████| 1/1 [00:08<00:00,  8.50s/it]0 examples/s]"
     ]
    },
    {
     "name": "stdout",
     "output_type": "stream",
     "text": [
      "[2025-09-26 14:25:59,811: INFO: 2931596709: Encoded 32 texts into embeddings of shape (32, 768)]\n"
     ]
    },
    {
     "name": "stderr",
     "output_type": "stream",
     "text": [
      "\n",
      "Batches: 100%|██████████| 1/1 [00:13<00:00, 13.89s/it]5 examples/s]"
     ]
    },
    {
     "name": "stdout",
     "output_type": "stream",
     "text": [
      "[2025-09-26 14:26:13,731: INFO: 2931596709: Encoded 32 texts into embeddings of shape (32, 768)]\n"
     ]
    },
    {
     "name": "stderr",
     "output_type": "stream",
     "text": [
      "\n",
      "Batches: 100%|██████████| 1/1 [00:10<00:00, 10.32s/it]2 examples/s]"
     ]
    },
    {
     "name": "stdout",
     "output_type": "stream",
     "text": [
      "[2025-09-26 14:26:24,078: INFO: 2931596709: Encoded 32 texts into embeddings of shape (32, 768)]\n"
     ]
    },
    {
     "name": "stderr",
     "output_type": "stream",
     "text": [
      "\n",
      "Batches: 100%|██████████| 1/1 [00:10<00:00, 10.25s/it]2 examples/s]"
     ]
    },
    {
     "name": "stdout",
     "output_type": "stream",
     "text": [
      "[2025-09-26 14:26:34,344: INFO: 2931596709: Encoded 32 texts into embeddings of shape (32, 768)]\n"
     ]
    },
    {
     "name": "stderr",
     "output_type": "stream",
     "text": [
      "\n",
      "Batches: 100%|██████████| 1/1 [00:10<00:00, 10.87s/it]0 examples/s]"
     ]
    },
    {
     "name": "stdout",
     "output_type": "stream",
     "text": [
      "[2025-09-26 14:26:45,236: INFO: 2931596709: Encoded 32 texts into embeddings of shape (32, 768)]\n"
     ]
    },
    {
     "name": "stderr",
     "output_type": "stream",
     "text": [
      "\n",
      "Batches: 100%|██████████| 1/1 [00:09<00:00,  9.06s/it]1 examples/s]"
     ]
    },
    {
     "name": "stdout",
     "output_type": "stream",
     "text": [
      "[2025-09-26 14:26:54,317: INFO: 2931596709: Encoded 32 texts into embeddings of shape (32, 768)]\n"
     ]
    },
    {
     "name": "stderr",
     "output_type": "stream",
     "text": [
      "\n",
      "Batches: 100%|██████████| 1/1 [00:10<00:00, 10.76s/it]7 examples/s]"
     ]
    },
    {
     "name": "stdout",
     "output_type": "stream",
     "text": [
      "[2025-09-26 14:27:05,103: INFO: 2931596709: Encoded 32 texts into embeddings of shape (32, 768)]\n"
     ]
    },
    {
     "name": "stderr",
     "output_type": "stream",
     "text": [
      "\n",
      "Batches: 100%|██████████| 1/1 [00:11<00:00, 11.04s/it]4 examples/s]"
     ]
    },
    {
     "name": "stdout",
     "output_type": "stream",
     "text": [
      "[2025-09-26 14:27:16,160: INFO: 2931596709: Encoded 32 texts into embeddings of shape (32, 768)]\n"
     ]
    },
    {
     "name": "stderr",
     "output_type": "stream",
     "text": [
      "\n",
      "Batches: 100%|██████████| 1/1 [00:11<00:00, 11.05s/it]0 examples/s]"
     ]
    },
    {
     "name": "stdout",
     "output_type": "stream",
     "text": [
      "[2025-09-26 14:27:27,231: INFO: 2931596709: Encoded 32 texts into embeddings of shape (32, 768)]\n"
     ]
    },
    {
     "name": "stderr",
     "output_type": "stream",
     "text": [
      "\n",
      "Batches: 100%|██████████| 1/1 [00:08<00:00,  8.53s/it]6 examples/s]"
     ]
    },
    {
     "name": "stdout",
     "output_type": "stream",
     "text": [
      "[2025-09-26 14:27:35,780: INFO: 2931596709: Encoded 32 texts into embeddings of shape (32, 768)]\n"
     ]
    },
    {
     "name": "stderr",
     "output_type": "stream",
     "text": [
      "\n",
      "Batches: 100%|██████████| 1/1 [00:08<00:00,  8.05s/it]6 examples/s]"
     ]
    },
    {
     "name": "stdout",
     "output_type": "stream",
     "text": [
      "[2025-09-26 14:27:43,862: INFO: 2931596709: Encoded 32 texts into embeddings of shape (32, 768)]\n"
     ]
    },
    {
     "name": "stderr",
     "output_type": "stream",
     "text": [
      "\n",
      "Batches: 100%|██████████| 1/1 [00:10<00:00, 10.44s/it]6 examples/s]"
     ]
    },
    {
     "name": "stdout",
     "output_type": "stream",
     "text": [
      "[2025-09-26 14:27:54,320: INFO: 2931596709: Encoded 32 texts into embeddings of shape (32, 768)]\n"
     ]
    },
    {
     "name": "stderr",
     "output_type": "stream",
     "text": [
      "\n",
      "Batches: 100%|██████████| 1/1 [00:10<00:00, 10.46s/it]7 examples/s]"
     ]
    },
    {
     "name": "stdout",
     "output_type": "stream",
     "text": [
      "[2025-09-26 14:28:04,801: INFO: 2931596709: Encoded 32 texts into embeddings of shape (32, 768)]\n"
     ]
    },
    {
     "name": "stderr",
     "output_type": "stream",
     "text": [
      "\n",
      "Batches: 100%|██████████| 1/1 [00:11<00:00, 12.00s/it]0 examples/s]"
     ]
    },
    {
     "name": "stdout",
     "output_type": "stream",
     "text": [
      "[2025-09-26 14:28:16,814: INFO: 2931596709: Encoded 32 texts into embeddings of shape (32, 768)]\n"
     ]
    },
    {
     "name": "stderr",
     "output_type": "stream",
     "text": [
      "\n",
      "Batches: 100%|██████████| 1/1 [00:11<00:00, 11.35s/it]2 examples/s]"
     ]
    },
    {
     "name": "stdout",
     "output_type": "stream",
     "text": [
      "[2025-09-26 14:28:28,179: INFO: 2931596709: Encoded 32 texts into embeddings of shape (32, 768)]\n"
     ]
    },
    {
     "name": "stderr",
     "output_type": "stream",
     "text": [
      "\n",
      "Batches: 100%|██████████| 1/1 [00:12<00:00, 12.27s/it]5 examples/s]"
     ]
    },
    {
     "name": "stdout",
     "output_type": "stream",
     "text": [
      "[2025-09-26 14:28:40,479: INFO: 2931596709: Encoded 32 texts into embeddings of shape (32, 768)]\n"
     ]
    },
    {
     "name": "stderr",
     "output_type": "stream",
     "text": [
      "\n",
      "Batches: 100%|██████████| 1/1 [00:12<00:00, 12.89s/it]4 examples/s]"
     ]
    },
    {
     "name": "stdout",
     "output_type": "stream",
     "text": [
      "[2025-09-26 14:28:53,391: INFO: 2931596709: Encoded 32 texts into embeddings of shape (32, 768)]\n"
     ]
    },
    {
     "name": "stderr",
     "output_type": "stream",
     "text": [
      "\n",
      "Batches: 100%|██████████| 1/1 [00:08<00:00,  8.44s/it]2 examples/s]"
     ]
    },
    {
     "name": "stdout",
     "output_type": "stream",
     "text": [
      "[2025-09-26 14:29:01,853: INFO: 2931596709: Encoded 32 texts into embeddings of shape (32, 768)]\n"
     ]
    },
    {
     "name": "stderr",
     "output_type": "stream",
     "text": [
      "\n",
      "Batches: 100%|██████████| 1/1 [00:12<00:00, 12.68s/it]7 examples/s]"
     ]
    },
    {
     "name": "stdout",
     "output_type": "stream",
     "text": [
      "[2025-09-26 14:29:14,553: INFO: 2931596709: Encoded 32 texts into embeddings of shape (32, 768)]\n"
     ]
    },
    {
     "name": "stderr",
     "output_type": "stream",
     "text": [
      "\n",
      "Batches: 100%|██████████| 1/1 [00:15<00:00, 15.51s/it]2 examples/s]"
     ]
    },
    {
     "name": "stdout",
     "output_type": "stream",
     "text": [
      "[2025-09-26 14:29:30,085: INFO: 2931596709: Encoded 32 texts into embeddings of shape (32, 768)]\n"
     ]
    },
    {
     "name": "stderr",
     "output_type": "stream",
     "text": [
      "\n",
      "Batches: 100%|██████████| 1/1 [00:16<00:00, 16.21s/it]4 examples/s]"
     ]
    },
    {
     "name": "stdout",
     "output_type": "stream",
     "text": [
      "[2025-09-26 14:29:46,322: INFO: 2931596709: Encoded 32 texts into embeddings of shape (32, 768)]\n"
     ]
    },
    {
     "name": "stderr",
     "output_type": "stream",
     "text": [
      "\n",
      "Batches: 100%|██████████| 1/1 [00:10<00:00, 10.14s/it]4 examples/s]"
     ]
    },
    {
     "name": "stdout",
     "output_type": "stream",
     "text": [
      "[2025-09-26 14:29:56,483: INFO: 2931596709: Encoded 32 texts into embeddings of shape (32, 768)]\n"
     ]
    },
    {
     "name": "stderr",
     "output_type": "stream",
     "text": [
      "\n",
      "Batches: 100%|██████████| 1/1 [00:11<00:00, 11.27s/it]3 examples/s]"
     ]
    },
    {
     "name": "stdout",
     "output_type": "stream",
     "text": [
      "[2025-09-26 14:30:07,776: INFO: 2931596709: Encoded 32 texts into embeddings of shape (32, 768)]\n"
     ]
    },
    {
     "name": "stderr",
     "output_type": "stream",
     "text": [
      "\n",
      "Batches: 100%|██████████| 1/1 [00:10<00:00, 10.86s/it]2 examples/s]"
     ]
    },
    {
     "name": "stdout",
     "output_type": "stream",
     "text": [
      "[2025-09-26 14:30:18,659: INFO: 2931596709: Encoded 32 texts into embeddings of shape (32, 768)]\n"
     ]
    },
    {
     "name": "stderr",
     "output_type": "stream",
     "text": [
      "\n",
      "Batches: 100%|██████████| 1/1 [00:09<00:00,  9.19s/it]1 examples/s]"
     ]
    },
    {
     "name": "stdout",
     "output_type": "stream",
     "text": [
      "[2025-09-26 14:30:27,870: INFO: 2931596709: Encoded 32 texts into embeddings of shape (32, 768)]\n"
     ]
    },
    {
     "name": "stderr",
     "output_type": "stream",
     "text": [
      "\n",
      "Batches: 100%|██████████| 1/1 [00:12<00:00, 12.34s/it]0 examples/s]"
     ]
    },
    {
     "name": "stdout",
     "output_type": "stream",
     "text": [
      "[2025-09-26 14:30:40,235: INFO: 2931596709: Encoded 32 texts into embeddings of shape (32, 768)]\n"
     ]
    },
    {
     "name": "stderr",
     "output_type": "stream",
     "text": [
      "\n",
      "Batches: 100%|██████████| 1/1 [00:15<00:00, 15.08s/it]0 examples/s]"
     ]
    },
    {
     "name": "stdout",
     "output_type": "stream",
     "text": [
      "[2025-09-26 14:30:55,358: INFO: 2931596709: Encoded 32 texts into embeddings of shape (32, 768)]\n"
     ]
    },
    {
     "name": "stderr",
     "output_type": "stream",
     "text": [
      "\n",
      "Batches: 100%|██████████| 1/1 [00:10<00:00, 10.85s/it]5 examples/s]"
     ]
    },
    {
     "name": "stdout",
     "output_type": "stream",
     "text": [
      "[2025-09-26 14:31:06,238: INFO: 2931596709: Encoded 32 texts into embeddings of shape (32, 768)]\n"
     ]
    },
    {
     "name": "stderr",
     "output_type": "stream",
     "text": [
      "\n",
      "Batches: 100%|██████████| 1/1 [00:14<00:00, 14.22s/it]6 examples/s]"
     ]
    },
    {
     "name": "stdout",
     "output_type": "stream",
     "text": [
      "[2025-09-26 14:31:20,493: INFO: 2931596709: Encoded 32 texts into embeddings of shape (32, 768)]\n"
     ]
    },
    {
     "name": "stderr",
     "output_type": "stream",
     "text": [
      "\n",
      "Batches: 100%|██████████| 1/1 [00:14<00:00, 14.58s/it]2 examples/s]"
     ]
    },
    {
     "name": "stdout",
     "output_type": "stream",
     "text": [
      "[2025-09-26 14:31:35,092: INFO: 2931596709: Encoded 32 texts into embeddings of shape (32, 768)]\n"
     ]
    },
    {
     "name": "stderr",
     "output_type": "stream",
     "text": [
      "\n",
      "Batches: 100%|██████████| 1/1 [00:14<00:00, 14.82s/it]1 examples/s]"
     ]
    },
    {
     "name": "stdout",
     "output_type": "stream",
     "text": [
      "[2025-09-26 14:31:49,944: INFO: 2931596709: Encoded 32 texts into embeddings of shape (32, 768)]\n"
     ]
    },
    {
     "name": "stderr",
     "output_type": "stream",
     "text": [
      "\n",
      "Batches: 100%|██████████| 1/1 [00:14<00:00, 14.76s/it]3 examples/s]"
     ]
    },
    {
     "name": "stdout",
     "output_type": "stream",
     "text": [
      "[2025-09-26 14:32:04,731: INFO: 2931596709: Encoded 32 texts into embeddings of shape (32, 768)]\n"
     ]
    },
    {
     "name": "stderr",
     "output_type": "stream",
     "text": [
      "\n",
      "Batches: 100%|██████████| 1/1 [00:12<00:00, 12.73s/it]8 examples/s]"
     ]
    },
    {
     "name": "stdout",
     "output_type": "stream",
     "text": [
      "[2025-09-26 14:32:17,480: INFO: 2931596709: Encoded 32 texts into embeddings of shape (32, 768)]\n"
     ]
    },
    {
     "name": "stderr",
     "output_type": "stream",
     "text": [
      "\n",
      "Batches: 100%|██████████| 1/1 [00:11<00:00, 11.03s/it]4 examples/s]"
     ]
    },
    {
     "name": "stdout",
     "output_type": "stream",
     "text": [
      "[2025-09-26 14:32:28,534: INFO: 2931596709: Encoded 32 texts into embeddings of shape (32, 768)]\n"
     ]
    },
    {
     "name": "stderr",
     "output_type": "stream",
     "text": [
      "\n",
      "Batches: 100%|██████████| 1/1 [00:14<00:00, 14.09s/it]8 examples/s]"
     ]
    },
    {
     "name": "stdout",
     "output_type": "stream",
     "text": [
      "[2025-09-26 14:32:42,646: INFO: 2931596709: Encoded 32 texts into embeddings of shape (32, 768)]\n"
     ]
    },
    {
     "name": "stderr",
     "output_type": "stream",
     "text": [
      "\n",
      "Batches: 100%|██████████| 1/1 [00:14<00:00, 14.93s/it]1 examples/s]"
     ]
    },
    {
     "name": "stdout",
     "output_type": "stream",
     "text": [
      "[2025-09-26 14:32:57,596: INFO: 2931596709: Encoded 32 texts into embeddings of shape (32, 768)]\n"
     ]
    },
    {
     "name": "stderr",
     "output_type": "stream",
     "text": [
      "\n",
      "Batches: 100%|██████████| 1/1 [00:08<00:00,  8.90s/it]3 examples/s]"
     ]
    },
    {
     "name": "stdout",
     "output_type": "stream",
     "text": [
      "[2025-09-26 14:33:06,519: INFO: 2931596709: Encoded 32 texts into embeddings of shape (32, 768)]\n"
     ]
    },
    {
     "name": "stderr",
     "output_type": "stream",
     "text": [
      "\n",
      "Batches: 100%|██████████| 1/1 [00:16<00:00, 16.38s/it]0 examples/s]"
     ]
    },
    {
     "name": "stdout",
     "output_type": "stream",
     "text": [
      "[2025-09-26 14:33:22,925: INFO: 2931596709: Encoded 32 texts into embeddings of shape (32, 768)]\n"
     ]
    },
    {
     "name": "stderr",
     "output_type": "stream",
     "text": [
      "\n",
      "Batches: 100%|██████████| 1/1 [00:11<00:00, 11.11s/it]6 examples/s]"
     ]
    },
    {
     "name": "stdout",
     "output_type": "stream",
     "text": [
      "[2025-09-26 14:33:34,061: INFO: 2931596709: Encoded 32 texts into embeddings of shape (32, 768)]\n"
     ]
    },
    {
     "name": "stderr",
     "output_type": "stream",
     "text": [
      "\n",
      "Batches: 100%|██████████| 1/1 [00:14<00:00, 14.67s/it]0 examples/s]"
     ]
    },
    {
     "name": "stdout",
     "output_type": "stream",
     "text": [
      "[2025-09-26 14:33:48,750: INFO: 2931596709: Encoded 32 texts into embeddings of shape (32, 768)]\n"
     ]
    },
    {
     "name": "stderr",
     "output_type": "stream",
     "text": [
      "\n",
      "Batches: 100%|██████████| 1/1 [00:10<00:00, 10.20s/it]9 examples/s]"
     ]
    },
    {
     "name": "stdout",
     "output_type": "stream",
     "text": [
      "[2025-09-26 14:33:58,978: INFO: 2931596709: Encoded 32 texts into embeddings of shape (32, 768)]\n"
     ]
    },
    {
     "name": "stderr",
     "output_type": "stream",
     "text": [
      "\n",
      "Batches: 100%|██████████| 1/1 [00:04<00:00,  4.83s/it]7 examples/s]"
     ]
    },
    {
     "name": "stdout",
     "output_type": "stream",
     "text": [
      "[2025-09-26 14:34:03,845: INFO: 2931596709: Encoded 12 texts into embeddings of shape (12, 768)]\n"
     ]
    },
    {
     "name": "stderr",
     "output_type": "stream",
     "text": [
      "\n",
      "Map: 100%|██████████| 14732/14732 [1:28:06<00:00,  2.79 examples/s]"
     ]
    },
    {
     "name": "stdout",
     "output_type": "stream",
     "text": [
      "[2025-09-26 14:34:03,904: INFO: 2931596709: Saving dataset with embeddings to 'artifacts/data_embedding\\samsum_dataset'...]\n"
     ]
    },
    {
     "name": "stderr",
     "output_type": "stream",
     "text": [
      "\n",
      "Saving the dataset (1/1 shards): 100%|██████████| 14732/14732 [00:00<00:00, 102019.89 examples/s]"
     ]
    },
    {
     "name": "stdout",
     "output_type": "stream",
     "text": [
      "[2025-09-26 14:34:04,083: INFO: 2931596709: Data embedding transformation complete.]\n"
     ]
    },
    {
     "name": "stderr",
     "output_type": "stream",
     "text": [
      "\n"
     ]
    }
   ],
   "source": [
    "try:\n",
    "    # 2. 執行資料轉換\n",
    "    config = ConfigurationManager()\n",
    "    data_embedding_config = config.get_data_embedding_config()\n",
    "    transformer = DataEmbeddingTransformation(config=data_embedding_config)\n",
    "    # 這個 dataset 物件現在包含原始欄位以及一個新的 'embedding' 欄位\n",
    "    dataset_with_embeddings = transformer.convert()\n",
    "except Exception as e:\n",
    "    raise e"
   ]
  },
  {
   "cell_type": "code",
   "execution_count": null,
   "id": "973c680b",
   "metadata": {},
   "outputs": [],
   "source": []
  },
  {
   "cell_type": "code",
   "execution_count": null,
   "id": "e84792d1",
   "metadata": {},
   "outputs": [],
   "source": []
  },
  {
   "cell_type": "code",
   "execution_count": null,
   "id": "40562780",
   "metadata": {},
   "outputs": [],
   "source": []
  },
  {
   "cell_type": "code",
   "execution_count": null,
   "id": "b34be79c",
   "metadata": {},
   "outputs": [],
   "source": []
  },
  {
   "cell_type": "code",
   "execution_count": null,
   "id": "b63e85f1",
   "metadata": {},
   "outputs": [],
   "source": []
  }
 ],
 "metadata": {
  "kernelspec": {
   "display_name": "legalrag",
   "language": "python",
   "name": "python3"
  },
  "language_info": {
   "codemirror_mode": {
    "name": "ipython",
    "version": 3
   },
   "file_extension": ".py",
   "mimetype": "text/x-python",
   "name": "python",
   "nbconvert_exporter": "python",
   "pygments_lexer": "ipython3",
   "version": "3.10.18"
  }
 },
 "nbformat": 4,
 "nbformat_minor": 5
}
