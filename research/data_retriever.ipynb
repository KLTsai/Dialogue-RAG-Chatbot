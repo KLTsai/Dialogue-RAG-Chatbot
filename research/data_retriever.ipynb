{
 "cells": [
  {
   "cell_type": "code",
   "execution_count": null,
   "id": "6d7bb0af",
   "metadata": {},
   "outputs": [],
   "source": [
    "import os\n",
    "%pwd"
   ]
  },
  {
   "cell_type": "code",
   "execution_count": 5,
   "id": "0e23aa58",
   "metadata": {},
   "outputs": [],
   "source": [
    "os.chdir(\"../\")"
   ]
  },
  {
   "cell_type": "code",
   "execution_count": null,
   "id": "1dfc5a64",
   "metadata": {},
   "outputs": [],
   "source": [
    "%pwd"
   ]
  },
  {
   "cell_type": "code",
   "execution_count": 7,
   "id": "293e5131",
   "metadata": {},
   "outputs": [],
   "source": [
    "from dataclasses import dataclass\n",
    "from pathlib import Path"
   ]
  },
  {
   "cell_type": "code",
   "execution_count": 8,
   "id": "4011ce8a",
   "metadata": {},
   "outputs": [],
   "source": [
    "@dataclass(frozen=True)\n",
    "class DataEmbeddingConfig:\n",
    "    root_dir: Path\n",
    "    data_path: Path\n",
    "    model_name: str\n",
    "    text_column: str\n",
    "\n",
    "@dataclass(frozen=True)\n",
    "class VectorStorageConfig:\n",
    "    data_path: Path\n",
    "    embedding_dim: int"
   ]
  },
  {
   "cell_type": "code",
   "execution_count": null,
   "id": "e19d366e",
   "metadata": {},
   "outputs": [],
   "source": [
    "from dialogue_rag_chatbot.constants import *\n",
    "from dialogue_rag_chatbot.utils.common import read_yaml, create_directories"
   ]
  },
  {
   "cell_type": "code",
   "execution_count": 10,
   "id": "1073812a",
   "metadata": {},
   "outputs": [],
   "source": [
    "class ConfigurationManager:\n",
    "    def __init__(\n",
    "        self,\n",
    "        config_filepath = CONFIG_FILE_PATH,\n",
    "        params_filepath = PARAMS_FILE_PATH):\n",
    "\n",
    "        self.config = read_yaml(config_filepath)\n",
    "        self.params = read_yaml(params_filepath)\n",
    "\n",
    "        create_directories([self.config.artifacts_root])\n",
    "    \n",
    "    def get_data_embedding_config(self) -> DataEmbeddingConfig:\n",
    "        config = self.config.data_embedding\n",
    "\n",
    "        create_directories([config.root_dir])\n",
    "        data_embedding_config = DataEmbeddingConfig(\n",
    "            root_dir = config.root_dir,\n",
    "            data_path = config.data_path,\n",
    "            model_name = config.model_name,\n",
    "            text_column= config.text_column\n",
    "        )\n",
    "\n",
    "        return data_embedding_config\n",
    "\n",
    "    def get_vector_storage_config(self)-> VectorStorageConfig:\n",
    "\n",
    "        config = self.config.vector_storage\n",
    "        vector_storage_config = VectorStorageConfig(\n",
    "            data_path=config.data_path,\n",
    "            embedding_dim=config.embedding_dim\n",
    "        )\n",
    "\n",
    "        return vector_storage_config\n",
    "    "
   ]
  },
  {
   "cell_type": "code",
   "execution_count": null,
   "id": "174553dd",
   "metadata": {},
   "outputs": [
    {
     "name": "stderr",
     "output_type": "stream",
     "text": [
      "c:\\Users\\Kun\\miniconda3\\envs\\legalrag\\lib\\site-packages\\tqdm\\auto.py:21: TqdmWarning: IProgress not found. Please update jupyter and ipywidgets. See https://ipywidgets.readthedocs.io/en/stable/user_install.html\n",
      "  from .autonotebook import tqdm as notebook_tqdm\n"
     ]
    },
    {
     "name": "stdout",
     "output_type": "stream",
     "text": [
      "[2025-09-26 17:33:34,838: INFO: utils: NumExpr defaulting to 16 threads.]\n"
     ]
    }
   ],
   "source": [
    "from dialogue_rag_chatbot.logging import logger\n",
    "from sentence_transformers import SentenceTransformer\n",
    "from datasets import load_from_disk\n",
    "from typing import List, Dict, Any, Tuple\n",
    "import numpy as np"
   ]
  },
  {
   "cell_type": "code",
   "execution_count": 12,
   "id": "a8a78ae8",
   "metadata": {},
   "outputs": [],
   "source": [
    "class EmbeddingModel:\n",
    "    \"\"\"Granite embedding model using SentenceTransformers\"\"\"\n",
    "    \n",
    "    def __init__(self, config: DataEmbeddingConfig):\n",
    "        self.model_name = config.model_name\n",
    "        try:\n",
    "            self.model = SentenceTransformer(self.model_name)\n",
    "            logger.info(f\"Granite embedding model '{self.model_name}' loaded successfully\")\n",
    "        except Exception as e:\n",
    "            logger.error(f\"Failed to load model {self.model_name}: {str(e)}\")\n",
    "            raise\n",
    "    \n",
    "    def encode(self, texts):\n",
    "        \"\"\"Encode texts into embeddings\"\"\"\n",
    "        try:\n",
    "            # Granite embedding models return 768-dimensional vectors\n",
    "            embeddings = self.model.encode(texts, convert_to_numpy=True)\n",
    "            logger.info(f\"Encoded {len(texts)} texts into embeddings of shape {embeddings.shape}\")\n",
    "            return embeddings\n",
    "        except Exception as e:\n",
    "            logger.error(f\"Error encoding texts: {str(e)}\")\n",
    "            raise\n",
    "\n",
    "\n",
    "class VectorStorage:\n",
    "    \"\"\"Store and retrieve document embeddings\"\"\"\n",
    "    \n",
    "    def __init__(self, config: VectorStorageConfig):\n",
    "        self.config = config\n",
    "        self.embedding_dim = self.config.embedding_dim\n",
    "        self.embeddings = []\n",
    "        self.documents = []\n",
    "        logger.info(f\"VectorStore initialized with embedding_dim={self.embedding_dim}\")\n",
    "    \n",
    "    def add_documents(self, documents: List[Dict[str, Any]], embeddings: np.ndarray):\n",
    "        \"\"\"Add documents and their embeddings to the store\"\"\"\n",
    "        if embeddings.shape[1] != self.embedding_dim:\n",
    "            raise ValueError(f\"Embedding dimension mismatch: expected {self.embedding_dim}, got {embeddings.shape[1]}\")\n",
    "        \n",
    "        self.embeddings.extend(embeddings.tolist())\n",
    "        self.documents.extend(documents)\n",
    "        logger.info(f\"Added {len(documents)} documents to vector store\")\n",
    "    \n",
    "    def similarity_search(self, query_embedding: np.ndarray, top_k: int = 5) -> List[Tuple[Dict[str, Any], float]]:\n",
    "        \"\"\"Perform similarity search\"\"\"\n",
    "        if not self.embeddings:\n",
    "            return []\n",
    "        \n",
    "        query_embedding = query_embedding.flatten()\n",
    "\n",
    "        embeddings_matrix = np.array(self.embeddings)\n",
    "        similarities = np.dot(embeddings_matrix, query_embedding.T) / (\n",
    "            np.linalg.norm(embeddings_matrix, axis=1) * np.linalg.norm(query_embedding) + 1e-10\n",
    "        )\n",
    "        \n",
    "        # top_indices = np.argsort(similarities)[-top_k:][::-1]\n",
    "        \n",
    "        top_indices = np.argpartition(-similarities, top_k)[:top_k]\n",
    "        top_indices = top_indices[np.argsort(-similarities[top_indices])]\n",
    "\n",
    "        results = [(self.documents[idx], float(similarities[idx])) for idx in top_indices]\n",
    "        logger.info(f\"Retrieved {len(results)} documents from vector store\")\n",
    "        return results"
   ]
  },
  {
   "cell_type": "code",
   "execution_count": null,
   "id": "513ed4d6",
   "metadata": {},
   "outputs": [],
   "source": [
    "class Retriever:\n",
    "    \"\"\"Retrieve relevant documents based on query\"\"\"\n",
    "    \n",
    "    def __init__(self, vector_store: VectorStorage, embedding_model: EmbeddingModel):\n",
    "        self.vector_store = vector_store\n",
    "        self.embedding_model = embedding_model\n",
    "        logger.info(\"Retriever initialized\")\n",
    "    \n",
    "    def retrieve(self, query: str, top_k: int = 5) -> List[Dict[str, Any]]:\n",
    "        \"\"\"\n",
    "        Retrieve relevant documents for query\n",
    "        \n",
    "        Args:\n",
    "            query: User query\n",
    "            top_k: Number of documents to retrieve\n",
    "            \n",
    "        Returns:\n",
    "            List of relevant documents\n",
    "        \"\"\"\n",
    "        try:\n",
    "            # Encode query\n",
    "            query_embedding = self.embedding_model.encode([query])[0]\n",
    "            \n",
    "            # Search similar documents\n",
    "            results = self.vector_store.similarity_search(query_embedding, top_k)\n",
    "            \n",
    "            # Extract documents\n",
    "            documents = [doc for doc, score in results]\n",
    "            \n",
    "            logger.info(f\"Retrieved {len(documents)} documents for query\")\n",
    "            return documents\n",
    "            \n",
    "        except Exception as e:\n",
    "            logger.error(f\"Error in retrieval: {str(e)}\")\n",
    "            return []"
   ]
  }
 ],
 "metadata": {
  "kernelspec": {
   "display_name": "legalrag",
   "language": "python",
   "name": "python3"
  },
  "language_info": {
   "codemirror_mode": {
    "name": "ipython",
    "version": 3
   },
   "file_extension": ".py",
   "mimetype": "text/x-python",
   "name": "python",
   "nbconvert_exporter": "python",
   "pygments_lexer": "ipython3",
   "version": "3.10.18"
  }
 },
 "nbformat": 4,
 "nbformat_minor": 5
}
