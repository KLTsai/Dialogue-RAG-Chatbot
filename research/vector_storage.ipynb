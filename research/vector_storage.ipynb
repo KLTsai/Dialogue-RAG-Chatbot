{
 "cells": [
  {
   "cell_type": "code",
   "execution_count": null,
   "id": "b06377b9",
   "metadata": {},
   "outputs": [],
   "source": [
    "import os\n",
    "%pwd"
   ]
  },
  {
   "cell_type": "code",
   "execution_count": 2,
   "id": "e572887c",
   "metadata": {},
   "outputs": [],
   "source": [
    "os.chdir(\"../\")"
   ]
  },
  {
   "cell_type": "code",
   "execution_count": null,
   "metadata": {},
   "outputs": [],
   "source": [
    "%pwd"
   ]
  },
  {
   "cell_type": "code",
   "execution_count": 4,
   "metadata": {},
   "outputs": [],
   "source": [
    "from dataclasses import dataclass\n",
    "from pathlib import Path"
   ]
  },
  {
   "cell_type": "code",
   "execution_count": 5,
   "id": "54a550dd",
   "metadata": {},
   "outputs": [],
   "source": [
    "@dataclass(frozen=True)\n",
    "class DataEmbeddingConfig:\n",
    "    root_dir: Path\n",
    "    data_path: Path\n",
    "    model_name: str\n",
    "    text_column: str\n",
    "\n",
    "@dataclass(frozen=True)\n",
    "class VectorStorageConfig:\n",
    "    data_path: Path\n",
    "    embedding_dim: int"
   ]
  },
  {
   "cell_type": "code",
   "execution_count": null,
   "metadata": {},
   "outputs": [],
   "source": [
    "from dialogue_rag_chatbot.constants import *\n",
    "from dialogue_rag_chatbot.utils.common import read_yaml, create_directories"
   ]
  },
  {
   "cell_type": "code",
   "execution_count": 7,
   "metadata": {},
   "outputs": [],
   "source": [
    "class ConfigurationManager:\n",
    "    def __init__(\n",
    "        self,\n",
    "        config_filepath = CONFIG_FILE_PATH,\n",
    "        params_filepath = PARAMS_FILE_PATH):\n",
    "\n",
    "        self.config = read_yaml(config_filepath)\n",
    "        self.params = read_yaml(params_filepath)\n",
    "\n",
    "        create_directories([self.config.artifacts_root])\n",
    "    \n",
    "    def get_data_embedding_config(self) -> DataEmbeddingConfig:\n",
    "        config = self.config.data_embedding\n",
    "\n",
    "        create_directories([config.root_dir])\n",
    "        data_embedding_config = DataEmbeddingConfig(\n",
    "            root_dir = config.root_dir,\n",
    "            data_path = config.data_path,\n",
    "            model_name = config.model_name,\n",
    "            text_column= config.text_column\n",
    "        )\n",
    "\n",
    "        return data_embedding_config\n",
    "\n",
    "    def get_vector_storage_config(self)-> VectorStorageConfig:\n",
    "\n",
    "        config = self.config.vector_storage\n",
    "        vector_storage_config = VectorStorageConfig(\n",
    "            data_path=config.data_path,\n",
    "            embedding_dim=config.embedding_dim\n",
    "        )\n",
    "\n",
    "        return vector_storage_config\n",
    "    \n"
   ]
  },
  {
   "cell_type": "code",
   "execution_count": null,
   "id": "c6223343",
   "metadata": {},
   "outputs": [
    {
     "name": "stderr",
     "output_type": "stream",
     "text": [
      "c:\\Users\\Kun\\miniconda3\\envs\\legalrag\\lib\\site-packages\\tqdm\\auto.py:21: TqdmWarning: IProgress not found. Please update jupyter and ipywidgets. See https://ipywidgets.readthedocs.io/en/stable/user_install.html\n",
      "  from .autonotebook import tqdm as notebook_tqdm\n"
     ]
    }
   ],
   "source": [
    "from dialogue_rag_chatbot.logging import logger\n",
    "from sentence_transformers import SentenceTransformer\n",
    "from datasets import load_from_disk\n",
    "from typing import List, Dict, Any, Tuple\n",
    "import numpy as np"
   ]
  },
  {
   "cell_type": "code",
   "execution_count": 9,
   "id": "766c02cd",
   "metadata": {},
   "outputs": [],
   "source": [
    "class EmbeddingModel:\n",
    "    \"\"\"Granite embedding model using SentenceTransformers\"\"\"\n",
    "    \n",
    "    def __init__(self, config: DataEmbeddingConfig):\n",
    "        self.model_name = config.model_name\n",
    "        try:\n",
    "            self.model = SentenceTransformer(self.model_name)\n",
    "            logger.info(f\"Granite embedding model '{self.model_name}' loaded successfully\")\n",
    "        except Exception as e:\n",
    "            logger.error(f\"Failed to load model {self.model_name}: {str(e)}\")\n",
    "            raise\n",
    "    \n",
    "    def encode(self, texts):\n",
    "        \"\"\"Encode texts into embeddings\"\"\"\n",
    "        try:\n",
    "            # Granite embedding models return 768-dimensional vectors\n",
    "            embeddings = self.model.encode(texts, convert_to_numpy=True)\n",
    "            logger.info(f\"Encoded {len(texts)} texts into embeddings of shape {embeddings.shape}\")\n",
    "            return embeddings\n",
    "        except Exception as e:\n",
    "            logger.error(f\"Error encoding texts: {str(e)}\")\n",
    "            raise\n",
    "\n",
    "\n",
    "class VectorStorage:\n",
    "    \"\"\"Store and retrieve document embeddings\"\"\"\n",
    "    \n",
    "    def __init__(self, config: VectorStorageConfig):\n",
    "        self.config = config\n",
    "        self.embedding_dim = self.config.embedding_dim\n",
    "        self.embeddings = []\n",
    "        self.documents = []\n",
    "        logger.info(f\"VectorStore initialized with embedding_dim={self.embedding_dim}\")\n",
    "    \n",
    "    def add_documents(self, documents: List[Dict[str, Any]], embeddings: np.ndarray):\n",
    "        \"\"\"Add documents and their embeddings to the store\"\"\"\n",
    "        if embeddings.shape[1] != self.embedding_dim:\n",
    "            raise ValueError(f\"Embedding dimension mismatch: expected {self.embedding_dim}, got {embeddings.shape[1]}\")\n",
    "        \n",
    "        self.embeddings.extend(embeddings.tolist())\n",
    "        self.documents.extend(documents)\n",
    "        logger.info(f\"Added {len(documents)} documents to vector store\")\n",
    "    \n",
    "    def similarity_search(self, query_embedding: np.ndarray, top_k: int = 5) -> List[Tuple[Dict[str, Any], float]]:\n",
    "        \"\"\"Perform similarity search\"\"\"\n",
    "        if not self.embeddings:\n",
    "            return []\n",
    "        \n",
    "        query_embedding = query_embedding.flatten()\n",
    "\n",
    "        embeddings_matrix = np.array(self.embeddings)\n",
    "        similarities = np.dot(embeddings_matrix, query_embedding.T) / (\n",
    "            np.linalg.norm(embeddings_matrix, axis=1) * np.linalg.norm(query_embedding) + 1e-10\n",
    "        )\n",
    "        \n",
    "        # top_indices = np.argsort(similarities)[-top_k:][::-1]\n",
    "        \n",
    "        top_indices = np.argpartition(-similarities, top_k)[:top_k]\n",
    "        top_indices = top_indices[np.argsort(-similarities[top_indices])]\n",
    "\n",
    "        results = [(self.documents[idx], float(similarities[idx])) for idx in top_indices]\n",
    "        logger.info(f\"Retrieved {len(results)} documents from vector store\")\n",
    "        return results"
   ]
  },
  {
   "cell_type": "code",
   "execution_count": 10,
   "id": "f4729ec6",
   "metadata": {},
   "outputs": [
    {
     "name": "stdout",
     "output_type": "stream",
     "text": [
      "[2025-09-27 20:16:22,915: INFO: common: yaml file: config\\config.yaml loaded successfully]\n",
      "[2025-09-27 20:16:22,918: INFO: common: yaml file: params.yaml loaded successfully]\n",
      "[2025-09-27 20:16:22,920: INFO: common: created directory at: artifacts]\n",
      "[2025-09-27 20:16:22,921: INFO: 1311732731: VectorStore initialized with embedding_dim=768]\n",
      "[2025-09-27 20:16:41,061: INFO: 1311732731: Added 14732 documents to vector store]\n"
     ]
    }
   ],
   "source": [
    "try:\n",
    "    config = ConfigurationManager()\n",
    "    vector_storage_config = config.get_vector_storage_config()\n",
    "    vector_store = VectorStorage(config = vector_storage_config)\n",
    "\n",
    "    dataset_with_embeddings = load_from_disk(vector_storage_config.data_path)\n",
    "    \n",
    "    documents = [{\"id\": item[\"id\"], \"dialogue\": item[\"dialogue\"], \"summary\": item[\"summary\"]} for item in dataset_with_embeddings]\n",
    "    embeddings = np.array(dataset_with_embeddings[\"embedding\"])\n",
    "    vector_store.add_documents(documents, embeddings)\n",
    "\n",
    "\n",
    "\n",
    "except Exception as e:\n",
    "    raise e"
   ]
  },
  {
   "cell_type": "code",
   "execution_count": 11,
   "id": "90680a1c",
   "metadata": {},
   "outputs": [
    {
     "name": "stdout",
     "output_type": "stream",
     "text": [
      "[2025-09-27 20:16:41,084: INFO: common: created directory at: artifacts/data_embedding]\n",
      "[2025-09-27 20:16:41,090: INFO: SentenceTransformer: Use pytorch device_name: cpu]\n",
      "[2025-09-27 20:16:41,092: INFO: SentenceTransformer: Load pretrained SentenceTransformer: ibm-granite/granite-embedding-278m-multilingual]\n",
      "[2025-09-27 20:16:51,560: INFO: 1311732731: Granite embedding model 'ibm-granite/granite-embedding-278m-multilingual' loaded successfully]\n"
     ]
    },
    {
     "name": "stderr",
     "output_type": "stream",
     "text": [
      "Batches: 100%|██████████| 1/1 [00:00<00:00,  3.65it/s]"
     ]
    },
    {
     "name": "stdout",
     "output_type": "stream",
     "text": [
      "[2025-09-27 20:16:51,857: INFO: 1311732731: Encoded 1 texts into embeddings of shape (1, 768)]\n"
     ]
    },
    {
     "name": "stderr",
     "output_type": "stream",
     "text": [
      "\n"
     ]
    },
    {
     "name": "stdout",
     "output_type": "stream",
     "text": [
      "[2025-09-27 20:16:52,463: INFO: 1311732731: Retrieved 10 documents from vector store]\n",
      "\n",
      "Query: '我想知道有誰在討論旅遊很開心，把他們名字都列出來'\n",
      "Top 10 similar dialogues:\n",
      "{'id': '13730805', 'dialogue': \"Adam: any idea for holiday this year?\\r\\nTheo: dunno. i guess ann and the boys would like to fly swh\\r\\nAdam: in summer?\\r\\nTheo: dunno. it might be sort of expensive in peak season. \\r\\nAdam: you mean it's better to go before or after?\\r\\nTheo: dfntly. we were actually considering october. could be 30% off \\r\\nAdam: sounds attractive enough. but we can't both go at teh same time right\\r\\nTheo: yeah, the boss wouldn't be very happy\\r\\nAdam: perhaps i'll look for sth in June then?\\r\\nTheo: thats' a thought. any ideas where to?\\r\\nAdam: in my case it's more of a question who with haha\\r\\nTheo: you really argued with Layla?\\r\\nAdam: she's still pretty angry about that party you know\\r\\nTheo: yeah but June is still a couple of months to go\\r\\nAdam: we'll need to talk with her about everythihng\\r\\nTheo: you better do before you book the tickets :)\\r\\nAdam: will have to. cheers\", 'summary': \"Theo is thinking about going for holiday in October this year. Adam is thinking about June. He had argued with Layla, so he's not sure if she'll come along. He's going to talk with her.\"}\n",
      "  Score: 0.7716\n",
      "  Dialogue: Adam: any idea for holiday this year?\n",
      "Theo: dunno. i guess ann and the boys would like to fly swh\n",
      "Adam: in summer?\n",
      "Theo: dunno. it might be sort of...\n",
      "--------------------\n",
      "{'id': '13730388', 'dialogue': 'Andrew: do you remember the name of this travel agency you used last year?\\r\\nArno: when we went to Greece or Italy?\\r\\nAndrew: Greece, last summer\\r\\nArno: it was \"Happy Travels\" I believe, to be honest Anna booked that I am not really sure...\\r\\nAndrew: can you ask her?\\r\\nArno: hold on\\r\\nAndrew: ok\\r\\nArno: yeah it was the one I mentioned, here is their number: 543 342 121\\r\\nAndrew: thanks mate', 'summary': 'Arno went to Greece and Italy last year. Anna booked the tour to Greece with \"Happy Travels\" travel agency. Arno gives Andrew their number.'}\n",
      "  Score: 0.7677\n",
      "  Dialogue: Andrew: do you remember the name of this travel agency you used last year?\n",
      "Arno: when we went to Greece or Italy?\n",
      "Andrew: Greece, last summer\n",
      "Arno:...\n",
      "--------------------\n",
      "{'id': '13612069', 'dialogue': \"Peter: Hi, Sam, I was just wondering, have you not invited Julia and Mike to the event on FB on purpose?\\r\\nSam: Oh, shit, no, I just forgot. I will add them right now. We've sent a paper invitation already so it should be fine.\\r\\nPeter: Thought so, cool. Do you need any help?\\r\\nSam: Thanks, everything is under control so far - I hope so...\\r\\nPeter: How many people do you expect to come?\\r\\nSam: We invited a hundred but I think we will wind up with around 70.\\r\\nPeter: Still quite a party. Can't wait!\\r\\nSam: Who are you coming with?\\r\\nPeter: Sorry, I forgot to tell you - I will be flying solo.\\r\\nSam: No problem, I will tell Michelle, she's in charge of that.\\r\\nPeter: Tell her to put me at the hot singles table\\r\\nSam: Okay...\\r\\nPeter: Joking!\", 'summary': 'Sam forgot to invite Julia and Mike to the event on FB. Around 70 people will come to the party. Peter will be flying solo.'}\n",
      "  Score: 0.7607\n",
      "  Dialogue: Peter: Hi, Sam, I was just wondering, have you not invited Julia and Mike to the event on FB on purpose?\n",
      "Sam: Oh, shit, no, I just forgot. I will add...\n",
      "--------------------\n",
      "{'id': '13730300', 'dialogue': \"Diana: I love traveling, but I love coming home, too!\\r\\nMichelle: Did you enjoy your vacation?\\r\\nDiana: It had its ups and downs, but yeah it was really cool.\\r\\nMichelle: What did you like the best?\\r\\nDiana: I absolutely enjoyed the kayak trip I took to an outlying island.\\r\\nMichelle: Did you enjoy the people there? Did they like you?\\r\\nDiana: Most of the people seemed happy that we were there, but some of them really resented visitors.\\r\\nMichelle: Did you bring something for me? ;)\\r\\nDiana: I did get you something, and I will give to you as soon as I'm with you ahah\\r\\nMichelle: Next time, I am going to save up my money and go with you!\", 'summary': 'Diana enjoyed her vacation. She loved the kayak trip. She brought Michelle a gift. Michelle would like to go with her next time.'}\n",
      "  Score: 0.7526\n",
      "  Dialogue: Diana: I love traveling, but I love coming home, too!\n",
      "Michelle: Did you enjoy your vacation?\n",
      "Diana: It had its ups and downs, but yeah it was really...\n",
      "--------------------\n",
      "{'id': '13717155', 'dialogue': \"Mark: Hi guys!\\r\\nAnna: Hi\\r\\nJulia: Hello\\r\\nGeorge: S'up\\r\\nMark: Listen, I've got an idea! Let's go on holiday together!\\r\\nAnna: Gr8!\\r\\nJulia: Cool!\\r\\nGeorge: I'm in!\\r\\nMark: So, first things first - where to?\\r\\nAnna: Idk\\r\\nJulia: Greece?\\r\\nGeorge: Georgia?\\r\\nMark: What about Italy?\\r\\nAnna: Seems we need to compromise!\\r\\nJulia: Right. I've been to Georgia. Didn't like it.\\r\\nGeorge: And I've been to Greece. Nice.\", 'summary': \"Mark, Anna, Julia and George want to go on holidays together. They need to choose a destination. They're considering Greece, Georgia and Italy. Julia doesn't like Georgia.\"}\n",
      "  Score: 0.7524\n",
      "  Dialogue: Mark: Hi guys!\n",
      "Anna: Hi\n",
      "Julia: Hello\n",
      "George: S'up\n",
      "Mark: Listen, I've got an idea! Let's go on holiday together!\n",
      "Anna: Gr8!\n",
      "Julia: Cool!\n",
      "George:...\n",
      "--------------------\n",
      "{'id': '13716914', 'dialogue': \"Ruth: hi everyone\\r\\nRuth: I've noticed that some of you are interested in a holiday trip this summer\\r\\nRuth: so I'm writing to check your preferences and what're actually the odds that any plan will fly\\r\\nMyron: Yo Ruth\\r\\nMyron: I'd like to go somewhere if we manage to scare up some fellows hungry for adventure\\r\\nRuth: Ok, would you rather go to some place in Poland or abroad?\\r\\nMyron: I think we shouldn't go abroad yet. We can find a nice place in our country, see how we get on and maybe the next year some longer distance trip :)\\r\\nTina: Hi :)\\r\\nTina: I agree with Myron, his vision sounds reasonable.\\r\\nPaula: And so do I, hello :)\\r\\nPaula: I'd also like to put forward a proposition\\r\\nPaula: Let's go to Masuria! We can rent a big car, get everything we'll need and have fun at the lakes!\\r\\nMyron: I like it\\r\\nTina: Me too!\\r\\nRuth: Wow, the idea's building up nicely. There's already 4 of us and a competitive proposal :)\\r\\nHugh: Hello there\\r\\nHugh: With me it's 5 cuz I want to live a fine adventure that I could tell my grandkids\\r\\nPaula: Hahaha\\r\\nTina: Hugh, you must join us, we need you with your terrific sense of humor :)\\r\\nHugh: Thanks, I'm in :)\\r\\nKaren: Hey!\\r\\nKaren: I can't go with you because I'm going to Spain to my mom.\\r\\nKaren: But I've read your conversation and I think I can help you. I've visited Masuria a few times and know fantastic places to camp :)\\r\\nRuth: Hello Karen!\\r\\nRuth: Sweet, you must tell us everything during the breaks between classes! :)\\r\\nKaren: I'd love to help :)\\r\\nGerard: Can I join you, guys?\\r\\nMyron: What kind of question is that?! Welcome aboard!\\r\\nRuth: Fantastic, 6 adventurous students go on a fine trip. We'll discuss the details tomorrow\\r\\nTina: I'm so excited already :) :)\", 'summary': \"Ruth, Myron, Tina, Paula, Gerard and Hugh are planning to go on a holiday trip together this summer. They have agreed on renting a car and going to Masuria. Karen can't go, because she going to Spain to her mom, but she knows Masuria and has offered help.\"}\n",
      "  Score: 0.7455\n",
      "  Dialogue: Ruth: hi everyone\n",
      "Ruth: I've noticed that some of you are interested in a holiday trip this summer\n",
      "Ruth: so I'm writing to check your preferences an...\n",
      "--------------------\n",
      "{'id': '13830120', 'dialogue': \"Chris: I've put our names on the list!\\r\\nAnna: Yaaaaay!! :D:D:D\\r\\nAnna: <file_gif>\\r\\nChris: yep, it's happening, babe!\\r\\nChris: Excited?\\r\\nAnna: YOU BET! :)\\r\\nChris: mee too <3\\r\\nAnna: will I manage?\\r\\nChris: Sure, you will! you've sailed before!\\r\\nAnna: but not on the sea!!! That's kind of a big deal :D\\r\\nChris: I'll help you, don't worry\\r\\nChris: You're tough. <3 <3\\r\\nAnna: okaaaay, can't wait :)\\r\\nChris: I love you, sweetie!\\r\\nAnna: I love you too. <3\", 'summary': 'Chris has enrolled Anna and himself for sailing at the sea. Anna has sailed before, but not on the sea.'}\n",
      "  Score: 0.7454\n",
      "  Dialogue: Chris: I've put our names on the list!\n",
      "Anna: Yaaaaay!! :D:D:D\n",
      "Anna: <file_gif>\n",
      "Chris: yep, it's happening, babe!\n",
      "Chris: Excited?\n",
      "Anna: YOU BET! :...\n",
      "--------------------\n",
      "{'id': '13716860', 'dialogue': \"Jolene: Hello everyone! I have created this group to keep all of the discussions in one place :)\\r\\nJolene: It seems like not everyone checks our facebook page for posts so it would be easier to reach everyone here\\r\\nEsther: great idea! but I think a few of the members are missing\\r\\nJolene: Esther, feel free to add anyone :)\\r\\nEsther: ok, I'm adding Mike and Will\\r\\nMike: hey, thanks for remembering about me but I am leaving Poland in a week and will no longer be able to come to the meetings\\r\\nJolene: oh, that's a shame :( where are you going?\\r\\nMike: I'm moving to Austria. It was a pleasure to meet you all :)\\r\\nEsther: you too, good luck out there!\\r\\nMike: thanks :)\\r\\nWill: hey, thanks for adding me. \\r\\nJolene: so about next week - I have an idea for a new route\\r\\nWill: also 20km?\\r\\nJolene: yes, more or less. we're going to do a lap around the lake\\r\\nEsther: sounds great!\", 'summary': 'Jolene has created this group to have all their conversations in one place. Esther has added Mike and Will. Mike is moving to Austria so he will not be able to come to the meetings any more. Jolene has also come up with a route for next week.'}\n",
      "  Score: 0.7439\n",
      "  Dialogue: Jolene: Hello everyone! I have created this group to keep all of the discussions in one place :)\n",
      "Jolene: It seems like not everyone checks our facebo...\n",
      "--------------------\n",
      "{'id': '13829492', 'dialogue': 'Paul: Ok, I need all the details\\r\\nRetha: Like what?\\r\\nPaul: How many people, where do we want to go (have you found some places already?), timetables, breaks, places to eat\\r\\nRetha: Lol I know almost nothing\\r\\nPaul: Seriously! The trip is in 6 days!\\r\\nRetha: I know but I got sick, I tried but it didn’t work, that’s why they gave it to you\\r\\nPaul: Right, sure, I’m sorry\\r\\nRetha: I know it shouldn’t be like that, I really care about this initiative\\r\\nPaul: That’s OK, our student research club is only growing, that’s why we need this trip, to get to know each other\\r\\nRetha: And I absolutely screwed up, people paid and nothing is arranged!\\r\\nPaul: Don’t worry, I got this. Sooo is there anything you’ve found out already??\\r\\nRetha: Yes, if we want to leave early there’s a train at 7.30\\r\\nPaul: Lol I think it’s too much, people will be late xD\\r\\nRetha: Ok, so 9.45\\r\\nPaul: Nothing in between?\\r\\nRetha: Nopppe\\r\\nPaul: Have you checked buses?\\r\\nRetha: The travel takes a lot more time when you go by bus\\r\\nPaul: Hmm right\\r\\nRetha: Besides, people will start complaining, trust me\\r\\nPaul: Makes sense, how about the places to go?\\r\\nRetha: I found a list of the most popular attractions, you can use it.\\r\\nPaul: Cool, do they come with prices?\\r\\nRetha: No, you have to call or check the website\\r\\nPaul: A loot of work', 'summary': \"Retha was supposed to organize a trip for the student research club, but she got sick and didn't do it. The trip is in 6 days. The task was assigned to Paul. The suitable trains are at 7:30 and 9:45. Traveling by bus takes a lot longer. Retha has a list of attractions, that Paul can use.\"}\n",
      "  Score: 0.7421\n",
      "  Dialogue: Paul: Ok, I need all the details\n",
      "Retha: Like what?\n",
      "Paul: How many people, where do we want to go (have you found some places already?), timetables, ...\n",
      "--------------------\n",
      "{'id': '13816573', 'dialogue': \"Nina: I am so excited about our trip!!\\r\\nAnna: yeeey\\r\\nAnna: Have you packed yet?\\r\\nNina: I am rolling around with all my clothes on the bed and on the floor ^^\\r\\nAnna: haha same :D\\r\\nNina: How many pairs of shoes are you taking with you?\\r\\nAnna: are you gonna judge me\\r\\nAnna: if I say 4?\\r\\nNina: haha good I got 3 and I really want to take another pair\\r\\nAnna: dont be shy :D\\r\\nNina: is your dad still driving us to the airport?\\r\\nAnna: shit I forgot to mention that\\r\\nAnna: no, unfortunately he's busy :/\\r\\nNina: I'll ask Manny then\\r\\nAnna: since when he has a car?\\r\\nNina: since yesterday :D\\r\\nAnna: then he must be dying to give people lifts :D\\r\\nNina: yeah :D\\r\\nAnna: good ask him and let me know\\r\\nNina: Ok!\", 'summary': \"Anna and Nina are going on a trip together. They are packing. Anna's father is too busy to drive them to the airport but maybe Manny will do it.\"}\n",
      "  Score: 0.7417\n",
      "  Dialogue: Nina: I am so excited about our trip!!\n",
      "Anna: yeeey\n",
      "Anna: Have you packed yet?\n",
      "Nina: I am rolling around with all my clothes on the bed and on the f...\n",
      "--------------------\n"
     ]
    }
   ],
   "source": [
    "\n",
    "try:\n",
    "    # query_text = \"Does anyone who feel tired during works?\"\n",
    "    query_text = \"我想知道有誰在討論旅遊很開心，把他們名字都列出來\"\n",
    "    # 產生查詢語句的 embedding\n",
    "    embedding_model_config = config.get_data_embedding_config()\n",
    "    embedding_model = EmbeddingModel(config= embedding_model_config)\n",
    "    query_embedding = embedding_model.encode([query_text])[0]\n",
    "\n",
    "    search_results = vector_store.similarity_search(query_embedding, top_k=10)\n",
    "    \n",
    "    print(f\"\\nQuery: '{query_text}'\")\n",
    "    print(\"Top 10 similar dialogues:\")\n",
    "    for doc, score in search_results:\n",
    "        print(doc)\n",
    "        print(f\"  Score: {score:.4f}\")\n",
    "        print(f\"  Dialogue: {doc['dialogue'][:150]}...\") # 只顯示部分對話內容\n",
    "        print(\"-\" * 20)\n",
    "\n",
    "except Exception as e:\n",
    "    raise e"
   ]
  },
  {
   "cell_type": "code",
   "execution_count": null,
   "id": "b089b789",
   "metadata": {},
   "outputs": [],
   "source": []
  }
 ],
 "metadata": {
  "kernelspec": {
   "display_name": "legalrag",
   "language": "python",
   "name": "python3"
  },
  "language_info": {
   "codemirror_mode": {
    "name": "ipython",
    "version": 3
   },
   "file_extension": ".py",
   "mimetype": "text/x-python",
   "name": "python",
   "nbconvert_exporter": "python",
   "pygments_lexer": "ipython3",
   "version": "3.10.18"
  }
 },
 "nbformat": 4,
 "nbformat_minor": 5
}
